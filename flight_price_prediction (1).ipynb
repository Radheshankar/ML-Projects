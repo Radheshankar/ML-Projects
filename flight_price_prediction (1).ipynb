{
  "cells": [
    {
      "cell_type": "markdown",
      "id": "90fb0414",
      "metadata": {
        "papermill": {
          "duration": 0.01772,
          "end_time": "2022-08-10T12:09:52.403166",
          "exception": false,
          "start_time": "2022-08-10T12:09:52.385446",
          "status": "completed"
        },
        "tags": [],
        "id": "90fb0414"
      },
      "source": [
        "## The Notebook Involves in Data Analysis for Flight Price of Indian Airline Carriers, created a dashboard for ticket price in India by the help of tableau and also testing out the best Model for the regression analysis."
      ]
    },
    {
      "cell_type": "code",
      "execution_count": 3,
      "id": "4508ee61",
      "metadata": {
        "execution": {
          "iopub.execute_input": "2022-08-10T12:09:52.439214Z",
          "iopub.status.busy": "2022-08-10T12:09:52.438733Z",
          "iopub.status.idle": "2022-08-10T12:09:54.787926Z",
          "shell.execute_reply": "2022-08-10T12:09:54.786565Z"
        },
        "papermill": {
          "duration": 2.369564,
          "end_time": "2022-08-10T12:09:54.790976",
          "exception": false,
          "start_time": "2022-08-10T12:09:52.421412",
          "status": "completed"
        },
        "tags": [],
        "id": "4508ee61"
      },
      "outputs": [],
      "source": [
        "import pandas as pd\n",
        "import numpy as np\n",
        "import matplotlib.pyplot as plt\n",
        "import plotly.express as px\n",
        "import seaborn as sns\n",
        "import plotly.graph_objects as go"
      ]
    },
    {
      "cell_type": "code",
      "execution_count": 4,
      "id": "53c93e98",
      "metadata": {
        "execution": {
          "iopub.execute_input": "2022-08-10T12:09:54.825622Z",
          "iopub.status.busy": "2022-08-10T12:09:54.825232Z",
          "iopub.status.idle": "2022-08-10T12:09:54.831696Z",
          "shell.execute_reply": "2022-08-10T12:09:54.830842Z"
        },
        "papermill": {
          "duration": 0.026267,
          "end_time": "2022-08-10T12:09:54.834095",
          "exception": false,
          "start_time": "2022-08-10T12:09:54.807828",
          "status": "completed"
        },
        "tags": [],
        "id": "53c93e98"
      },
      "outputs": [],
      "source": [
        "from plotly.subplots import make_subplots"
      ]
    },
    {
      "cell_type": "code",
      "execution_count": 5,
      "id": "b5e36da2",
      "metadata": {
        "execution": {
          "iopub.execute_input": "2022-08-10T12:09:54.868892Z",
          "iopub.status.busy": "2022-08-10T12:09:54.867844Z",
          "iopub.status.idle": "2022-08-10T12:09:55.595115Z",
          "shell.execute_reply": "2022-08-10T12:09:55.593967Z"
        },
        "papermill": {
          "duration": 0.747501,
          "end_time": "2022-08-10T12:09:55.597966",
          "exception": false,
          "start_time": "2022-08-10T12:09:54.850465",
          "status": "completed"
        },
        "tags": [],
        "id": "b5e36da2"
      },
      "outputs": [],
      "source": [
        "data = pd.read_csv('/content/drive/MyDrive/datasets/Clean_Dataset.csv')"
      ]
    },
    {
      "cell_type": "code",
      "execution_count": 6,
      "id": "42f66753",
      "metadata": {
        "execution": {
          "iopub.execute_input": "2022-08-10T12:09:55.632004Z",
          "iopub.status.busy": "2022-08-10T12:09:55.631583Z",
          "iopub.status.idle": "2022-08-10T12:09:55.656206Z",
          "shell.execute_reply": "2022-08-10T12:09:55.654925Z"
        },
        "papermill": {
          "duration": 0.044946,
          "end_time": "2022-08-10T12:09:55.658984",
          "exception": false,
          "start_time": "2022-08-10T12:09:55.614038",
          "status": "completed"
        },
        "tags": [],
        "id": "42f66753",
        "outputId": "6e069ef9-216e-4940-8bd2-02b544eeab59",
        "colab": {
          "base_uri": "https://localhost:8080/",
          "height": 206
        }
      },
      "outputs": [
        {
          "output_type": "execute_result",
          "data": {
            "text/plain": [
              "   Unnamed: 0   airline   flight source_city departure_time stops  \\\n",
              "0           0  SpiceJet  SG-8709       Delhi        Evening  zero   \n",
              "1           1  SpiceJet  SG-8157       Delhi  Early_Morning  zero   \n",
              "2           2   AirAsia   I5-764       Delhi  Early_Morning  zero   \n",
              "3           3   Vistara   UK-995       Delhi        Morning  zero   \n",
              "4           4   Vistara   UK-963       Delhi        Morning  zero   \n",
              "\n",
              "    arrival_time destination_city    class  duration  days_left  price  \n",
              "0          Night           Mumbai  Economy      2.17          1   5953  \n",
              "1        Morning           Mumbai  Economy      2.33          1   5953  \n",
              "2  Early_Morning           Mumbai  Economy      2.17          1   5956  \n",
              "3      Afternoon           Mumbai  Economy      2.25          1   5955  \n",
              "4        Morning           Mumbai  Economy      2.33          1   5955  "
            ],
            "text/html": [
              "\n",
              "\n",
              "  <div id=\"df-19226380-0067-442e-9451-55dd52d8f619\">\n",
              "    <div class=\"colab-df-container\">\n",
              "      <div>\n",
              "<style scoped>\n",
              "    .dataframe tbody tr th:only-of-type {\n",
              "        vertical-align: middle;\n",
              "    }\n",
              "\n",
              "    .dataframe tbody tr th {\n",
              "        vertical-align: top;\n",
              "    }\n",
              "\n",
              "    .dataframe thead th {\n",
              "        text-align: right;\n",
              "    }\n",
              "</style>\n",
              "<table border=\"1\" class=\"dataframe\">\n",
              "  <thead>\n",
              "    <tr style=\"text-align: right;\">\n",
              "      <th></th>\n",
              "      <th>Unnamed: 0</th>\n",
              "      <th>airline</th>\n",
              "      <th>flight</th>\n",
              "      <th>source_city</th>\n",
              "      <th>departure_time</th>\n",
              "      <th>stops</th>\n",
              "      <th>arrival_time</th>\n",
              "      <th>destination_city</th>\n",
              "      <th>class</th>\n",
              "      <th>duration</th>\n",
              "      <th>days_left</th>\n",
              "      <th>price</th>\n",
              "    </tr>\n",
              "  </thead>\n",
              "  <tbody>\n",
              "    <tr>\n",
              "      <th>0</th>\n",
              "      <td>0</td>\n",
              "      <td>SpiceJet</td>\n",
              "      <td>SG-8709</td>\n",
              "      <td>Delhi</td>\n",
              "      <td>Evening</td>\n",
              "      <td>zero</td>\n",
              "      <td>Night</td>\n",
              "      <td>Mumbai</td>\n",
              "      <td>Economy</td>\n",
              "      <td>2.17</td>\n",
              "      <td>1</td>\n",
              "      <td>5953</td>\n",
              "    </tr>\n",
              "    <tr>\n",
              "      <th>1</th>\n",
              "      <td>1</td>\n",
              "      <td>SpiceJet</td>\n",
              "      <td>SG-8157</td>\n",
              "      <td>Delhi</td>\n",
              "      <td>Early_Morning</td>\n",
              "      <td>zero</td>\n",
              "      <td>Morning</td>\n",
              "      <td>Mumbai</td>\n",
              "      <td>Economy</td>\n",
              "      <td>2.33</td>\n",
              "      <td>1</td>\n",
              "      <td>5953</td>\n",
              "    </tr>\n",
              "    <tr>\n",
              "      <th>2</th>\n",
              "      <td>2</td>\n",
              "      <td>AirAsia</td>\n",
              "      <td>I5-764</td>\n",
              "      <td>Delhi</td>\n",
              "      <td>Early_Morning</td>\n",
              "      <td>zero</td>\n",
              "      <td>Early_Morning</td>\n",
              "      <td>Mumbai</td>\n",
              "      <td>Economy</td>\n",
              "      <td>2.17</td>\n",
              "      <td>1</td>\n",
              "      <td>5956</td>\n",
              "    </tr>\n",
              "    <tr>\n",
              "      <th>3</th>\n",
              "      <td>3</td>\n",
              "      <td>Vistara</td>\n",
              "      <td>UK-995</td>\n",
              "      <td>Delhi</td>\n",
              "      <td>Morning</td>\n",
              "      <td>zero</td>\n",
              "      <td>Afternoon</td>\n",
              "      <td>Mumbai</td>\n",
              "      <td>Economy</td>\n",
              "      <td>2.25</td>\n",
              "      <td>1</td>\n",
              "      <td>5955</td>\n",
              "    </tr>\n",
              "    <tr>\n",
              "      <th>4</th>\n",
              "      <td>4</td>\n",
              "      <td>Vistara</td>\n",
              "      <td>UK-963</td>\n",
              "      <td>Delhi</td>\n",
              "      <td>Morning</td>\n",
              "      <td>zero</td>\n",
              "      <td>Morning</td>\n",
              "      <td>Mumbai</td>\n",
              "      <td>Economy</td>\n",
              "      <td>2.33</td>\n",
              "      <td>1</td>\n",
              "      <td>5955</td>\n",
              "    </tr>\n",
              "  </tbody>\n",
              "</table>\n",
              "</div>\n",
              "      <button class=\"colab-df-convert\" onclick=\"convertToInteractive('df-19226380-0067-442e-9451-55dd52d8f619')\"\n",
              "              title=\"Convert this dataframe to an interactive table.\"\n",
              "              style=\"display:none;\">\n",
              "\n",
              "  <svg xmlns=\"http://www.w3.org/2000/svg\" height=\"24px\"viewBox=\"0 0 24 24\"\n",
              "       width=\"24px\">\n",
              "    <path d=\"M0 0h24v24H0V0z\" fill=\"none\"/>\n",
              "    <path d=\"M18.56 5.44l.94 2.06.94-2.06 2.06-.94-2.06-.94-.94-2.06-.94 2.06-2.06.94zm-11 1L8.5 8.5l.94-2.06 2.06-.94-2.06-.94L8.5 2.5l-.94 2.06-2.06.94zm10 10l.94 2.06.94-2.06 2.06-.94-2.06-.94-.94-2.06-.94 2.06-2.06.94z\"/><path d=\"M17.41 7.96l-1.37-1.37c-.4-.4-.92-.59-1.43-.59-.52 0-1.04.2-1.43.59L10.3 9.45l-7.72 7.72c-.78.78-.78 2.05 0 2.83L4 21.41c.39.39.9.59 1.41.59.51 0 1.02-.2 1.41-.59l7.78-7.78 2.81-2.81c.8-.78.8-2.07 0-2.86zM5.41 20L4 18.59l7.72-7.72 1.47 1.35L5.41 20z\"/>\n",
              "  </svg>\n",
              "      </button>\n",
              "\n",
              "\n",
              "\n",
              "    <div id=\"df-89785d7d-4791-47df-a48a-01b12520d5f4\">\n",
              "      <button class=\"colab-df-quickchart\" onclick=\"quickchart('df-89785d7d-4791-47df-a48a-01b12520d5f4')\"\n",
              "              title=\"Suggest charts.\"\n",
              "              style=\"display:none;\">\n",
              "\n",
              "<svg xmlns=\"http://www.w3.org/2000/svg\" height=\"24px\"viewBox=\"0 0 24 24\"\n",
              "     width=\"24px\">\n",
              "    <g>\n",
              "        <path d=\"M19 3H5c-1.1 0-2 .9-2 2v14c0 1.1.9 2 2 2h14c1.1 0 2-.9 2-2V5c0-1.1-.9-2-2-2zM9 17H7v-7h2v7zm4 0h-2V7h2v10zm4 0h-2v-4h2v4z\"/>\n",
              "    </g>\n",
              "</svg>\n",
              "      </button>\n",
              "    </div>\n",
              "\n",
              "<style>\n",
              "  .colab-df-quickchart {\n",
              "    background-color: #E8F0FE;\n",
              "    border: none;\n",
              "    border-radius: 50%;\n",
              "    cursor: pointer;\n",
              "    display: none;\n",
              "    fill: #1967D2;\n",
              "    height: 32px;\n",
              "    padding: 0 0 0 0;\n",
              "    width: 32px;\n",
              "  }\n",
              "\n",
              "  .colab-df-quickchart:hover {\n",
              "    background-color: #E2EBFA;\n",
              "    box-shadow: 0px 1px 2px rgba(60, 64, 67, 0.3), 0px 1px 3px 1px rgba(60, 64, 67, 0.15);\n",
              "    fill: #174EA6;\n",
              "  }\n",
              "\n",
              "  [theme=dark] .colab-df-quickchart {\n",
              "    background-color: #3B4455;\n",
              "    fill: #D2E3FC;\n",
              "  }\n",
              "\n",
              "  [theme=dark] .colab-df-quickchart:hover {\n",
              "    background-color: #434B5C;\n",
              "    box-shadow: 0px 1px 3px 1px rgba(0, 0, 0, 0.15);\n",
              "    filter: drop-shadow(0px 1px 2px rgba(0, 0, 0, 0.3));\n",
              "    fill: #FFFFFF;\n",
              "  }\n",
              "</style>\n",
              "\n",
              "    <script>\n",
              "      async function quickchart(key) {\n",
              "        const containerElement = document.querySelector('#' + key);\n",
              "        const charts = await google.colab.kernel.invokeFunction(\n",
              "            'suggestCharts', [key], {});\n",
              "      }\n",
              "    </script>\n",
              "\n",
              "      <script>\n",
              "\n",
              "function displayQuickchartButton(domScope) {\n",
              "  let quickchartButtonEl =\n",
              "    domScope.querySelector('#df-89785d7d-4791-47df-a48a-01b12520d5f4 button.colab-df-quickchart');\n",
              "  quickchartButtonEl.style.display =\n",
              "    google.colab.kernel.accessAllowed ? 'block' : 'none';\n",
              "}\n",
              "\n",
              "        displayQuickchartButton(document);\n",
              "      </script>\n",
              "      <style>\n",
              "    .colab-df-container {\n",
              "      display:flex;\n",
              "      flex-wrap:wrap;\n",
              "      gap: 12px;\n",
              "    }\n",
              "\n",
              "    .colab-df-convert {\n",
              "      background-color: #E8F0FE;\n",
              "      border: none;\n",
              "      border-radius: 50%;\n",
              "      cursor: pointer;\n",
              "      display: none;\n",
              "      fill: #1967D2;\n",
              "      height: 32px;\n",
              "      padding: 0 0 0 0;\n",
              "      width: 32px;\n",
              "    }\n",
              "\n",
              "    .colab-df-convert:hover {\n",
              "      background-color: #E2EBFA;\n",
              "      box-shadow: 0px 1px 2px rgba(60, 64, 67, 0.3), 0px 1px 3px 1px rgba(60, 64, 67, 0.15);\n",
              "      fill: #174EA6;\n",
              "    }\n",
              "\n",
              "    [theme=dark] .colab-df-convert {\n",
              "      background-color: #3B4455;\n",
              "      fill: #D2E3FC;\n",
              "    }\n",
              "\n",
              "    [theme=dark] .colab-df-convert:hover {\n",
              "      background-color: #434B5C;\n",
              "      box-shadow: 0px 1px 3px 1px rgba(0, 0, 0, 0.15);\n",
              "      filter: drop-shadow(0px 1px 2px rgba(0, 0, 0, 0.3));\n",
              "      fill: #FFFFFF;\n",
              "    }\n",
              "  </style>\n",
              "\n",
              "      <script>\n",
              "        const buttonEl =\n",
              "          document.querySelector('#df-19226380-0067-442e-9451-55dd52d8f619 button.colab-df-convert');\n",
              "        buttonEl.style.display =\n",
              "          google.colab.kernel.accessAllowed ? 'block' : 'none';\n",
              "\n",
              "        async function convertToInteractive(key) {\n",
              "          const element = document.querySelector('#df-19226380-0067-442e-9451-55dd52d8f619');\n",
              "          const dataTable =\n",
              "            await google.colab.kernel.invokeFunction('convertToInteractive',\n",
              "                                                     [key], {});\n",
              "          if (!dataTable) return;\n",
              "\n",
              "          const docLinkHtml = 'Like what you see? Visit the ' +\n",
              "            '<a target=\"_blank\" href=https://colab.research.google.com/notebooks/data_table.ipynb>data table notebook</a>'\n",
              "            + ' to learn more about interactive tables.';\n",
              "          element.innerHTML = '';\n",
              "          dataTable['output_type'] = 'display_data';\n",
              "          await google.colab.output.renderOutput(dataTable, element);\n",
              "          const docLink = document.createElement('div');\n",
              "          docLink.innerHTML = docLinkHtml;\n",
              "          element.appendChild(docLink);\n",
              "        }\n",
              "      </script>\n",
              "    </div>\n",
              "  </div>\n"
            ]
          },
          "metadata": {},
          "execution_count": 6
        }
      ],
      "source": [
        "data.head()"
      ]
    },
    {
      "cell_type": "code",
      "execution_count": 7,
      "id": "3b77370f",
      "metadata": {
        "execution": {
          "iopub.execute_input": "2022-08-10T12:09:55.694520Z",
          "iopub.status.busy": "2022-08-10T12:09:55.693239Z",
          "iopub.status.idle": "2022-08-10T12:09:55.738077Z",
          "shell.execute_reply": "2022-08-10T12:09:55.736919Z"
        },
        "papermill": {
          "duration": 0.065649,
          "end_time": "2022-08-10T12:09:55.741053",
          "exception": false,
          "start_time": "2022-08-10T12:09:55.675404",
          "status": "completed"
        },
        "tags": [],
        "id": "3b77370f"
      },
      "outputs": [],
      "source": [
        "data = data.drop('Unnamed: 0',axis=1)"
      ]
    },
    {
      "cell_type": "code",
      "execution_count": 8,
      "id": "43a70dbd",
      "metadata": {
        "execution": {
          "iopub.execute_input": "2022-08-10T12:09:55.776604Z",
          "iopub.status.busy": "2022-08-10T12:09:55.776184Z",
          "iopub.status.idle": "2022-08-10T12:09:55.902641Z",
          "shell.execute_reply": "2022-08-10T12:09:55.901169Z"
        },
        "papermill": {
          "duration": 0.148045,
          "end_time": "2022-08-10T12:09:55.905783",
          "exception": false,
          "start_time": "2022-08-10T12:09:55.757738",
          "status": "completed"
        },
        "tags": [],
        "id": "43a70dbd",
        "outputId": "db78b132-ea32-4eda-f44f-58f458057ed5",
        "colab": {
          "base_uri": "https://localhost:8080/"
        }
      },
      "outputs": [
        {
          "output_type": "stream",
          "name": "stdout",
          "text": [
            "<class 'pandas.core.frame.DataFrame'>\n",
            "RangeIndex: 300153 entries, 0 to 300152\n",
            "Data columns (total 11 columns):\n",
            " #   Column            Non-Null Count   Dtype  \n",
            "---  ------            --------------   -----  \n",
            " 0   airline           300153 non-null  object \n",
            " 1   flight            300153 non-null  object \n",
            " 2   source_city       300153 non-null  object \n",
            " 3   departure_time    300153 non-null  object \n",
            " 4   stops             300153 non-null  object \n",
            " 5   arrival_time      300153 non-null  object \n",
            " 6   destination_city  300153 non-null  object \n",
            " 7   class             300153 non-null  object \n",
            " 8   duration          300153 non-null  float64\n",
            " 9   days_left         300153 non-null  int64  \n",
            " 10  price             300153 non-null  int64  \n",
            "dtypes: float64(1), int64(2), object(8)\n",
            "memory usage: 25.2+ MB\n"
          ]
        }
      ],
      "source": [
        "data.info()"
      ]
    },
    {
      "cell_type": "code",
      "execution_count": 9,
      "id": "1c888944",
      "metadata": {
        "execution": {
          "iopub.execute_input": "2022-08-10T12:09:55.942108Z",
          "iopub.status.busy": "2022-08-10T12:09:55.941446Z",
          "iopub.status.idle": "2022-08-10T12:09:56.051334Z",
          "shell.execute_reply": "2022-08-10T12:09:56.050195Z"
        },
        "papermill": {
          "duration": 0.131517,
          "end_time": "2022-08-10T12:09:56.054309",
          "exception": false,
          "start_time": "2022-08-10T12:09:55.922792",
          "status": "completed"
        },
        "tags": [],
        "id": "1c888944",
        "outputId": "143c5a0c-f305-496a-cd2c-922ca41d55ca",
        "colab": {
          "base_uri": "https://localhost:8080/"
        }
      },
      "outputs": [
        {
          "output_type": "execute_result",
          "data": {
            "text/plain": [
              "airline             False\n",
              "flight              False\n",
              "source_city         False\n",
              "departure_time      False\n",
              "stops               False\n",
              "arrival_time        False\n",
              "destination_city    False\n",
              "class               False\n",
              "duration            False\n",
              "days_left           False\n",
              "price               False\n",
              "dtype: bool"
            ]
          },
          "metadata": {},
          "execution_count": 9
        }
      ],
      "source": [
        "data.isna().any()"
      ]
    },
    {
      "cell_type": "code",
      "execution_count": 10,
      "id": "4f16c46e",
      "metadata": {
        "execution": {
          "iopub.execute_input": "2022-08-10T12:09:56.091091Z",
          "iopub.status.busy": "2022-08-10T12:09:56.090258Z",
          "iopub.status.idle": "2022-08-10T12:09:56.107211Z",
          "shell.execute_reply": "2022-08-10T12:09:56.106404Z"
        },
        "papermill": {
          "duration": 0.037812,
          "end_time": "2022-08-10T12:09:56.109692",
          "exception": false,
          "start_time": "2022-08-10T12:09:56.071880",
          "status": "completed"
        },
        "tags": [],
        "id": "4f16c46e",
        "outputId": "8bb57ab9-0a49-48ae-8e1e-4882b5e55548",
        "colab": {
          "base_uri": "https://localhost:8080/",
          "height": 206
        }
      },
      "outputs": [
        {
          "output_type": "execute_result",
          "data": {
            "text/plain": [
              "    airline   flight source_city departure_time stops   arrival_time  \\\n",
              "0  SpiceJet  SG-8709       Delhi        Evening  zero          Night   \n",
              "1  SpiceJet  SG-8157       Delhi  Early_Morning  zero        Morning   \n",
              "2   AirAsia   I5-764       Delhi  Early_Morning  zero  Early_Morning   \n",
              "3   Vistara   UK-995       Delhi        Morning  zero      Afternoon   \n",
              "4   Vistara   UK-963       Delhi        Morning  zero        Morning   \n",
              "\n",
              "  destination_city    class  duration  days_left  price  \n",
              "0           Mumbai  Economy      2.17          1   5953  \n",
              "1           Mumbai  Economy      2.33          1   5953  \n",
              "2           Mumbai  Economy      2.17          1   5956  \n",
              "3           Mumbai  Economy      2.25          1   5955  \n",
              "4           Mumbai  Economy      2.33          1   5955  "
            ],
            "text/html": [
              "\n",
              "\n",
              "  <div id=\"df-c7105f54-8763-4df1-9f3c-6769bcb02339\">\n",
              "    <div class=\"colab-df-container\">\n",
              "      <div>\n",
              "<style scoped>\n",
              "    .dataframe tbody tr th:only-of-type {\n",
              "        vertical-align: middle;\n",
              "    }\n",
              "\n",
              "    .dataframe tbody tr th {\n",
              "        vertical-align: top;\n",
              "    }\n",
              "\n",
              "    .dataframe thead th {\n",
              "        text-align: right;\n",
              "    }\n",
              "</style>\n",
              "<table border=\"1\" class=\"dataframe\">\n",
              "  <thead>\n",
              "    <tr style=\"text-align: right;\">\n",
              "      <th></th>\n",
              "      <th>airline</th>\n",
              "      <th>flight</th>\n",
              "      <th>source_city</th>\n",
              "      <th>departure_time</th>\n",
              "      <th>stops</th>\n",
              "      <th>arrival_time</th>\n",
              "      <th>destination_city</th>\n",
              "      <th>class</th>\n",
              "      <th>duration</th>\n",
              "      <th>days_left</th>\n",
              "      <th>price</th>\n",
              "    </tr>\n",
              "  </thead>\n",
              "  <tbody>\n",
              "    <tr>\n",
              "      <th>0</th>\n",
              "      <td>SpiceJet</td>\n",
              "      <td>SG-8709</td>\n",
              "      <td>Delhi</td>\n",
              "      <td>Evening</td>\n",
              "      <td>zero</td>\n",
              "      <td>Night</td>\n",
              "      <td>Mumbai</td>\n",
              "      <td>Economy</td>\n",
              "      <td>2.17</td>\n",
              "      <td>1</td>\n",
              "      <td>5953</td>\n",
              "    </tr>\n",
              "    <tr>\n",
              "      <th>1</th>\n",
              "      <td>SpiceJet</td>\n",
              "      <td>SG-8157</td>\n",
              "      <td>Delhi</td>\n",
              "      <td>Early_Morning</td>\n",
              "      <td>zero</td>\n",
              "      <td>Morning</td>\n",
              "      <td>Mumbai</td>\n",
              "      <td>Economy</td>\n",
              "      <td>2.33</td>\n",
              "      <td>1</td>\n",
              "      <td>5953</td>\n",
              "    </tr>\n",
              "    <tr>\n",
              "      <th>2</th>\n",
              "      <td>AirAsia</td>\n",
              "      <td>I5-764</td>\n",
              "      <td>Delhi</td>\n",
              "      <td>Early_Morning</td>\n",
              "      <td>zero</td>\n",
              "      <td>Early_Morning</td>\n",
              "      <td>Mumbai</td>\n",
              "      <td>Economy</td>\n",
              "      <td>2.17</td>\n",
              "      <td>1</td>\n",
              "      <td>5956</td>\n",
              "    </tr>\n",
              "    <tr>\n",
              "      <th>3</th>\n",
              "      <td>Vistara</td>\n",
              "      <td>UK-995</td>\n",
              "      <td>Delhi</td>\n",
              "      <td>Morning</td>\n",
              "      <td>zero</td>\n",
              "      <td>Afternoon</td>\n",
              "      <td>Mumbai</td>\n",
              "      <td>Economy</td>\n",
              "      <td>2.25</td>\n",
              "      <td>1</td>\n",
              "      <td>5955</td>\n",
              "    </tr>\n",
              "    <tr>\n",
              "      <th>4</th>\n",
              "      <td>Vistara</td>\n",
              "      <td>UK-963</td>\n",
              "      <td>Delhi</td>\n",
              "      <td>Morning</td>\n",
              "      <td>zero</td>\n",
              "      <td>Morning</td>\n",
              "      <td>Mumbai</td>\n",
              "      <td>Economy</td>\n",
              "      <td>2.33</td>\n",
              "      <td>1</td>\n",
              "      <td>5955</td>\n",
              "    </tr>\n",
              "  </tbody>\n",
              "</table>\n",
              "</div>\n",
              "      <button class=\"colab-df-convert\" onclick=\"convertToInteractive('df-c7105f54-8763-4df1-9f3c-6769bcb02339')\"\n",
              "              title=\"Convert this dataframe to an interactive table.\"\n",
              "              style=\"display:none;\">\n",
              "\n",
              "  <svg xmlns=\"http://www.w3.org/2000/svg\" height=\"24px\"viewBox=\"0 0 24 24\"\n",
              "       width=\"24px\">\n",
              "    <path d=\"M0 0h24v24H0V0z\" fill=\"none\"/>\n",
              "    <path d=\"M18.56 5.44l.94 2.06.94-2.06 2.06-.94-2.06-.94-.94-2.06-.94 2.06-2.06.94zm-11 1L8.5 8.5l.94-2.06 2.06-.94-2.06-.94L8.5 2.5l-.94 2.06-2.06.94zm10 10l.94 2.06.94-2.06 2.06-.94-2.06-.94-.94-2.06-.94 2.06-2.06.94z\"/><path d=\"M17.41 7.96l-1.37-1.37c-.4-.4-.92-.59-1.43-.59-.52 0-1.04.2-1.43.59L10.3 9.45l-7.72 7.72c-.78.78-.78 2.05 0 2.83L4 21.41c.39.39.9.59 1.41.59.51 0 1.02-.2 1.41-.59l7.78-7.78 2.81-2.81c.8-.78.8-2.07 0-2.86zM5.41 20L4 18.59l7.72-7.72 1.47 1.35L5.41 20z\"/>\n",
              "  </svg>\n",
              "      </button>\n",
              "\n",
              "\n",
              "\n",
              "    <div id=\"df-bbb5ac8f-02e2-4bbb-9cc0-cc8f314b831e\">\n",
              "      <button class=\"colab-df-quickchart\" onclick=\"quickchart('df-bbb5ac8f-02e2-4bbb-9cc0-cc8f314b831e')\"\n",
              "              title=\"Suggest charts.\"\n",
              "              style=\"display:none;\">\n",
              "\n",
              "<svg xmlns=\"http://www.w3.org/2000/svg\" height=\"24px\"viewBox=\"0 0 24 24\"\n",
              "     width=\"24px\">\n",
              "    <g>\n",
              "        <path d=\"M19 3H5c-1.1 0-2 .9-2 2v14c0 1.1.9 2 2 2h14c1.1 0 2-.9 2-2V5c0-1.1-.9-2-2-2zM9 17H7v-7h2v7zm4 0h-2V7h2v10zm4 0h-2v-4h2v4z\"/>\n",
              "    </g>\n",
              "</svg>\n",
              "      </button>\n",
              "    </div>\n",
              "\n",
              "<style>\n",
              "  .colab-df-quickchart {\n",
              "    background-color: #E8F0FE;\n",
              "    border: none;\n",
              "    border-radius: 50%;\n",
              "    cursor: pointer;\n",
              "    display: none;\n",
              "    fill: #1967D2;\n",
              "    height: 32px;\n",
              "    padding: 0 0 0 0;\n",
              "    width: 32px;\n",
              "  }\n",
              "\n",
              "  .colab-df-quickchart:hover {\n",
              "    background-color: #E2EBFA;\n",
              "    box-shadow: 0px 1px 2px rgba(60, 64, 67, 0.3), 0px 1px 3px 1px rgba(60, 64, 67, 0.15);\n",
              "    fill: #174EA6;\n",
              "  }\n",
              "\n",
              "  [theme=dark] .colab-df-quickchart {\n",
              "    background-color: #3B4455;\n",
              "    fill: #D2E3FC;\n",
              "  }\n",
              "\n",
              "  [theme=dark] .colab-df-quickchart:hover {\n",
              "    background-color: #434B5C;\n",
              "    box-shadow: 0px 1px 3px 1px rgba(0, 0, 0, 0.15);\n",
              "    filter: drop-shadow(0px 1px 2px rgba(0, 0, 0, 0.3));\n",
              "    fill: #FFFFFF;\n",
              "  }\n",
              "</style>\n",
              "\n",
              "    <script>\n",
              "      async function quickchart(key) {\n",
              "        const containerElement = document.querySelector('#' + key);\n",
              "        const charts = await google.colab.kernel.invokeFunction(\n",
              "            'suggestCharts', [key], {});\n",
              "      }\n",
              "    </script>\n",
              "\n",
              "      <script>\n",
              "\n",
              "function displayQuickchartButton(domScope) {\n",
              "  let quickchartButtonEl =\n",
              "    domScope.querySelector('#df-bbb5ac8f-02e2-4bbb-9cc0-cc8f314b831e button.colab-df-quickchart');\n",
              "  quickchartButtonEl.style.display =\n",
              "    google.colab.kernel.accessAllowed ? 'block' : 'none';\n",
              "}\n",
              "\n",
              "        displayQuickchartButton(document);\n",
              "      </script>\n",
              "      <style>\n",
              "    .colab-df-container {\n",
              "      display:flex;\n",
              "      flex-wrap:wrap;\n",
              "      gap: 12px;\n",
              "    }\n",
              "\n",
              "    .colab-df-convert {\n",
              "      background-color: #E8F0FE;\n",
              "      border: none;\n",
              "      border-radius: 50%;\n",
              "      cursor: pointer;\n",
              "      display: none;\n",
              "      fill: #1967D2;\n",
              "      height: 32px;\n",
              "      padding: 0 0 0 0;\n",
              "      width: 32px;\n",
              "    }\n",
              "\n",
              "    .colab-df-convert:hover {\n",
              "      background-color: #E2EBFA;\n",
              "      box-shadow: 0px 1px 2px rgba(60, 64, 67, 0.3), 0px 1px 3px 1px rgba(60, 64, 67, 0.15);\n",
              "      fill: #174EA6;\n",
              "    }\n",
              "\n",
              "    [theme=dark] .colab-df-convert {\n",
              "      background-color: #3B4455;\n",
              "      fill: #D2E3FC;\n",
              "    }\n",
              "\n",
              "    [theme=dark] .colab-df-convert:hover {\n",
              "      background-color: #434B5C;\n",
              "      box-shadow: 0px 1px 3px 1px rgba(0, 0, 0, 0.15);\n",
              "      filter: drop-shadow(0px 1px 2px rgba(0, 0, 0, 0.3));\n",
              "      fill: #FFFFFF;\n",
              "    }\n",
              "  </style>\n",
              "\n",
              "      <script>\n",
              "        const buttonEl =\n",
              "          document.querySelector('#df-c7105f54-8763-4df1-9f3c-6769bcb02339 button.colab-df-convert');\n",
              "        buttonEl.style.display =\n",
              "          google.colab.kernel.accessAllowed ? 'block' : 'none';\n",
              "\n",
              "        async function convertToInteractive(key) {\n",
              "          const element = document.querySelector('#df-c7105f54-8763-4df1-9f3c-6769bcb02339');\n",
              "          const dataTable =\n",
              "            await google.colab.kernel.invokeFunction('convertToInteractive',\n",
              "                                                     [key], {});\n",
              "          if (!dataTable) return;\n",
              "\n",
              "          const docLinkHtml = 'Like what you see? Visit the ' +\n",
              "            '<a target=\"_blank\" href=https://colab.research.google.com/notebooks/data_table.ipynb>data table notebook</a>'\n",
              "            + ' to learn more about interactive tables.';\n",
              "          element.innerHTML = '';\n",
              "          dataTable['output_type'] = 'display_data';\n",
              "          await google.colab.output.renderOutput(dataTable, element);\n",
              "          const docLink = document.createElement('div');\n",
              "          docLink.innerHTML = docLinkHtml;\n",
              "          element.appendChild(docLink);\n",
              "        }\n",
              "      </script>\n",
              "    </div>\n",
              "  </div>\n"
            ]
          },
          "metadata": {},
          "execution_count": 10
        }
      ],
      "source": [
        "data.head()"
      ]
    },
    {
      "cell_type": "code",
      "execution_count": 11,
      "id": "77f7b7e9",
      "metadata": {
        "execution": {
          "iopub.execute_input": "2022-08-10T12:09:56.147849Z",
          "iopub.status.busy": "2022-08-10T12:09:56.146463Z",
          "iopub.status.idle": "2022-08-10T12:09:56.173957Z",
          "shell.execute_reply": "2022-08-10T12:09:56.172742Z"
        },
        "papermill": {
          "duration": 0.049363,
          "end_time": "2022-08-10T12:09:56.176698",
          "exception": false,
          "start_time": "2022-08-10T12:09:56.127335",
          "status": "completed"
        },
        "tags": [],
        "id": "77f7b7e9",
        "outputId": "939eacd3-7e9f-4cd1-a5eb-2146c079bb50",
        "colab": {
          "base_uri": "https://localhost:8080/"
        }
      },
      "outputs": [
        {
          "output_type": "execute_result",
          "data": {
            "text/plain": [
              "Vistara      127859\n",
              "Air_India     80892\n",
              "Indigo        43120\n",
              "GO_FIRST      23173\n",
              "AirAsia       16098\n",
              "SpiceJet       9011\n",
              "Name: airline, dtype: int64"
            ]
          },
          "metadata": {},
          "execution_count": 11
        }
      ],
      "source": [
        "#Number of flights operating per each airline\n",
        "data['airline'].value_counts()"
      ]
    },
    {
      "cell_type": "code",
      "execution_count": 12,
      "id": "1e86e085",
      "metadata": {
        "execution": {
          "iopub.execute_input": "2022-08-10T12:09:56.214106Z",
          "iopub.status.busy": "2022-08-10T12:09:56.212818Z",
          "iopub.status.idle": "2022-08-10T12:09:56.218535Z",
          "shell.execute_reply": "2022-08-10T12:09:56.217707Z"
        },
        "papermill": {
          "duration": 0.027018,
          "end_time": "2022-08-10T12:09:56.221173",
          "exception": false,
          "start_time": "2022-08-10T12:09:56.194155",
          "status": "completed"
        },
        "tags": [],
        "id": "1e86e085"
      },
      "outputs": [],
      "source": [
        "# vistara is operating most of the routes"
      ]
    },
    {
      "cell_type": "code",
      "execution_count": 13,
      "id": "b5e2191e",
      "metadata": {
        "execution": {
          "iopub.execute_input": "2022-08-10T12:09:56.258696Z",
          "iopub.status.busy": "2022-08-10T12:09:56.257839Z",
          "iopub.status.idle": "2022-08-10T12:09:56.440649Z",
          "shell.execute_reply": "2022-08-10T12:09:56.439534Z"
        },
        "papermill": {
          "duration": 0.204931,
          "end_time": "2022-08-10T12:09:56.443414",
          "exception": false,
          "start_time": "2022-08-10T12:09:56.238483",
          "status": "completed"
        },
        "tags": [],
        "id": "b5e2191e",
        "colab": {
          "base_uri": "https://localhost:8080/"
        },
        "outputId": "c5322866-1bf6-411d-baef-563ce7553be8"
      },
      "outputs": [
        {
          "output_type": "stream",
          "name": "stderr",
          "text": [
            "<ipython-input-13-926923a646b5>:1: FutureWarning: The default value of numeric_only in DataFrameGroupBy.mean is deprecated. In a future version, numeric_only will default to False. Either specify numeric_only or select only columns which should be valid for the function.\n",
            "  price_by_airline = data.groupby('airline').mean()['price']\n"
          ]
        }
      ],
      "source": [
        "price_by_airline = data.groupby('airline').mean()['price']\n",
        "airline = [i for i,df in data.groupby('airline')]"
      ]
    },
    {
      "cell_type": "code",
      "execution_count": 14,
      "id": "12a56b04",
      "metadata": {
        "execution": {
          "iopub.execute_input": "2022-08-10T12:09:56.480412Z",
          "iopub.status.busy": "2022-08-10T12:09:56.479561Z",
          "iopub.status.idle": "2022-08-10T12:09:57.591579Z",
          "shell.execute_reply": "2022-08-10T12:09:57.590278Z"
        },
        "papermill": {
          "duration": 1.133402,
          "end_time": "2022-08-10T12:09:57.594215",
          "exception": false,
          "start_time": "2022-08-10T12:09:56.460813",
          "status": "completed"
        },
        "tags": [],
        "id": "12a56b04",
        "outputId": "ff5fb6c3-58ec-4ecc-f57d-3deb450fad62",
        "colab": {
          "base_uri": "https://localhost:8080/",
          "height": 417
        }
      },
      "outputs": [
        {
          "output_type": "display_data",
          "data": {
            "text/html": [
              "<html>\n",
              "<head><meta charset=\"utf-8\" /></head>\n",
              "<body>\n",
              "    <div>            <script src=\"https://cdnjs.cloudflare.com/ajax/libs/mathjax/2.7.5/MathJax.js?config=TeX-AMS-MML_SVG\"></script><script type=\"text/javascript\">if (window.MathJax && window.MathJax.Hub && window.MathJax.Hub.Config) {window.MathJax.Hub.Config({SVG: {font: \"STIX-Web\"}});}</script>                <script type=\"text/javascript\">window.PlotlyConfig = {MathJaxConfig: 'local'};</script>\n",
              "        <script src=\"https://cdn.plot.ly/plotly-2.18.2.min.js\"></script>                <div id=\"180b4901-916e-4534-b3b2-65f3e134cbb6\" class=\"plotly-graph-div\" style=\"height:400px; width:800px;\"></div>            <script type=\"text/javascript\">                                    window.PLOTLYENV=window.PLOTLYENV || {};                                    if (document.getElementById(\"180b4901-916e-4534-b3b2-65f3e134cbb6\")) {                    Plotly.newPlot(                        \"180b4901-916e-4534-b3b2-65f3e134cbb6\",                        [{\"alignmentgroup\":\"True\",\"hovertemplate\":\"Airline=%{x}<br>Average Ticket Price=%{y}<br>color=%{marker.color}<extra></extra>\",\"legendgroup\":\"\",\"marker\":{\"color\":[4091.0727419555224,23507.01911190229,5652.007595045959,5324.216303339517,6179.278881367218,30396.53630170735],\"coloraxis\":\"coloraxis\",\"pattern\":{\"shape\":\"\"}},\"name\":\"\",\"offsetgroup\":\"\",\"orientation\":\"v\",\"showlegend\":false,\"textposition\":\"auto\",\"x\":[\"AirAsia\",\"Air_India\",\"GO_FIRST\",\"Indigo\",\"SpiceJet\",\"Vistara\"],\"xaxis\":\"x\",\"y\":[4091.0727419555224,23507.01911190229,5652.007595045959,5324.216303339517,6179.278881367218,30396.53630170735],\"yaxis\":\"y\",\"type\":\"bar\"}],                        {\"template\":{\"data\":{\"histogram2dcontour\":[{\"type\":\"histogram2dcontour\",\"colorbar\":{\"outlinewidth\":0,\"ticks\":\"\"},\"colorscale\":[[0.0,\"#0d0887\"],[0.1111111111111111,\"#46039f\"],[0.2222222222222222,\"#7201a8\"],[0.3333333333333333,\"#9c179e\"],[0.4444444444444444,\"#bd3786\"],[0.5555555555555556,\"#d8576b\"],[0.6666666666666666,\"#ed7953\"],[0.7777777777777778,\"#fb9f3a\"],[0.8888888888888888,\"#fdca26\"],[1.0,\"#f0f921\"]]}],\"choropleth\":[{\"type\":\"choropleth\",\"colorbar\":{\"outlinewidth\":0,\"ticks\":\"\"}}],\"histogram2d\":[{\"type\":\"histogram2d\",\"colorbar\":{\"outlinewidth\":0,\"ticks\":\"\"},\"colorscale\":[[0.0,\"#0d0887\"],[0.1111111111111111,\"#46039f\"],[0.2222222222222222,\"#7201a8\"],[0.3333333333333333,\"#9c179e\"],[0.4444444444444444,\"#bd3786\"],[0.5555555555555556,\"#d8576b\"],[0.6666666666666666,\"#ed7953\"],[0.7777777777777778,\"#fb9f3a\"],[0.8888888888888888,\"#fdca26\"],[1.0,\"#f0f921\"]]}],\"heatmap\":[{\"type\":\"heatmap\",\"colorbar\":{\"outlinewidth\":0,\"ticks\":\"\"},\"colorscale\":[[0.0,\"#0d0887\"],[0.1111111111111111,\"#46039f\"],[0.2222222222222222,\"#7201a8\"],[0.3333333333333333,\"#9c179e\"],[0.4444444444444444,\"#bd3786\"],[0.5555555555555556,\"#d8576b\"],[0.6666666666666666,\"#ed7953\"],[0.7777777777777778,\"#fb9f3a\"],[0.8888888888888888,\"#fdca26\"],[1.0,\"#f0f921\"]]}],\"heatmapgl\":[{\"type\":\"heatmapgl\",\"colorbar\":{\"outlinewidth\":0,\"ticks\":\"\"},\"colorscale\":[[0.0,\"#0d0887\"],[0.1111111111111111,\"#46039f\"],[0.2222222222222222,\"#7201a8\"],[0.3333333333333333,\"#9c179e\"],[0.4444444444444444,\"#bd3786\"],[0.5555555555555556,\"#d8576b\"],[0.6666666666666666,\"#ed7953\"],[0.7777777777777778,\"#fb9f3a\"],[0.8888888888888888,\"#fdca26\"],[1.0,\"#f0f921\"]]}],\"contourcarpet\":[{\"type\":\"contourcarpet\",\"colorbar\":{\"outlinewidth\":0,\"ticks\":\"\"}}],\"contour\":[{\"type\":\"contour\",\"colorbar\":{\"outlinewidth\":0,\"ticks\":\"\"},\"colorscale\":[[0.0,\"#0d0887\"],[0.1111111111111111,\"#46039f\"],[0.2222222222222222,\"#7201a8\"],[0.3333333333333333,\"#9c179e\"],[0.4444444444444444,\"#bd3786\"],[0.5555555555555556,\"#d8576b\"],[0.6666666666666666,\"#ed7953\"],[0.7777777777777778,\"#fb9f3a\"],[0.8888888888888888,\"#fdca26\"],[1.0,\"#f0f921\"]]}],\"surface\":[{\"type\":\"surface\",\"colorbar\":{\"outlinewidth\":0,\"ticks\":\"\"},\"colorscale\":[[0.0,\"#0d0887\"],[0.1111111111111111,\"#46039f\"],[0.2222222222222222,\"#7201a8\"],[0.3333333333333333,\"#9c179e\"],[0.4444444444444444,\"#bd3786\"],[0.5555555555555556,\"#d8576b\"],[0.6666666666666666,\"#ed7953\"],[0.7777777777777778,\"#fb9f3a\"],[0.8888888888888888,\"#fdca26\"],[1.0,\"#f0f921\"]]}],\"mesh3d\":[{\"type\":\"mesh3d\",\"colorbar\":{\"outlinewidth\":0,\"ticks\":\"\"}}],\"scatter\":[{\"fillpattern\":{\"fillmode\":\"overlay\",\"size\":10,\"solidity\":0.2},\"type\":\"scatter\"}],\"parcoords\":[{\"type\":\"parcoords\",\"line\":{\"colorbar\":{\"outlinewidth\":0,\"ticks\":\"\"}}}],\"scatterpolargl\":[{\"type\":\"scatterpolargl\",\"marker\":{\"colorbar\":{\"outlinewidth\":0,\"ticks\":\"\"}}}],\"bar\":[{\"error_x\":{\"color\":\"#2a3f5f\"},\"error_y\":{\"color\":\"#2a3f5f\"},\"marker\":{\"line\":{\"color\":\"#E5ECF6\",\"width\":0.5},\"pattern\":{\"fillmode\":\"overlay\",\"size\":10,\"solidity\":0.2}},\"type\":\"bar\"}],\"scattergeo\":[{\"type\":\"scattergeo\",\"marker\":{\"colorbar\":{\"outlinewidth\":0,\"ticks\":\"\"}}}],\"scatterpolar\":[{\"type\":\"scatterpolar\",\"marker\":{\"colorbar\":{\"outlinewidth\":0,\"ticks\":\"\"}}}],\"histogram\":[{\"marker\":{\"pattern\":{\"fillmode\":\"overlay\",\"size\":10,\"solidity\":0.2}},\"type\":\"histogram\"}],\"scattergl\":[{\"type\":\"scattergl\",\"marker\":{\"colorbar\":{\"outlinewidth\":0,\"ticks\":\"\"}}}],\"scatter3d\":[{\"type\":\"scatter3d\",\"line\":{\"colorbar\":{\"outlinewidth\":0,\"ticks\":\"\"}},\"marker\":{\"colorbar\":{\"outlinewidth\":0,\"ticks\":\"\"}}}],\"scattermapbox\":[{\"type\":\"scattermapbox\",\"marker\":{\"colorbar\":{\"outlinewidth\":0,\"ticks\":\"\"}}}],\"scatterternary\":[{\"type\":\"scatterternary\",\"marker\":{\"colorbar\":{\"outlinewidth\":0,\"ticks\":\"\"}}}],\"scattercarpet\":[{\"type\":\"scattercarpet\",\"marker\":{\"colorbar\":{\"outlinewidth\":0,\"ticks\":\"\"}}}],\"carpet\":[{\"aaxis\":{\"endlinecolor\":\"#2a3f5f\",\"gridcolor\":\"white\",\"linecolor\":\"white\",\"minorgridcolor\":\"white\",\"startlinecolor\":\"#2a3f5f\"},\"baxis\":{\"endlinecolor\":\"#2a3f5f\",\"gridcolor\":\"white\",\"linecolor\":\"white\",\"minorgridcolor\":\"white\",\"startlinecolor\":\"#2a3f5f\"},\"type\":\"carpet\"}],\"table\":[{\"cells\":{\"fill\":{\"color\":\"#EBF0F8\"},\"line\":{\"color\":\"white\"}},\"header\":{\"fill\":{\"color\":\"#C8D4E3\"},\"line\":{\"color\":\"white\"}},\"type\":\"table\"}],\"barpolar\":[{\"marker\":{\"line\":{\"color\":\"#E5ECF6\",\"width\":0.5},\"pattern\":{\"fillmode\":\"overlay\",\"size\":10,\"solidity\":0.2}},\"type\":\"barpolar\"}],\"pie\":[{\"automargin\":true,\"type\":\"pie\"}]},\"layout\":{\"autotypenumbers\":\"strict\",\"colorway\":[\"#636efa\",\"#EF553B\",\"#00cc96\",\"#ab63fa\",\"#FFA15A\",\"#19d3f3\",\"#FF6692\",\"#B6E880\",\"#FF97FF\",\"#FECB52\"],\"font\":{\"color\":\"#2a3f5f\"},\"hovermode\":\"closest\",\"hoverlabel\":{\"align\":\"left\"},\"paper_bgcolor\":\"white\",\"plot_bgcolor\":\"#E5ECF6\",\"polar\":{\"bgcolor\":\"#E5ECF6\",\"angularaxis\":{\"gridcolor\":\"white\",\"linecolor\":\"white\",\"ticks\":\"\"},\"radialaxis\":{\"gridcolor\":\"white\",\"linecolor\":\"white\",\"ticks\":\"\"}},\"ternary\":{\"bgcolor\":\"#E5ECF6\",\"aaxis\":{\"gridcolor\":\"white\",\"linecolor\":\"white\",\"ticks\":\"\"},\"baxis\":{\"gridcolor\":\"white\",\"linecolor\":\"white\",\"ticks\":\"\"},\"caxis\":{\"gridcolor\":\"white\",\"linecolor\":\"white\",\"ticks\":\"\"}},\"coloraxis\":{\"colorbar\":{\"outlinewidth\":0,\"ticks\":\"\"}},\"colorscale\":{\"sequential\":[[0.0,\"#0d0887\"],[0.1111111111111111,\"#46039f\"],[0.2222222222222222,\"#7201a8\"],[0.3333333333333333,\"#9c179e\"],[0.4444444444444444,\"#bd3786\"],[0.5555555555555556,\"#d8576b\"],[0.6666666666666666,\"#ed7953\"],[0.7777777777777778,\"#fb9f3a\"],[0.8888888888888888,\"#fdca26\"],[1.0,\"#f0f921\"]],\"sequentialminus\":[[0.0,\"#0d0887\"],[0.1111111111111111,\"#46039f\"],[0.2222222222222222,\"#7201a8\"],[0.3333333333333333,\"#9c179e\"],[0.4444444444444444,\"#bd3786\"],[0.5555555555555556,\"#d8576b\"],[0.6666666666666666,\"#ed7953\"],[0.7777777777777778,\"#fb9f3a\"],[0.8888888888888888,\"#fdca26\"],[1.0,\"#f0f921\"]],\"diverging\":[[0,\"#8e0152\"],[0.1,\"#c51b7d\"],[0.2,\"#de77ae\"],[0.3,\"#f1b6da\"],[0.4,\"#fde0ef\"],[0.5,\"#f7f7f7\"],[0.6,\"#e6f5d0\"],[0.7,\"#b8e186\"],[0.8,\"#7fbc41\"],[0.9,\"#4d9221\"],[1,\"#276419\"]]},\"xaxis\":{\"gridcolor\":\"white\",\"linecolor\":\"white\",\"ticks\":\"\",\"title\":{\"standoff\":15},\"zerolinecolor\":\"white\",\"automargin\":true,\"zerolinewidth\":2},\"yaxis\":{\"gridcolor\":\"white\",\"linecolor\":\"white\",\"ticks\":\"\",\"title\":{\"standoff\":15},\"zerolinecolor\":\"white\",\"automargin\":true,\"zerolinewidth\":2},\"scene\":{\"xaxis\":{\"backgroundcolor\":\"#E5ECF6\",\"gridcolor\":\"white\",\"linecolor\":\"white\",\"showbackground\":true,\"ticks\":\"\",\"zerolinecolor\":\"white\",\"gridwidth\":2},\"yaxis\":{\"backgroundcolor\":\"#E5ECF6\",\"gridcolor\":\"white\",\"linecolor\":\"white\",\"showbackground\":true,\"ticks\":\"\",\"zerolinecolor\":\"white\",\"gridwidth\":2},\"zaxis\":{\"backgroundcolor\":\"#E5ECF6\",\"gridcolor\":\"white\",\"linecolor\":\"white\",\"showbackground\":true,\"ticks\":\"\",\"zerolinecolor\":\"white\",\"gridwidth\":2}},\"shapedefaults\":{\"line\":{\"color\":\"#2a3f5f\"}},\"annotationdefaults\":{\"arrowcolor\":\"#2a3f5f\",\"arrowhead\":0,\"arrowwidth\":1},\"geo\":{\"bgcolor\":\"white\",\"landcolor\":\"#E5ECF6\",\"subunitcolor\":\"white\",\"showland\":true,\"showlakes\":true,\"lakecolor\":\"white\"},\"title\":{\"x\":0.05},\"mapbox\":{\"style\":\"light\"}}},\"xaxis\":{\"anchor\":\"y\",\"domain\":[0.0,1.0],\"title\":{\"text\":\"Airline\"}},\"yaxis\":{\"anchor\":\"x\",\"domain\":[0.0,1.0],\"title\":{\"text\":\"Average Ticket Price\"}},\"coloraxis\":{\"colorbar\":{\"title\":{\"text\":\"color\"}},\"colorscale\":[[0.0,\"#0d0887\"],[0.1111111111111111,\"#46039f\"],[0.2222222222222222,\"#7201a8\"],[0.3333333333333333,\"#9c179e\"],[0.4444444444444444,\"#bd3786\"],[0.5555555555555556,\"#d8576b\"],[0.6666666666666666,\"#ed7953\"],[0.7777777777777778,\"#fb9f3a\"],[0.8888888888888888,\"#fdca26\"],[1.0,\"#f0f921\"]]},\"legend\":{\"tracegroupgap\":0},\"margin\":{\"t\":60},\"barmode\":\"relative\",\"height\":400,\"width\":800},                        {\"responsive\": true}                    ).then(function(){\n",
              "                            \n",
              "var gd = document.getElementById('180b4901-916e-4534-b3b2-65f3e134cbb6');\n",
              "var x = new MutationObserver(function (mutations, observer) {{\n",
              "        var display = window.getComputedStyle(gd).display;\n",
              "        if (!display || display === 'none') {{\n",
              "            console.log([gd, 'removed!']);\n",
              "            Plotly.purge(gd);\n",
              "            observer.disconnect();\n",
              "        }}\n",
              "}});\n",
              "\n",
              "// Listen for the removal of the full notebook cells\n",
              "var notebookContainer = gd.closest('#notebook-container');\n",
              "if (notebookContainer) {{\n",
              "    x.observe(notebookContainer, {childList: true});\n",
              "}}\n",
              "\n",
              "// Listen for the clearing of the current output cell\n",
              "var outputEl = gd.closest('.output');\n",
              "if (outputEl) {{\n",
              "    x.observe(outputEl, {childList: true});\n",
              "}}\n",
              "\n",
              "                        })                };                            </script>        </div>\n",
              "</body>\n",
              "</html>"
            ]
          },
          "metadata": {}
        }
      ],
      "source": [
        "#variation of prices across the airlines\n",
        "px.bar(x = airline,y=price_by_airline,color=price_by_airline,width=800,height=400,labels={\n",
        "                     \"x\": \"Airline\",\n",
        "                     \"y\": \"Average Ticket Price\"\n",
        "                 })"
      ]
    },
    {
      "cell_type": "markdown",
      "id": "35c85b8c",
      "metadata": {
        "papermill": {
          "duration": 0.019098,
          "end_time": "2022-08-10T12:09:57.631848",
          "exception": false,
          "start_time": "2022-08-10T12:09:57.612750",
          "status": "completed"
        },
        "tags": [],
        "id": "35c85b8c"
      },
      "source": [
        "Vistara is the most Pricey Airline Followed by Air India"
      ]
    },
    {
      "cell_type": "code",
      "execution_count": 15,
      "id": "137eed75",
      "metadata": {
        "execution": {
          "iopub.execute_input": "2022-08-10T12:09:57.669293Z",
          "iopub.status.busy": "2022-08-10T12:09:57.668869Z",
          "iopub.status.idle": "2022-08-10T12:10:02.162758Z",
          "shell.execute_reply": "2022-08-10T12:10:02.161473Z"
        },
        "papermill": {
          "duration": 4.51576,
          "end_time": "2022-08-10T12:10:02.165350",
          "exception": false,
          "start_time": "2022-08-10T12:09:57.649590",
          "status": "completed"
        },
        "tags": [],
        "id": "137eed75",
        "outputId": "7d1f0e16-26e9-43a5-ea21-84ac4764f8cc",
        "colab": {
          "base_uri": "https://localhost:8080/",
          "height": 559
        }
      },
      "outputs": [
        {
          "output_type": "execute_result",
          "data": {
            "text/plain": [
              "<Axes: xlabel='airline', ylabel='price'>"
            ]
          },
          "metadata": {},
          "execution_count": 15
        },
        {
          "output_type": "display_data",
          "data": {
            "text/plain": [
              "<Figure size 900x600 with 1 Axes>"
            ],
            "image/png": "[encoded data removed]"
          },
          "metadata": {}
        }
      ],
      "source": [
        "#difference between price of economy and business class\n",
        "plt.figure(figsize=(9,6))\n",
        "sns.barplot(x = 'airline',y='price',data = data,hue = 'class',edgecolor=\".2\")"
      ]
    },
    {
      "cell_type": "code",
      "execution_count": 16,
      "id": "8a3f44dc",
      "metadata": {
        "execution": {
          "iopub.execute_input": "2022-08-10T12:10:02.203969Z",
          "iopub.status.busy": "2022-08-10T12:10:02.203534Z",
          "iopub.status.idle": "2022-08-10T12:10:02.513432Z",
          "shell.execute_reply": "2022-08-10T12:10:02.512129Z"
        },
        "papermill": {
          "duration": 0.332363,
          "end_time": "2022-08-10T12:10:02.516237",
          "exception": false,
          "start_time": "2022-08-10T12:10:02.183874",
          "status": "completed"
        },
        "tags": [],
        "id": "8a3f44dc",
        "outputId": "382ee62b-059a-4e16-d089-49539479a6c8",
        "colab": {
          "base_uri": "https://localhost:8080/",
          "height": 417
        }
      },
      "outputs": [
        {
          "output_type": "display_data",
          "data": {
            "text/html": [
              "<html>\n",
              "<head><meta charset=\"utf-8\" /></head>\n",
              "<body>\n",
              "    <div>            <script src=\"https://cdnjs.cloudflare.com/ajax/libs/mathjax/2.7.5/MathJax.js?config=TeX-AMS-MML_SVG\"></script><script type=\"text/javascript\">if (window.MathJax && window.MathJax.Hub && window.MathJax.Hub.Config) {window.MathJax.Hub.Config({SVG: {font: \"STIX-Web\"}});}</script>                <script type=\"text/javascript\">window.PlotlyConfig = {MathJaxConfig: 'local'};</script>\n",
              "        <script src=\"https://cdn.plot.ly/plotly-2.18.2.min.js\"></script>                <div id=\"9e6fc017-7829-43ca-bc11-68bf42068092\" class=\"plotly-graph-div\" style=\"height:400px; width:600px;\"></div>            <script type=\"text/javascript\">                                    window.PLOTLYENV=window.PLOTLYENV || {};                                    if (document.getElementById(\"9e6fc017-7829-43ca-bc11-68bf42068092\")) {                    Plotly.newPlot(                        \"9e6fc017-7829-43ca-bc11-68bf42068092\",                        [{\"domain\":{\"x\":[0.0,1.0],\"y\":[0.0,1.0]},\"hovertemplate\":\"label=%{label}<br>value=%{value}<extra></extra>\",\"labels\":[\"Bangalore\",\"Chennai\",\"Delhi\",\"Hyderabad\",\"Kolkata\",\"Mumbai\"],\"legendgroup\":\"\",\"name\":\"\",\"showlegend\":true,\"values\":[52061,38700,61343,40806,46347,60896],\"type\":\"pie\"}],                        {\"template\":{\"data\":{\"histogram2dcontour\":[{\"type\":\"histogram2dcontour\",\"colorbar\":{\"outlinewidth\":0,\"ticks\":\"\"},\"colorscale\":[[0.0,\"#0d0887\"],[0.1111111111111111,\"#46039f\"],[0.2222222222222222,\"#7201a8\"],[0.3333333333333333,\"#9c179e\"],[0.4444444444444444,\"#bd3786\"],[0.5555555555555556,\"#d8576b\"],[0.6666666666666666,\"#ed7953\"],[0.7777777777777778,\"#fb9f3a\"],[0.8888888888888888,\"#fdca26\"],[1.0,\"#f0f921\"]]}],\"choropleth\":[{\"type\":\"choropleth\",\"colorbar\":{\"outlinewidth\":0,\"ticks\":\"\"}}],\"histogram2d\":[{\"type\":\"histogram2d\",\"colorbar\":{\"outlinewidth\":0,\"ticks\":\"\"},\"colorscale\":[[0.0,\"#0d0887\"],[0.1111111111111111,\"#46039f\"],[0.2222222222222222,\"#7201a8\"],[0.3333333333333333,\"#9c179e\"],[0.4444444444444444,\"#bd3786\"],[0.5555555555555556,\"#d8576b\"],[0.6666666666666666,\"#ed7953\"],[0.7777777777777778,\"#fb9f3a\"],[0.8888888888888888,\"#fdca26\"],[1.0,\"#f0f921\"]]}],\"heatmap\":[{\"type\":\"heatmap\",\"colorbar\":{\"outlinewidth\":0,\"ticks\":\"\"},\"colorscale\":[[0.0,\"#0d0887\"],[0.1111111111111111,\"#46039f\"],[0.2222222222222222,\"#7201a8\"],[0.3333333333333333,\"#9c179e\"],[0.4444444444444444,\"#bd3786\"],[0.5555555555555556,\"#d8576b\"],[0.6666666666666666,\"#ed7953\"],[0.7777777777777778,\"#fb9f3a\"],[0.8888888888888888,\"#fdca26\"],[1.0,\"#f0f921\"]]}],\"heatmapgl\":[{\"type\":\"heatmapgl\",\"colorbar\":{\"outlinewidth\":0,\"ticks\":\"\"},\"colorscale\":[[0.0,\"#0d0887\"],[0.1111111111111111,\"#46039f\"],[0.2222222222222222,\"#7201a8\"],[0.3333333333333333,\"#9c179e\"],[0.4444444444444444,\"#bd3786\"],[0.5555555555555556,\"#d8576b\"],[0.6666666666666666,\"#ed7953\"],[0.7777777777777778,\"#fb9f3a\"],[0.8888888888888888,\"#fdca26\"],[1.0,\"#f0f921\"]]}],\"contourcarpet\":[{\"type\":\"contourcarpet\",\"colorbar\":{\"outlinewidth\":0,\"ticks\":\"\"}}],\"contour\":[{\"type\":\"contour\",\"colorbar\":{\"outlinewidth\":0,\"ticks\":\"\"},\"colorscale\":[[0.0,\"#0d0887\"],[0.1111111111111111,\"#46039f\"],[0.2222222222222222,\"#7201a8\"],[0.3333333333333333,\"#9c179e\"],[0.4444444444444444,\"#bd3786\"],[0.5555555555555556,\"#d8576b\"],[0.6666666666666666,\"#ed7953\"],[0.7777777777777778,\"#fb9f3a\"],[0.8888888888888888,\"#fdca26\"],[1.0,\"#f0f921\"]]}],\"surface\":[{\"type\":\"surface\",\"colorbar\":{\"outlinewidth\":0,\"ticks\":\"\"},\"colorscale\":[[0.0,\"#0d0887\"],[0.1111111111111111,\"#46039f\"],[0.2222222222222222,\"#7201a8\"],[0.3333333333333333,\"#9c179e\"],[0.4444444444444444,\"#bd3786\"],[0.5555555555555556,\"#d8576b\"],[0.6666666666666666,\"#ed7953\"],[0.7777777777777778,\"#fb9f3a\"],[0.8888888888888888,\"#fdca26\"],[1.0,\"#f0f921\"]]}],\"mesh3d\":[{\"type\":\"mesh3d\",\"colorbar\":{\"outlinewidth\":0,\"ticks\":\"\"}}],\"scatter\":[{\"fillpattern\":{\"fillmode\":\"overlay\",\"size\":10,\"solidity\":0.2},\"type\":\"scatter\"}],\"parcoords\":[{\"type\":\"parcoords\",\"line\":{\"colorbar\":{\"outlinewidth\":0,\"ticks\":\"\"}}}],\"scatterpolargl\":[{\"type\":\"scatterpolargl\",\"marker\":{\"colorbar\":{\"outlinewidth\":0,\"ticks\":\"\"}}}],\"bar\":[{\"error_x\":{\"color\":\"#2a3f5f\"},\"error_y\":{\"color\":\"#2a3f5f\"},\"marker\":{\"line\":{\"color\":\"#E5ECF6\",\"width\":0.5},\"pattern\":{\"fillmode\":\"overlay\",\"size\":10,\"solidity\":0.2}},\"type\":\"bar\"}],\"scattergeo\":[{\"type\":\"scattergeo\",\"marker\":{\"colorbar\":{\"outlinewidth\":0,\"ticks\":\"\"}}}],\"scatterpolar\":[{\"type\":\"scatterpolar\",\"marker\":{\"colorbar\":{\"outlinewidth\":0,\"ticks\":\"\"}}}],\"histogram\":[{\"marker\":{\"pattern\":{\"fillmode\":\"overlay\",\"size\":10,\"solidity\":0.2}},\"type\":\"histogram\"}],\"scattergl\":[{\"type\":\"scattergl\",\"marker\":{\"colorbar\":{\"outlinewidth\":0,\"ticks\":\"\"}}}],\"scatter3d\":[{\"type\":\"scatter3d\",\"line\":{\"colorbar\":{\"outlinewidth\":0,\"ticks\":\"\"}},\"marker\":{\"colorbar\":{\"outlinewidth\":0,\"ticks\":\"\"}}}],\"scattermapbox\":[{\"type\":\"scattermapbox\",\"marker\":{\"colorbar\":{\"outlinewidth\":0,\"ticks\":\"\"}}}],\"scatterternary\":[{\"type\":\"scatterternary\",\"marker\":{\"colorbar\":{\"outlinewidth\":0,\"ticks\":\"\"}}}],\"scattercarpet\":[{\"type\":\"scattercarpet\",\"marker\":{\"colorbar\":{\"outlinewidth\":0,\"ticks\":\"\"}}}],\"carpet\":[{\"aaxis\":{\"endlinecolor\":\"#2a3f5f\",\"gridcolor\":\"white\",\"linecolor\":\"white\",\"minorgridcolor\":\"white\",\"startlinecolor\":\"#2a3f5f\"},\"baxis\":{\"endlinecolor\":\"#2a3f5f\",\"gridcolor\":\"white\",\"linecolor\":\"white\",\"minorgridcolor\":\"white\",\"startlinecolor\":\"#2a3f5f\"},\"type\":\"carpet\"}],\"table\":[{\"cells\":{\"fill\":{\"color\":\"#EBF0F8\"},\"line\":{\"color\":\"white\"}},\"header\":{\"fill\":{\"color\":\"#C8D4E3\"},\"line\":{\"color\":\"white\"}},\"type\":\"table\"}],\"barpolar\":[{\"marker\":{\"line\":{\"color\":\"#E5ECF6\",\"width\":0.5},\"pattern\":{\"fillmode\":\"overlay\",\"size\":10,\"solidity\":0.2}},\"type\":\"barpolar\"}],\"pie\":[{\"automargin\":true,\"type\":\"pie\"}]},\"layout\":{\"autotypenumbers\":\"strict\",\"colorway\":[\"#636efa\",\"#EF553B\",\"#00cc96\",\"#ab63fa\",\"#FFA15A\",\"#19d3f3\",\"#FF6692\",\"#B6E880\",\"#FF97FF\",\"#FECB52\"],\"font\":{\"color\":\"#2a3f5f\"},\"hovermode\":\"closest\",\"hoverlabel\":{\"align\":\"left\"},\"paper_bgcolor\":\"white\",\"plot_bgcolor\":\"#E5ECF6\",\"polar\":{\"bgcolor\":\"#E5ECF6\",\"angularaxis\":{\"gridcolor\":\"white\",\"linecolor\":\"white\",\"ticks\":\"\"},\"radialaxis\":{\"gridcolor\":\"white\",\"linecolor\":\"white\",\"ticks\":\"\"}},\"ternary\":{\"bgcolor\":\"#E5ECF6\",\"aaxis\":{\"gridcolor\":\"white\",\"linecolor\":\"white\",\"ticks\":\"\"},\"baxis\":{\"gridcolor\":\"white\",\"linecolor\":\"white\",\"ticks\":\"\"},\"caxis\":{\"gridcolor\":\"white\",\"linecolor\":\"white\",\"ticks\":\"\"}},\"coloraxis\":{\"colorbar\":{\"outlinewidth\":0,\"ticks\":\"\"}},\"colorscale\":{\"sequential\":[[0.0,\"#0d0887\"],[0.1111111111111111,\"#46039f\"],[0.2222222222222222,\"#7201a8\"],[0.3333333333333333,\"#9c179e\"],[0.4444444444444444,\"#bd3786\"],[0.5555555555555556,\"#d8576b\"],[0.6666666666666666,\"#ed7953\"],[0.7777777777777778,\"#fb9f3a\"],[0.8888888888888888,\"#fdca26\"],[1.0,\"#f0f921\"]],\"sequentialminus\":[[0.0,\"#0d0887\"],[0.1111111111111111,\"#46039f\"],[0.2222222222222222,\"#7201a8\"],[0.3333333333333333,\"#9c179e\"],[0.4444444444444444,\"#bd3786\"],[0.5555555555555556,\"#d8576b\"],[0.6666666666666666,\"#ed7953\"],[0.7777777777777778,\"#fb9f3a\"],[0.8888888888888888,\"#fdca26\"],[1.0,\"#f0f921\"]],\"diverging\":[[0,\"#8e0152\"],[0.1,\"#c51b7d\"],[0.2,\"#de77ae\"],[0.3,\"#f1b6da\"],[0.4,\"#fde0ef\"],[0.5,\"#f7f7f7\"],[0.6,\"#e6f5d0\"],[0.7,\"#b8e186\"],[0.8,\"#7fbc41\"],[0.9,\"#4d9221\"],[1,\"#276419\"]]},\"xaxis\":{\"gridcolor\":\"white\",\"linecolor\":\"white\",\"ticks\":\"\",\"title\":{\"standoff\":15},\"zerolinecolor\":\"white\",\"automargin\":true,\"zerolinewidth\":2},\"yaxis\":{\"gridcolor\":\"white\",\"linecolor\":\"white\",\"ticks\":\"\",\"title\":{\"standoff\":15},\"zerolinecolor\":\"white\",\"automargin\":true,\"zerolinewidth\":2},\"scene\":{\"xaxis\":{\"backgroundcolor\":\"#E5ECF6\",\"gridcolor\":\"white\",\"linecolor\":\"white\",\"showbackground\":true,\"ticks\":\"\",\"zerolinecolor\":\"white\",\"gridwidth\":2},\"yaxis\":{\"backgroundcolor\":\"#E5ECF6\",\"gridcolor\":\"white\",\"linecolor\":\"white\",\"showbackground\":true,\"ticks\":\"\",\"zerolinecolor\":\"white\",\"gridwidth\":2},\"zaxis\":{\"backgroundcolor\":\"#E5ECF6\",\"gridcolor\":\"white\",\"linecolor\":\"white\",\"showbackground\":true,\"ticks\":\"\",\"zerolinecolor\":\"white\",\"gridwidth\":2}},\"shapedefaults\":{\"line\":{\"color\":\"#2a3f5f\"}},\"annotationdefaults\":{\"arrowcolor\":\"#2a3f5f\",\"arrowhead\":0,\"arrowwidth\":1},\"geo\":{\"bgcolor\":\"white\",\"landcolor\":\"#E5ECF6\",\"subunitcolor\":\"white\",\"showland\":true,\"showlakes\":true,\"lakecolor\":\"white\"},\"title\":{\"x\":0.05},\"mapbox\":{\"style\":\"light\"}}},\"legend\":{\"tracegroupgap\":0},\"margin\":{\"t\":60},\"piecolorway\":[\"rgb(230, 240, 240)\",\"rgb(191, 221, 229)\",\"rgb(156, 201, 226)\",\"rgb(129, 180, 227)\",\"rgb(115, 154, 228)\",\"rgb(117, 127, 221)\",\"rgb(120, 100, 202)\",\"rgb(119, 74, 175)\",\"rgb(113, 50, 141)\",\"rgb(100, 31, 104)\",\"rgb(80, 20, 66)\",\"rgb(54, 14, 36)\"],\"height\":400,\"width\":600},                        {\"responsive\": true}                    ).then(function(){\n",
              "                            \n",
              "var gd = document.getElementById('9e6fc017-7829-43ca-bc11-68bf42068092');\n",
              "var x = new MutationObserver(function (mutations, observer) {{\n",
              "        var display = window.getComputedStyle(gd).display;\n",
              "        if (!display || display === 'none') {{\n",
              "            console.log([gd, 'removed!']);\n",
              "            Plotly.purge(gd);\n",
              "            observer.disconnect();\n",
              "        }}\n",
              "}});\n",
              "\n",
              "// Listen for the removal of the full notebook cells\n",
              "var notebookContainer = gd.closest('#notebook-container');\n",
              "if (notebookContainer) {{\n",
              "    x.observe(notebookContainer, {childList: true});\n",
              "}}\n",
              "\n",
              "// Listen for the clearing of the current output cell\n",
              "var outputEl = gd.closest('.output');\n",
              "if (outputEl) {{\n",
              "    x.observe(outputEl, {childList: true});\n",
              "}}\n",
              "\n",
              "                        })                };                            </script>        </div>\n",
              "</body>\n",
              "</html>"
            ]
          },
          "metadata": {}
        }
      ],
      "source": [
        "#lets see which source city is more frequently served\n",
        "count_by_source = data.groupby('source_city').count()['airline']\n",
        "source_city = [i for i,df in data.groupby('source_city')]\n",
        "px.pie(values = count_by_source,names=source_city,color_discrete_sequence=px.colors.sequential.dense,width=600,height=400)"
      ]
    },
    {
      "cell_type": "code",
      "execution_count": 17,
      "id": "5761961a",
      "metadata": {
        "execution": {
          "iopub.execute_input": "2022-08-10T12:10:02.555540Z",
          "iopub.status.busy": "2022-08-10T12:10:02.555146Z",
          "iopub.status.idle": "2022-08-10T12:10:02.826307Z",
          "shell.execute_reply": "2022-08-10T12:10:02.824924Z"
        },
        "papermill": {
          "duration": 0.294172,
          "end_time": "2022-08-10T12:10:02.829197",
          "exception": false,
          "start_time": "2022-08-10T12:10:02.535025",
          "status": "completed"
        },
        "tags": [],
        "id": "5761961a",
        "outputId": "e936c4ac-4d95-43db-c0d6-ea50705c09bb",
        "colab": {
          "base_uri": "https://localhost:8080/",
          "height": 417
        }
      },
      "outputs": [
        {
          "output_type": "display_data",
          "data": {
            "text/html": [
              "<html>\n",
              "<head><meta charset=\"utf-8\" /></head>\n",
              "<body>\n",
              "    <div>            <script src=\"https://cdnjs.cloudflare.com/ajax/libs/mathjax/2.7.5/MathJax.js?config=TeX-AMS-MML_SVG\"></script><script type=\"text/javascript\">if (window.MathJax && window.MathJax.Hub && window.MathJax.Hub.Config) {window.MathJax.Hub.Config({SVG: {font: \"STIX-Web\"}});}</script>                <script type=\"text/javascript\">window.PlotlyConfig = {MathJaxConfig: 'local'};</script>\n",
              "        <script src=\"https://cdn.plot.ly/plotly-2.18.2.min.js\"></script>                <div id=\"1a6b59a2-7524-4ba8-8895-aba9172d8474\" class=\"plotly-graph-div\" style=\"height:400px; width:600px;\"></div>            <script type=\"text/javascript\">                                    window.PLOTLYENV=window.PLOTLYENV || {};                                    if (document.getElementById(\"1a6b59a2-7524-4ba8-8895-aba9172d8474\")) {                    Plotly.newPlot(                        \"1a6b59a2-7524-4ba8-8895-aba9172d8474\",                        [{\"domain\":{\"x\":[0.0,1.0],\"y\":[0.0,1.0]},\"hovertemplate\":\"label=%{label}<br>value=%{value}<extra></extra>\",\"labels\":[\"Bangalore\",\"Chennai\",\"Delhi\",\"Hyderabad\",\"Kolkata\",\"Mumbai\"],\"legendgroup\":\"\",\"name\":\"\",\"showlegend\":true,\"values\":[51068,40368,57360,42726,49534,59097],\"type\":\"pie\"}],                        {\"template\":{\"data\":{\"histogram2dcontour\":[{\"type\":\"histogram2dcontour\",\"colorbar\":{\"outlinewidth\":0,\"ticks\":\"\"},\"colorscale\":[[0.0,\"#0d0887\"],[0.1111111111111111,\"#46039f\"],[0.2222222222222222,\"#7201a8\"],[0.3333333333333333,\"#9c179e\"],[0.4444444444444444,\"#bd3786\"],[0.5555555555555556,\"#d8576b\"],[0.6666666666666666,\"#ed7953\"],[0.7777777777777778,\"#fb9f3a\"],[0.8888888888888888,\"#fdca26\"],[1.0,\"#f0f921\"]]}],\"choropleth\":[{\"type\":\"choropleth\",\"colorbar\":{\"outlinewidth\":0,\"ticks\":\"\"}}],\"histogram2d\":[{\"type\":\"histogram2d\",\"colorbar\":{\"outlinewidth\":0,\"ticks\":\"\"},\"colorscale\":[[0.0,\"#0d0887\"],[0.1111111111111111,\"#46039f\"],[0.2222222222222222,\"#7201a8\"],[0.3333333333333333,\"#9c179e\"],[0.4444444444444444,\"#bd3786\"],[0.5555555555555556,\"#d8576b\"],[0.6666666666666666,\"#ed7953\"],[0.7777777777777778,\"#fb9f3a\"],[0.8888888888888888,\"#fdca26\"],[1.0,\"#f0f921\"]]}],\"heatmap\":[{\"type\":\"heatmap\",\"colorbar\":{\"outlinewidth\":0,\"ticks\":\"\"},\"colorscale\":[[0.0,\"#0d0887\"],[0.1111111111111111,\"#46039f\"],[0.2222222222222222,\"#7201a8\"],[0.3333333333333333,\"#9c179e\"],[0.4444444444444444,\"#bd3786\"],[0.5555555555555556,\"#d8576b\"],[0.6666666666666666,\"#ed7953\"],[0.7777777777777778,\"#fb9f3a\"],[0.8888888888888888,\"#fdca26\"],[1.0,\"#f0f921\"]]}],\"heatmapgl\":[{\"type\":\"heatmapgl\",\"colorbar\":{\"outlinewidth\":0,\"ticks\":\"\"},\"colorscale\":[[0.0,\"#0d0887\"],[0.1111111111111111,\"#46039f\"],[0.2222222222222222,\"#7201a8\"],[0.3333333333333333,\"#9c179e\"],[0.4444444444444444,\"#bd3786\"],[0.5555555555555556,\"#d8576b\"],[0.6666666666666666,\"#ed7953\"],[0.7777777777777778,\"#fb9f3a\"],[0.8888888888888888,\"#fdca26\"],[1.0,\"#f0f921\"]]}],\"contourcarpet\":[{\"type\":\"contourcarpet\",\"colorbar\":{\"outlinewidth\":0,\"ticks\":\"\"}}],\"contour\":[{\"type\":\"contour\",\"colorbar\":{\"outlinewidth\":0,\"ticks\":\"\"},\"colorscale\":[[0.0,\"#0d0887\"],[0.1111111111111111,\"#46039f\"],[0.2222222222222222,\"#7201a8\"],[0.3333333333333333,\"#9c179e\"],[0.4444444444444444,\"#bd3786\"],[0.5555555555555556,\"#d8576b\"],[0.6666666666666666,\"#ed7953\"],[0.7777777777777778,\"#fb9f3a\"],[0.8888888888888888,\"#fdca26\"],[1.0,\"#f0f921\"]]}],\"surface\":[{\"type\":\"surface\",\"colorbar\":{\"outlinewidth\":0,\"ticks\":\"\"},\"colorscale\":[[0.0,\"#0d0887\"],[0.1111111111111111,\"#46039f\"],[0.2222222222222222,\"#7201a8\"],[0.3333333333333333,\"#9c179e\"],[0.4444444444444444,\"#bd3786\"],[0.5555555555555556,\"#d8576b\"],[0.6666666666666666,\"#ed7953\"],[0.7777777777777778,\"#fb9f3a\"],[0.8888888888888888,\"#fdca26\"],[1.0,\"#f0f921\"]]}],\"mesh3d\":[{\"type\":\"mesh3d\",\"colorbar\":{\"outlinewidth\":0,\"ticks\":\"\"}}],\"scatter\":[{\"fillpattern\":{\"fillmode\":\"overlay\",\"size\":10,\"solidity\":0.2},\"type\":\"scatter\"}],\"parcoords\":[{\"type\":\"parcoords\",\"line\":{\"colorbar\":{\"outlinewidth\":0,\"ticks\":\"\"}}}],\"scatterpolargl\":[{\"type\":\"scatterpolargl\",\"marker\":{\"colorbar\":{\"outlinewidth\":0,\"ticks\":\"\"}}}],\"bar\":[{\"error_x\":{\"color\":\"#2a3f5f\"},\"error_y\":{\"color\":\"#2a3f5f\"},\"marker\":{\"line\":{\"color\":\"#E5ECF6\",\"width\":0.5},\"pattern\":{\"fillmode\":\"overlay\",\"size\":10,\"solidity\":0.2}},\"type\":\"bar\"}],\"scattergeo\":[{\"type\":\"scattergeo\",\"marker\":{\"colorbar\":{\"outlinewidth\":0,\"ticks\":\"\"}}}],\"scatterpolar\":[{\"type\":\"scatterpolar\",\"marker\":{\"colorbar\":{\"outlinewidth\":0,\"ticks\":\"\"}}}],\"histogram\":[{\"marker\":{\"pattern\":{\"fillmode\":\"overlay\",\"size\":10,\"solidity\":0.2}},\"type\":\"histogram\"}],\"scattergl\":[{\"type\":\"scattergl\",\"marker\":{\"colorbar\":{\"outlinewidth\":0,\"ticks\":\"\"}}}],\"scatter3d\":[{\"type\":\"scatter3d\",\"line\":{\"colorbar\":{\"outlinewidth\":0,\"ticks\":\"\"}},\"marker\":{\"colorbar\":{\"outlinewidth\":0,\"ticks\":\"\"}}}],\"scattermapbox\":[{\"type\":\"scattermapbox\",\"marker\":{\"colorbar\":{\"outlinewidth\":0,\"ticks\":\"\"}}}],\"scatterternary\":[{\"type\":\"scatterternary\",\"marker\":{\"colorbar\":{\"outlinewidth\":0,\"ticks\":\"\"}}}],\"scattercarpet\":[{\"type\":\"scattercarpet\",\"marker\":{\"colorbar\":{\"outlinewidth\":0,\"ticks\":\"\"}}}],\"carpet\":[{\"aaxis\":{\"endlinecolor\":\"#2a3f5f\",\"gridcolor\":\"white\",\"linecolor\":\"white\",\"minorgridcolor\":\"white\",\"startlinecolor\":\"#2a3f5f\"},\"baxis\":{\"endlinecolor\":\"#2a3f5f\",\"gridcolor\":\"white\",\"linecolor\":\"white\",\"minorgridcolor\":\"white\",\"startlinecolor\":\"#2a3f5f\"},\"type\":\"carpet\"}],\"table\":[{\"cells\":{\"fill\":{\"color\":\"#EBF0F8\"},\"line\":{\"color\":\"white\"}},\"header\":{\"fill\":{\"color\":\"#C8D4E3\"},\"line\":{\"color\":\"white\"}},\"type\":\"table\"}],\"barpolar\":[{\"marker\":{\"line\":{\"color\":\"#E5ECF6\",\"width\":0.5},\"pattern\":{\"fillmode\":\"overlay\",\"size\":10,\"solidity\":0.2}},\"type\":\"barpolar\"}],\"pie\":[{\"automargin\":true,\"type\":\"pie\"}]},\"layout\":{\"autotypenumbers\":\"strict\",\"colorway\":[\"#636efa\",\"#EF553B\",\"#00cc96\",\"#ab63fa\",\"#FFA15A\",\"#19d3f3\",\"#FF6692\",\"#B6E880\",\"#FF97FF\",\"#FECB52\"],\"font\":{\"color\":\"#2a3f5f\"},\"hovermode\":\"closest\",\"hoverlabel\":{\"align\":\"left\"},\"paper_bgcolor\":\"white\",\"plot_bgcolor\":\"#E5ECF6\",\"polar\":{\"bgcolor\":\"#E5ECF6\",\"angularaxis\":{\"gridcolor\":\"white\",\"linecolor\":\"white\",\"ticks\":\"\"},\"radialaxis\":{\"gridcolor\":\"white\",\"linecolor\":\"white\",\"ticks\":\"\"}},\"ternary\":{\"bgcolor\":\"#E5ECF6\",\"aaxis\":{\"gridcolor\":\"white\",\"linecolor\":\"white\",\"ticks\":\"\"},\"baxis\":{\"gridcolor\":\"white\",\"linecolor\":\"white\",\"ticks\":\"\"},\"caxis\":{\"gridcolor\":\"white\",\"linecolor\":\"white\",\"ticks\":\"\"}},\"coloraxis\":{\"colorbar\":{\"outlinewidth\":0,\"ticks\":\"\"}},\"colorscale\":{\"sequential\":[[0.0,\"#0d0887\"],[0.1111111111111111,\"#46039f\"],[0.2222222222222222,\"#7201a8\"],[0.3333333333333333,\"#9c179e\"],[0.4444444444444444,\"#bd3786\"],[0.5555555555555556,\"#d8576b\"],[0.6666666666666666,\"#ed7953\"],[0.7777777777777778,\"#fb9f3a\"],[0.8888888888888888,\"#fdca26\"],[1.0,\"#f0f921\"]],\"sequentialminus\":[[0.0,\"#0d0887\"],[0.1111111111111111,\"#46039f\"],[0.2222222222222222,\"#7201a8\"],[0.3333333333333333,\"#9c179e\"],[0.4444444444444444,\"#bd3786\"],[0.5555555555555556,\"#d8576b\"],[0.6666666666666666,\"#ed7953\"],[0.7777777777777778,\"#fb9f3a\"],[0.8888888888888888,\"#fdca26\"],[1.0,\"#f0f921\"]],\"diverging\":[[0,\"#8e0152\"],[0.1,\"#c51b7d\"],[0.2,\"#de77ae\"],[0.3,\"#f1b6da\"],[0.4,\"#fde0ef\"],[0.5,\"#f7f7f7\"],[0.6,\"#e6f5d0\"],[0.7,\"#b8e186\"],[0.8,\"#7fbc41\"],[0.9,\"#4d9221\"],[1,\"#276419\"]]},\"xaxis\":{\"gridcolor\":\"white\",\"linecolor\":\"white\",\"ticks\":\"\",\"title\":{\"standoff\":15},\"zerolinecolor\":\"white\",\"automargin\":true,\"zerolinewidth\":2},\"yaxis\":{\"gridcolor\":\"white\",\"linecolor\":\"white\",\"ticks\":\"\",\"title\":{\"standoff\":15},\"zerolinecolor\":\"white\",\"automargin\":true,\"zerolinewidth\":2},\"scene\":{\"xaxis\":{\"backgroundcolor\":\"#E5ECF6\",\"gridcolor\":\"white\",\"linecolor\":\"white\",\"showbackground\":true,\"ticks\":\"\",\"zerolinecolor\":\"white\",\"gridwidth\":2},\"yaxis\":{\"backgroundcolor\":\"#E5ECF6\",\"gridcolor\":\"white\",\"linecolor\":\"white\",\"showbackground\":true,\"ticks\":\"\",\"zerolinecolor\":\"white\",\"gridwidth\":2},\"zaxis\":{\"backgroundcolor\":\"#E5ECF6\",\"gridcolor\":\"white\",\"linecolor\":\"white\",\"showbackground\":true,\"ticks\":\"\",\"zerolinecolor\":\"white\",\"gridwidth\":2}},\"shapedefaults\":{\"line\":{\"color\":\"#2a3f5f\"}},\"annotationdefaults\":{\"arrowcolor\":\"#2a3f5f\",\"arrowhead\":0,\"arrowwidth\":1},\"geo\":{\"bgcolor\":\"white\",\"landcolor\":\"#E5ECF6\",\"subunitcolor\":\"white\",\"showland\":true,\"showlakes\":true,\"lakecolor\":\"white\"},\"title\":{\"x\":0.05},\"mapbox\":{\"style\":\"light\"}}},\"legend\":{\"tracegroupgap\":0},\"margin\":{\"t\":60},\"piecolorway\":[\"rgb(253, 253, 204)\",\"rgb(206, 236, 179)\",\"rgb(156, 219, 165)\",\"rgb(111, 201, 163)\",\"rgb(86, 177, 163)\",\"rgb(76, 153, 160)\",\"rgb(68, 130, 155)\",\"rgb(62, 108, 150)\",\"rgb(62, 82, 143)\",\"rgb(64, 60, 115)\",\"rgb(54, 43, 77)\",\"rgb(39, 26, 44)\"],\"height\":400,\"width\":600},                        {\"responsive\": true}                    ).then(function(){\n",
              "                            \n",
              "var gd = document.getElementById('1a6b59a2-7524-4ba8-8895-aba9172d8474');\n",
              "var x = new MutationObserver(function (mutations, observer) {{\n",
              "        var display = window.getComputedStyle(gd).display;\n",
              "        if (!display || display === 'none') {{\n",
              "            console.log([gd, 'removed!']);\n",
              "            Plotly.purge(gd);\n",
              "            observer.disconnect();\n",
              "        }}\n",
              "}});\n",
              "\n",
              "// Listen for the removal of the full notebook cells\n",
              "var notebookContainer = gd.closest('#notebook-container');\n",
              "if (notebookContainer) {{\n",
              "    x.observe(notebookContainer, {childList: true});\n",
              "}}\n",
              "\n",
              "// Listen for the clearing of the current output cell\n",
              "var outputEl = gd.closest('.output');\n",
              "if (outputEl) {{\n",
              "    x.observe(outputEl, {childList: true});\n",
              "}}\n",
              "\n",
              "                        })                };                            </script>        </div>\n",
              "</body>\n",
              "</html>"
            ]
          },
          "metadata": {}
        }
      ],
      "source": [
        "#lets see which destination city is more frequently served\n",
        "count_by_source = data.groupby('destination_city').count()['airline']\n",
        "destination_city = [i for i,df in data.groupby('destination_city')]\n",
        "px.pie(values = count_by_source,names=destination_city,color_discrete_sequence=px.colors.sequential.deep,width=600,height=400)"
      ]
    },
    {
      "cell_type": "code",
      "execution_count": 18,
      "id": "c91fd4c2",
      "metadata": {
        "execution": {
          "iopub.execute_input": "2022-08-10T12:10:02.869024Z",
          "iopub.status.busy": "2022-08-10T12:10:02.868617Z",
          "iopub.status.idle": "2022-08-10T12:10:03.042687Z",
          "shell.execute_reply": "2022-08-10T12:10:03.041259Z"
        },
        "papermill": {
          "duration": 0.197095,
          "end_time": "2022-08-10T12:10:03.045391",
          "exception": false,
          "start_time": "2022-08-10T12:10:02.848296",
          "status": "completed"
        },
        "tags": [],
        "id": "c91fd4c2"
      },
      "outputs": [],
      "source": [
        "#Which Route is the bussiest route\n",
        "route = data.groupby(['source_city','destination_city']).count()['airline']"
      ]
    },
    {
      "cell_type": "code",
      "execution_count": 19,
      "id": "91a171ed",
      "metadata": {
        "execution": {
          "iopub.execute_input": "2022-08-10T12:10:03.086587Z",
          "iopub.status.busy": "2022-08-10T12:10:03.086206Z",
          "iopub.status.idle": "2022-08-10T12:10:03.092381Z",
          "shell.execute_reply": "2022-08-10T12:10:03.090915Z"
        },
        "papermill": {
          "duration": 0.029166,
          "end_time": "2022-08-10T12:10:03.094579",
          "exception": false,
          "start_time": "2022-08-10T12:10:03.065413",
          "status": "completed"
        },
        "tags": [],
        "id": "91a171ed"
      },
      "outputs": [],
      "source": [
        "route = pd.DataFrame(route)"
      ]
    },
    {
      "cell_type": "code",
      "execution_count": 20,
      "id": "24c50fc9",
      "metadata": {
        "execution": {
          "iopub.execute_input": "2022-08-10T12:10:03.135821Z",
          "iopub.status.busy": "2022-08-10T12:10:03.134728Z",
          "iopub.status.idle": "2022-08-10T12:10:03.142066Z",
          "shell.execute_reply": "2022-08-10T12:10:03.140856Z"
        },
        "papermill": {
          "duration": 0.03016,
          "end_time": "2022-08-10T12:10:03.144527",
          "exception": false,
          "start_time": "2022-08-10T12:10:03.114367",
          "status": "completed"
        },
        "tags": [],
        "id": "24c50fc9"
      },
      "outputs": [],
      "source": [
        "route = route.reset_index()"
      ]
    },
    {
      "cell_type": "code",
      "execution_count": 21,
      "id": "7529e3f4",
      "metadata": {
        "execution": {
          "iopub.execute_input": "2022-08-10T12:10:03.184523Z",
          "iopub.status.busy": "2022-08-10T12:10:03.184126Z",
          "iopub.status.idle": "2022-08-10T12:10:03.196977Z",
          "shell.execute_reply": "2022-08-10T12:10:03.195712Z"
        },
        "papermill": {
          "duration": 0.035805,
          "end_time": "2022-08-10T12:10:03.199505",
          "exception": false,
          "start_time": "2022-08-10T12:10:03.163700",
          "status": "completed"
        },
        "tags": [],
        "id": "7529e3f4",
        "outputId": "4bf6dddd-4163-4b53-9271-f7af53007e92",
        "colab": {
          "base_uri": "https://localhost:8080/",
          "height": 206
        }
      },
      "outputs": [
        {
          "output_type": "execute_result",
          "data": {
            "text/plain": [
              "   source_city destination_city  airline\n",
              "14       Delhi           Mumbai    15289\n",
              "27      Mumbai            Delhi    14809\n",
              "10       Delhi        Bangalore    14012\n",
              "1    Bangalore            Delhi    13756\n",
              "4    Bangalore           Mumbai    12939"
            ],
            "text/html": [
              "\n",
              "\n",
              "  <div id=\"df-8ac635eb-48cd-4bc3-b4a7-ad2c9f12066d\">\n",
              "    <div class=\"colab-df-container\">\n",
              "      <div>\n",
              "<style scoped>\n",
              "    .dataframe tbody tr th:only-of-type {\n",
              "        vertical-align: middle;\n",
              "    }\n",
              "\n",
              "    .dataframe tbody tr th {\n",
              "        vertical-align: top;\n",
              "    }\n",
              "\n",
              "    .dataframe thead th {\n",
              "        text-align: right;\n",
              "    }\n",
              "</style>\n",
              "<table border=\"1\" class=\"dataframe\">\n",
              "  <thead>\n",
              "    <tr style=\"text-align: right;\">\n",
              "      <th></th>\n",
              "      <th>source_city</th>\n",
              "      <th>destination_city</th>\n",
              "      <th>airline</th>\n",
              "    </tr>\n",
              "  </thead>\n",
              "  <tbody>\n",
              "    <tr>\n",
              "      <th>14</th>\n",
              "      <td>Delhi</td>\n",
              "      <td>Mumbai</td>\n",
              "      <td>15289</td>\n",
              "    </tr>\n",
              "    <tr>\n",
              "      <th>27</th>\n",
              "      <td>Mumbai</td>\n",
              "      <td>Delhi</td>\n",
              "      <td>14809</td>\n",
              "    </tr>\n",
              "    <tr>\n",
              "      <th>10</th>\n",
              "      <td>Delhi</td>\n",
              "      <td>Bangalore</td>\n",
              "      <td>14012</td>\n",
              "    </tr>\n",
              "    <tr>\n",
              "      <th>1</th>\n",
              "      <td>Bangalore</td>\n",
              "      <td>Delhi</td>\n",
              "      <td>13756</td>\n",
              "    </tr>\n",
              "    <tr>\n",
              "      <th>4</th>\n",
              "      <td>Bangalore</td>\n",
              "      <td>Mumbai</td>\n",
              "      <td>12939</td>\n",
              "    </tr>\n",
              "  </tbody>\n",
              "</table>\n",
              "</div>\n",
              "      <button class=\"colab-df-convert\" onclick=\"convertToInteractive('df-8ac635eb-48cd-4bc3-b4a7-ad2c9f12066d')\"\n",
              "              title=\"Convert this dataframe to an interactive table.\"\n",
              "              style=\"display:none;\">\n",
              "\n",
              "  <svg xmlns=\"http://www.w3.org/2000/svg\" height=\"24px\"viewBox=\"0 0 24 24\"\n",
              "       width=\"24px\">\n",
              "    <path d=\"M0 0h24v24H0V0z\" fill=\"none\"/>\n",
              "    <path d=\"M18.56 5.44l.94 2.06.94-2.06 2.06-.94-2.06-.94-.94-2.06-.94 2.06-2.06.94zm-11 1L8.5 8.5l.94-2.06 2.06-.94-2.06-.94L8.5 2.5l-.94 2.06-2.06.94zm10 10l.94 2.06.94-2.06 2.06-.94-2.06-.94-.94-2.06-.94 2.06-2.06.94z\"/><path d=\"M17.41 7.96l-1.37-1.37c-.4-.4-.92-.59-1.43-.59-.52 0-1.04.2-1.43.59L10.3 9.45l-7.72 7.72c-.78.78-.78 2.05 0 2.83L4 21.41c.39.39.9.59 1.41.59.51 0 1.02-.2 1.41-.59l7.78-7.78 2.81-2.81c.8-.78.8-2.07 0-2.86zM5.41 20L4 18.59l7.72-7.72 1.47 1.35L5.41 20z\"/>\n",
              "  </svg>\n",
              "      </button>\n",
              "\n",
              "\n",
              "\n",
              "    <div id=\"df-7a60f950-78b1-4ec9-abe9-10976a344c68\">\n",
              "      <button class=\"colab-df-quickchart\" onclick=\"quickchart('df-7a60f950-78b1-4ec9-abe9-10976a344c68')\"\n",
              "              title=\"Suggest charts.\"\n",
              "              style=\"display:none;\">\n",
              "\n",
              "<svg xmlns=\"http://www.w3.org/2000/svg\" height=\"24px\"viewBox=\"0 0 24 24\"\n",
              "     width=\"24px\">\n",
              "    <g>\n",
              "        <path d=\"M19 3H5c-1.1 0-2 .9-2 2v14c0 1.1.9 2 2 2h14c1.1 0 2-.9 2-2V5c0-1.1-.9-2-2-2zM9 17H7v-7h2v7zm4 0h-2V7h2v10zm4 0h-2v-4h2v4z\"/>\n",
              "    </g>\n",
              "</svg>\n",
              "      </button>\n",
              "    </div>\n",
              "\n",
              "<style>\n",
              "  .colab-df-quickchart {\n",
              "    background-color: #E8F0FE;\n",
              "    border: none;\n",
              "    border-radius: 50%;\n",
              "    cursor: pointer;\n",
              "    display: none;\n",
              "    fill: #1967D2;\n",
              "    height: 32px;\n",
              "    padding: 0 0 0 0;\n",
              "    width: 32px;\n",
              "  }\n",
              "\n",
              "  .colab-df-quickchart:hover {\n",
              "    background-color: #E2EBFA;\n",
              "    box-shadow: 0px 1px 2px rgba(60, 64, 67, 0.3), 0px 1px 3px 1px rgba(60, 64, 67, 0.15);\n",
              "    fill: #174EA6;\n",
              "  }\n",
              "\n",
              "  [theme=dark] .colab-df-quickchart {\n",
              "    background-color: #3B4455;\n",
              "    fill: #D2E3FC;\n",
              "  }\n",
              "\n",
              "  [theme=dark] .colab-df-quickchart:hover {\n",
              "    background-color: #434B5C;\n",
              "    box-shadow: 0px 1px 3px 1px rgba(0, 0, 0, 0.15);\n",
              "    filter: drop-shadow(0px 1px 2px rgba(0, 0, 0, 0.3));\n",
              "    fill: #FFFFFF;\n",
              "  }\n",
              "</style>\n",
              "\n",
              "    <script>\n",
              "      async function quickchart(key) {\n",
              "        const containerElement = document.querySelector('#' + key);\n",
              "        const charts = await google.colab.kernel.invokeFunction(\n",
              "            'suggestCharts', [key], {});\n",
              "      }\n",
              "    </script>\n",
              "\n",
              "      <script>\n",
              "\n",
              "function displayQuickchartButton(domScope) {\n",
              "  let quickchartButtonEl =\n",
              "    domScope.querySelector('#df-7a60f950-78b1-4ec9-abe9-10976a344c68 button.colab-df-quickchart');\n",
              "  quickchartButtonEl.style.display =\n",
              "    google.colab.kernel.accessAllowed ? 'block' : 'none';\n",
              "}\n",
              "\n",
              "        displayQuickchartButton(document);\n",
              "      </script>\n",
              "      <style>\n",
              "    .colab-df-container {\n",
              "      display:flex;\n",
              "      flex-wrap:wrap;\n",
              "      gap: 12px;\n",
              "    }\n",
              "\n",
              "    .colab-df-convert {\n",
              "      background-color: #E8F0FE;\n",
              "      border: none;\n",
              "      border-radius: 50%;\n",
              "      cursor: pointer;\n",
              "      display: none;\n",
              "      fill: #1967D2;\n",
              "      height: 32px;\n",
              "      padding: 0 0 0 0;\n",
              "      width: 32px;\n",
              "    }\n",
              "\n",
              "    .colab-df-convert:hover {\n",
              "      background-color: #E2EBFA;\n",
              "      box-shadow: 0px 1px 2px rgba(60, 64, 67, 0.3), 0px 1px 3px 1px rgba(60, 64, 67, 0.15);\n",
              "      fill: #174EA6;\n",
              "    }\n",
              "\n",
              "    [theme=dark] .colab-df-convert {\n",
              "      background-color: #3B4455;\n",
              "      fill: #D2E3FC;\n",
              "    }\n",
              "\n",
              "    [theme=dark] .colab-df-convert:hover {\n",
              "      background-color: #434B5C;\n",
              "      box-shadow: 0px 1px 3px 1px rgba(0, 0, 0, 0.15);\n",
              "      filter: drop-shadow(0px 1px 2px rgba(0, 0, 0, 0.3));\n",
              "      fill: #FFFFFF;\n",
              "    }\n",
              "  </style>\n",
              "\n",
              "      <script>\n",
              "        const buttonEl =\n",
              "          document.querySelector('#df-8ac635eb-48cd-4bc3-b4a7-ad2c9f12066d button.colab-df-convert');\n",
              "        buttonEl.style.display =\n",
              "          google.colab.kernel.accessAllowed ? 'block' : 'none';\n",
              "\n",
              "        async function convertToInteractive(key) {\n",
              "          const element = document.querySelector('#df-8ac635eb-48cd-4bc3-b4a7-ad2c9f12066d');\n",
              "          const dataTable =\n",
              "            await google.colab.kernel.invokeFunction('convertToInteractive',\n",
              "                                                     [key], {});\n",
              "          if (!dataTable) return;\n",
              "\n",
              "          const docLinkHtml = 'Like what you see? Visit the ' +\n",
              "            '<a target=\"_blank\" href=https://colab.research.google.com/notebooks/data_table.ipynb>data table notebook</a>'\n",
              "            + ' to learn more about interactive tables.';\n",
              "          element.innerHTML = '';\n",
              "          dataTable['output_type'] = 'display_data';\n",
              "          await google.colab.output.renderOutput(dataTable, element);\n",
              "          const docLink = document.createElement('div');\n",
              "          docLink.innerHTML = docLinkHtml;\n",
              "          element.appendChild(docLink);\n",
              "        }\n",
              "      </script>\n",
              "    </div>\n",
              "  </div>\n"
            ]
          },
          "metadata": {},
          "execution_count": 21
        }
      ],
      "source": [
        "#top 5 most busy routes\n",
        "route.sort_values(by = 'airline',ascending=False).head()"
      ]
    },
    {
      "cell_type": "markdown",
      "id": "286215e1",
      "metadata": {
        "papermill": {
          "duration": 0.019831,
          "end_time": "2022-08-10T12:10:03.239192",
          "exception": false,
          "start_time": "2022-08-10T12:10:03.219361",
          "status": "completed"
        },
        "tags": [],
        "id": "286215e1"
      },
      "source": [
        "Delhi and bombay are most busiest airports"
      ]
    },
    {
      "cell_type": "code",
      "execution_count": 22,
      "id": "ca033668",
      "metadata": {
        "execution": {
          "iopub.execute_input": "2022-08-10T12:10:03.280820Z",
          "iopub.status.busy": "2022-08-10T12:10:03.280405Z",
          "iopub.status.idle": "2022-08-10T12:10:03.619495Z",
          "shell.execute_reply": "2022-08-10T12:10:03.618130Z"
        },
        "papermill": {
          "duration": 0.363004,
          "end_time": "2022-08-10T12:10:03.622150",
          "exception": false,
          "start_time": "2022-08-10T12:10:03.259146",
          "status": "completed"
        },
        "tags": [],
        "id": "ca033668",
        "outputId": "6c9c26ae-48af-49a2-cb13-26fb6aa7c255",
        "colab": {
          "base_uri": "https://localhost:8080/",
          "height": 417
        }
      },
      "outputs": [
        {
          "output_type": "display_data",
          "data": {
            "text/html": [
              "<html>\n",
              "<head><meta charset=\"utf-8\" /></head>\n",
              "<body>\n",
              "    <div>            <script src=\"https://cdnjs.cloudflare.com/ajax/libs/mathjax/2.7.5/MathJax.js?config=TeX-AMS-MML_SVG\"></script><script type=\"text/javascript\">if (window.MathJax && window.MathJax.Hub && window.MathJax.Hub.Config) {window.MathJax.Hub.Config({SVG: {font: \"STIX-Web\"}});}</script>                <script type=\"text/javascript\">window.PlotlyConfig = {MathJaxConfig: 'local'};</script>\n",
              "        <script src=\"https://cdn.plot.ly/plotly-2.18.2.min.js\"></script>                <div id=\"d9094c37-d85a-4452-b9ef-9aa815326573\" class=\"plotly-graph-div\" style=\"height:400px; width:900px;\"></div>            <script type=\"text/javascript\">                                    window.PLOTLYENV=window.PLOTLYENV || {};                                    if (document.getElementById(\"d9094c37-d85a-4452-b9ef-9aa815326573\")) {                    Plotly.newPlot(                        \"d9094c37-d85a-4452-b9ef-9aa815326573\",                        [{\"hovertemplate\":\"Time of depdarture=%{x}<br>Operating count=%{y}<extra></extra>\",\"legendgroup\":\"\",\"line\":{\"color\":\"#636efa\",\"dash\":\"solid\"},\"marker\":{\"symbol\":\"circle\"},\"mode\":\"markers+lines\",\"name\":\"\",\"orientation\":\"v\",\"showlegend\":false,\"x\":[\"Afternoon\",\"Early_Morning\",\"Evening\",\"Late_Night\",\"Morning\",\"Night\"],\"xaxis\":\"x\",\"y\":[47794,66790,65102,1306,71146,48015],\"yaxis\":\"y\",\"type\":\"scatter\"}],                        {\"template\":{\"data\":{\"histogram2dcontour\":[{\"type\":\"histogram2dcontour\",\"colorbar\":{\"outlinewidth\":0,\"ticks\":\"\"},\"colorscale\":[[0.0,\"#0d0887\"],[0.1111111111111111,\"#46039f\"],[0.2222222222222222,\"#7201a8\"],[0.3333333333333333,\"#9c179e\"],[0.4444444444444444,\"#bd3786\"],[0.5555555555555556,\"#d8576b\"],[0.6666666666666666,\"#ed7953\"],[0.7777777777777778,\"#fb9f3a\"],[0.8888888888888888,\"#fdca26\"],[1.0,\"#f0f921\"]]}],\"choropleth\":[{\"type\":\"choropleth\",\"colorbar\":{\"outlinewidth\":0,\"ticks\":\"\"}}],\"histogram2d\":[{\"type\":\"histogram2d\",\"colorbar\":{\"outlinewidth\":0,\"ticks\":\"\"},\"colorscale\":[[0.0,\"#0d0887\"],[0.1111111111111111,\"#46039f\"],[0.2222222222222222,\"#7201a8\"],[0.3333333333333333,\"#9c179e\"],[0.4444444444444444,\"#bd3786\"],[0.5555555555555556,\"#d8576b\"],[0.6666666666666666,\"#ed7953\"],[0.7777777777777778,\"#fb9f3a\"],[0.8888888888888888,\"#fdca26\"],[1.0,\"#f0f921\"]]}],\"heatmap\":[{\"type\":\"heatmap\",\"colorbar\":{\"outlinewidth\":0,\"ticks\":\"\"},\"colorscale\":[[0.0,\"#0d0887\"],[0.1111111111111111,\"#46039f\"],[0.2222222222222222,\"#7201a8\"],[0.3333333333333333,\"#9c179e\"],[0.4444444444444444,\"#bd3786\"],[0.5555555555555556,\"#d8576b\"],[0.6666666666666666,\"#ed7953\"],[0.7777777777777778,\"#fb9f3a\"],[0.8888888888888888,\"#fdca26\"],[1.0,\"#f0f921\"]]}],\"heatmapgl\":[{\"type\":\"heatmapgl\",\"colorbar\":{\"outlinewidth\":0,\"ticks\":\"\"},\"colorscale\":[[0.0,\"#0d0887\"],[0.1111111111111111,\"#46039f\"],[0.2222222222222222,\"#7201a8\"],[0.3333333333333333,\"#9c179e\"],[0.4444444444444444,\"#bd3786\"],[0.5555555555555556,\"#d8576b\"],[0.6666666666666666,\"#ed7953\"],[0.7777777777777778,\"#fb9f3a\"],[0.8888888888888888,\"#fdca26\"],[1.0,\"#f0f921\"]]}],\"contourcarpet\":[{\"type\":\"contourcarpet\",\"colorbar\":{\"outlinewidth\":0,\"ticks\":\"\"}}],\"contour\":[{\"type\":\"contour\",\"colorbar\":{\"outlinewidth\":0,\"ticks\":\"\"},\"colorscale\":[[0.0,\"#0d0887\"],[0.1111111111111111,\"#46039f\"],[0.2222222222222222,\"#7201a8\"],[0.3333333333333333,\"#9c179e\"],[0.4444444444444444,\"#bd3786\"],[0.5555555555555556,\"#d8576b\"],[0.6666666666666666,\"#ed7953\"],[0.7777777777777778,\"#fb9f3a\"],[0.8888888888888888,\"#fdca26\"],[1.0,\"#f0f921\"]]}],\"surface\":[{\"type\":\"surface\",\"colorbar\":{\"outlinewidth\":0,\"ticks\":\"\"},\"colorscale\":[[0.0,\"#0d0887\"],[0.1111111111111111,\"#46039f\"],[0.2222222222222222,\"#7201a8\"],[0.3333333333333333,\"#9c179e\"],[0.4444444444444444,\"#bd3786\"],[0.5555555555555556,\"#d8576b\"],[0.6666666666666666,\"#ed7953\"],[0.7777777777777778,\"#fb9f3a\"],[0.8888888888888888,\"#fdca26\"],[1.0,\"#f0f921\"]]}],\"mesh3d\":[{\"type\":\"mesh3d\",\"colorbar\":{\"outlinewidth\":0,\"ticks\":\"\"}}],\"scatter\":[{\"fillpattern\":{\"fillmode\":\"overlay\",\"size\":10,\"solidity\":0.2},\"type\":\"scatter\"}],\"parcoords\":[{\"type\":\"parcoords\",\"line\":{\"colorbar\":{\"outlinewidth\":0,\"ticks\":\"\"}}}],\"scatterpolargl\":[{\"type\":\"scatterpolargl\",\"marker\":{\"colorbar\":{\"outlinewidth\":0,\"ticks\":\"\"}}}],\"bar\":[{\"error_x\":{\"color\":\"#2a3f5f\"},\"error_y\":{\"color\":\"#2a3f5f\"},\"marker\":{\"line\":{\"color\":\"#E5ECF6\",\"width\":0.5},\"pattern\":{\"fillmode\":\"overlay\",\"size\":10,\"solidity\":0.2}},\"type\":\"bar\"}],\"scattergeo\":[{\"type\":\"scattergeo\",\"marker\":{\"colorbar\":{\"outlinewidth\":0,\"ticks\":\"\"}}}],\"scatterpolar\":[{\"type\":\"scatterpolar\",\"marker\":{\"colorbar\":{\"outlinewidth\":0,\"ticks\":\"\"}}}],\"histogram\":[{\"marker\":{\"pattern\":{\"fillmode\":\"overlay\",\"size\":10,\"solidity\":0.2}},\"type\":\"histogram\"}],\"scattergl\":[{\"type\":\"scattergl\",\"marker\":{\"colorbar\":{\"outlinewidth\":0,\"ticks\":\"\"}}}],\"scatter3d\":[{\"type\":\"scatter3d\",\"line\":{\"colorbar\":{\"outlinewidth\":0,\"ticks\":\"\"}},\"marker\":{\"colorbar\":{\"outlinewidth\":0,\"ticks\":\"\"}}}],\"scattermapbox\":[{\"type\":\"scattermapbox\",\"marker\":{\"colorbar\":{\"outlinewidth\":0,\"ticks\":\"\"}}}],\"scatterternary\":[{\"type\":\"scatterternary\",\"marker\":{\"colorbar\":{\"outlinewidth\":0,\"ticks\":\"\"}}}],\"scattercarpet\":[{\"type\":\"scattercarpet\",\"marker\":{\"colorbar\":{\"outlinewidth\":0,\"ticks\":\"\"}}}],\"carpet\":[{\"aaxis\":{\"endlinecolor\":\"#2a3f5f\",\"gridcolor\":\"white\",\"linecolor\":\"white\",\"minorgridcolor\":\"white\",\"startlinecolor\":\"#2a3f5f\"},\"baxis\":{\"endlinecolor\":\"#2a3f5f\",\"gridcolor\":\"white\",\"linecolor\":\"white\",\"minorgridcolor\":\"white\",\"startlinecolor\":\"#2a3f5f\"},\"type\":\"carpet\"}],\"table\":[{\"cells\":{\"fill\":{\"color\":\"#EBF0F8\"},\"line\":{\"color\":\"white\"}},\"header\":{\"fill\":{\"color\":\"#C8D4E3\"},\"line\":{\"color\":\"white\"}},\"type\":\"table\"}],\"barpolar\":[{\"marker\":{\"line\":{\"color\":\"#E5ECF6\",\"width\":0.5},\"pattern\":{\"fillmode\":\"overlay\",\"size\":10,\"solidity\":0.2}},\"type\":\"barpolar\"}],\"pie\":[{\"automargin\":true,\"type\":\"pie\"}]},\"layout\":{\"autotypenumbers\":\"strict\",\"colorway\":[\"#636efa\",\"#EF553B\",\"#00cc96\",\"#ab63fa\",\"#FFA15A\",\"#19d3f3\",\"#FF6692\",\"#B6E880\",\"#FF97FF\",\"#FECB52\"],\"font\":{\"color\":\"#2a3f5f\"},\"hovermode\":\"closest\",\"hoverlabel\":{\"align\":\"left\"},\"paper_bgcolor\":\"white\",\"plot_bgcolor\":\"#E5ECF6\",\"polar\":{\"bgcolor\":\"#E5ECF6\",\"angularaxis\":{\"gridcolor\":\"white\",\"linecolor\":\"white\",\"ticks\":\"\"},\"radialaxis\":{\"gridcolor\":\"white\",\"linecolor\":\"white\",\"ticks\":\"\"}},\"ternary\":{\"bgcolor\":\"#E5ECF6\",\"aaxis\":{\"gridcolor\":\"white\",\"linecolor\":\"white\",\"ticks\":\"\"},\"baxis\":{\"gridcolor\":\"white\",\"linecolor\":\"white\",\"ticks\":\"\"},\"caxis\":{\"gridcolor\":\"white\",\"linecolor\":\"white\",\"ticks\":\"\"}},\"coloraxis\":{\"colorbar\":{\"outlinewidth\":0,\"ticks\":\"\"}},\"colorscale\":{\"sequential\":[[0.0,\"#0d0887\"],[0.1111111111111111,\"#46039f\"],[0.2222222222222222,\"#7201a8\"],[0.3333333333333333,\"#9c179e\"],[0.4444444444444444,\"#bd3786\"],[0.5555555555555556,\"#d8576b\"],[0.6666666666666666,\"#ed7953\"],[0.7777777777777778,\"#fb9f3a\"],[0.8888888888888888,\"#fdca26\"],[1.0,\"#f0f921\"]],\"sequentialminus\":[[0.0,\"#0d0887\"],[0.1111111111111111,\"#46039f\"],[0.2222222222222222,\"#7201a8\"],[0.3333333333333333,\"#9c179e\"],[0.4444444444444444,\"#bd3786\"],[0.5555555555555556,\"#d8576b\"],[0.6666666666666666,\"#ed7953\"],[0.7777777777777778,\"#fb9f3a\"],[0.8888888888888888,\"#fdca26\"],[1.0,\"#f0f921\"]],\"diverging\":[[0,\"#8e0152\"],[0.1,\"#c51b7d\"],[0.2,\"#de77ae\"],[0.3,\"#f1b6da\"],[0.4,\"#fde0ef\"],[0.5,\"#f7f7f7\"],[0.6,\"#e6f5d0\"],[0.7,\"#b8e186\"],[0.8,\"#7fbc41\"],[0.9,\"#4d9221\"],[1,\"#276419\"]]},\"xaxis\":{\"gridcolor\":\"white\",\"linecolor\":\"white\",\"ticks\":\"\",\"title\":{\"standoff\":15},\"zerolinecolor\":\"white\",\"automargin\":true,\"zerolinewidth\":2},\"yaxis\":{\"gridcolor\":\"white\",\"linecolor\":\"white\",\"ticks\":\"\",\"title\":{\"standoff\":15},\"zerolinecolor\":\"white\",\"automargin\":true,\"zerolinewidth\":2},\"scene\":{\"xaxis\":{\"backgroundcolor\":\"#E5ECF6\",\"gridcolor\":\"white\",\"linecolor\":\"white\",\"showbackground\":true,\"ticks\":\"\",\"zerolinecolor\":\"white\",\"gridwidth\":2},\"yaxis\":{\"backgroundcolor\":\"#E5ECF6\",\"gridcolor\":\"white\",\"linecolor\":\"white\",\"showbackground\":true,\"ticks\":\"\",\"zerolinecolor\":\"white\",\"gridwidth\":2},\"zaxis\":{\"backgroundcolor\":\"#E5ECF6\",\"gridcolor\":\"white\",\"linecolor\":\"white\",\"showbackground\":true,\"ticks\":\"\",\"zerolinecolor\":\"white\",\"gridwidth\":2}},\"shapedefaults\":{\"line\":{\"color\":\"#2a3f5f\"}},\"annotationdefaults\":{\"arrowcolor\":\"#2a3f5f\",\"arrowhead\":0,\"arrowwidth\":1},\"geo\":{\"bgcolor\":\"white\",\"landcolor\":\"#E5ECF6\",\"subunitcolor\":\"white\",\"showland\":true,\"showlakes\":true,\"lakecolor\":\"white\"},\"title\":{\"x\":0.05},\"mapbox\":{\"style\":\"light\"}}},\"xaxis\":{\"anchor\":\"y\",\"domain\":[0.0,1.0],\"title\":{\"text\":\"Time of depdarture\"}},\"yaxis\":{\"anchor\":\"x\",\"domain\":[0.0,1.0],\"title\":{\"text\":\"Operating count\"}},\"legend\":{\"tracegroupgap\":0},\"margin\":{\"t\":60},\"height\":400,\"width\":900},                        {\"responsive\": true}                    ).then(function(){\n",
              "                            \n",
              "var gd = document.getElementById('d9094c37-d85a-4452-b9ef-9aa815326573');\n",
              "var x = new MutationObserver(function (mutations, observer) {{\n",
              "        var display = window.getComputedStyle(gd).display;\n",
              "        if (!display || display === 'none') {{\n",
              "            console.log([gd, 'removed!']);\n",
              "            Plotly.purge(gd);\n",
              "            observer.disconnect();\n",
              "        }}\n",
              "}});\n",
              "\n",
              "// Listen for the removal of the full notebook cells\n",
              "var notebookContainer = gd.closest('#notebook-container');\n",
              "if (notebookContainer) {{\n",
              "    x.observe(notebookContainer, {childList: true});\n",
              "}}\n",
              "\n",
              "// Listen for the clearing of the current output cell\n",
              "var outputEl = gd.closest('.output');\n",
              "if (outputEl) {{\n",
              "    x.observe(outputEl, {childList: true});\n",
              "}}\n",
              "\n",
              "                        })                };                            </script>        </div>\n",
              "</body>\n",
              "</html>"
            ]
          },
          "metadata": {}
        }
      ],
      "source": [
        "#What are the times at which the cities are operating most of their flights\n",
        "departure_time = data.groupby('departure_time').count()['airline']\n",
        "cities = [i for i,df in data.groupby('departure_time')]\n",
        "px.line(x = cities,y = departure_time,width=900,height=400,labels={'x':\"Time of depdarture\",'y':'Operating count'},markers=True)"
      ]
    },
    {
      "cell_type": "code",
      "execution_count": null,
      "id": "654f34c5",
      "metadata": {
        "execution": {
          "iopub.execute_input": "2022-08-10T12:10:03.664585Z",
          "iopub.status.busy": "2022-08-10T12:10:03.663672Z",
          "iopub.status.idle": "2022-08-10T12:10:04.166763Z",
          "shell.execute_reply": "2022-08-10T12:10:04.165475Z"
        },
        "papermill": {
          "duration": 0.52714,
          "end_time": "2022-08-10T12:10:04.169554",
          "exception": false,
          "start_time": "2022-08-10T12:10:03.642414",
          "status": "completed"
        },
        "tags": [],
        "id": "654f34c5"
      },
      "outputs": [],
      "source": [
        "#individual cities and their operating times\n",
        "cities = [i for i,df in data.groupby('source_city')]\n",
        "fig = go.Figure()\n",
        "for i in cities:\n",
        "    values = data[data['source_city']==i]\n",
        "    dep_time = [i for i,df in values.groupby('departure_time')]\n",
        "    values = list(values.groupby('departure_time').count()['airline'].values)\n",
        "    fig.add_trace(go.Scatter(\n",
        "    x=dep_time,\n",
        "    y=values,name = i))\n",
        "fig.update_layout(\n",
        "    width=1000,\n",
        "    height=500,\n",
        "    paper_bgcolor=\"LightSteelBlue\",\n",
        ")\n",
        "fig.show()"
      ]
    },
    {
      "cell_type": "code",
      "execution_count": null,
      "id": "c7868ccf",
      "metadata": {
        "execution": {
          "iopub.execute_input": "2022-08-10T12:10:04.217258Z",
          "iopub.status.busy": "2022-08-10T12:10:04.215906Z",
          "iopub.status.idle": "2022-08-10T12:10:04.378516Z",
          "shell.execute_reply": "2022-08-10T12:10:04.377244Z"
        },
        "papermill": {
          "duration": 0.19027,
          "end_time": "2022-08-10T12:10:04.381388",
          "exception": false,
          "start_time": "2022-08-10T12:10:04.191118",
          "status": "completed"
        },
        "tags": [],
        "id": "c7868ccf"
      },
      "outputs": [],
      "source": [
        "#Price of ticket based on time of departure\n",
        "price_by_dep_time = data.groupby('departure_time').mean()['price']\n",
        "dep_time = [i for i,df in data.groupby('departure_time')]\n",
        "values = list(price_by_dep_time.values)"
      ]
    },
    {
      "cell_type": "code",
      "execution_count": null,
      "id": "72a7d03d",
      "metadata": {
        "execution": {
          "iopub.execute_input": "2022-08-10T12:10:04.425527Z",
          "iopub.status.busy": "2022-08-10T12:10:04.425102Z",
          "iopub.status.idle": "2022-08-10T12:10:04.487170Z",
          "shell.execute_reply": "2022-08-10T12:10:04.485905Z"
        },
        "papermill": {
          "duration": 0.086422,
          "end_time": "2022-08-10T12:10:04.489746",
          "exception": false,
          "start_time": "2022-08-10T12:10:04.403324",
          "status": "completed"
        },
        "tags": [],
        "id": "72a7d03d"
      },
      "outputs": [],
      "source": [
        "px.bar(x = dep_time,y = values,color = values)\n",
        "#flights in the latenight are the cheapest"
      ]
    },
    {
      "cell_type": "code",
      "execution_count": null,
      "id": "8756e7c6",
      "metadata": {
        "execution": {
          "iopub.execute_input": "2022-08-10T12:10:04.532891Z",
          "iopub.status.busy": "2022-08-10T12:10:04.532147Z",
          "iopub.status.idle": "2022-08-10T12:10:04.537716Z",
          "shell.execute_reply": "2022-08-10T12:10:04.536457Z"
        },
        "papermill": {
          "duration": 0.029999,
          "end_time": "2022-08-10T12:10:04.540187",
          "exception": false,
          "start_time": "2022-08-10T12:10:04.510188",
          "status": "completed"
        },
        "tags": [],
        "id": "8756e7c6"
      },
      "outputs": [],
      "source": [
        "#lets consider a source and a destination and check which is the operator that is operating most number of services in that route"
      ]
    },
    {
      "cell_type": "code",
      "execution_count": null,
      "id": "42712afc",
      "metadata": {
        "execution": {
          "iopub.execute_input": "2022-08-10T12:10:04.582861Z",
          "iopub.status.busy": "2022-08-10T12:10:04.582429Z",
          "iopub.status.idle": "2022-08-10T12:10:04.875566Z",
          "shell.execute_reply": "2022-08-10T12:10:04.874136Z"
        },
        "papermill": {
          "duration": 0.317864,
          "end_time": "2022-08-10T12:10:04.878457",
          "exception": false,
          "start_time": "2022-08-10T12:10:04.560593",
          "status": "completed"
        },
        "tags": [],
        "id": "42712afc"
      },
      "outputs": [],
      "source": [
        "#How does the source city affect the price\n",
        "fig = make_subplots(rows=1,cols=2)\n",
        "source_city = list(data.groupby('source_city').mean()['price'].values)\n",
        "source_cities = [i for i,df in data.groupby('source_city')]\n",
        "destination_city = list(data.groupby('destination_city').mean()['price'].values)\n",
        "destination_cities = [i for i,df in data.groupby('destination_city')]\n",
        "fig.add_trace(go.Bar(y = source_city, x = source_cities,name = \"source\"),row=1,col=1)\n",
        "fig.add_trace(go.Bar(y = destination_city, x = destination_cities,name = \"destination\"),row=1,col=2)"
      ]
    },
    {
      "cell_type": "markdown",
      "id": "cfa03a10",
      "metadata": {
        "papermill": {
          "duration": 0.020495,
          "end_time": "2022-08-10T12:10:04.919687",
          "exception": false,
          "start_time": "2022-08-10T12:10:04.899192",
          "status": "completed"
        },
        "tags": [],
        "id": "cfa03a10"
      },
      "source": [
        "Delhi is the cheapest destination/Source to travel for/from and chennai is the most expensive place to reach or to travel from"
      ]
    },
    {
      "cell_type": "markdown",
      "id": "0cd7659d",
      "metadata": {
        "id": "0cd7659d"
      },
      "source": [
        "# Tableau Dashboard for Ticket Prices in INDIA"
      ]
    },
    {
      "cell_type": "code",
      "execution_count": 67,
      "id": "cb181e16",
      "metadata": {
        "id": "cb181e16",
        "outputId": "ef72e8dd-426b-435c-c9e9-9f1d34fbe89f",
        "colab": {
          "base_uri": "https://localhost:8080/",
          "height": 1000
        }
      },
      "outputs": [
        {
          "output_type": "display_data",
          "data": {
            "text/plain": [
              "<IPython.core.display.HTML object>"
            ],
            "text/html": [
              "<div class='tableauPlaceholder' id='viz1660245509332' style='position: relative'><noscript><a href='#'><img alt='Flight Prices in INDIA      -\n",
              "How much costs a ticket price is ? ' src='https:&#47;&#47;public.tableau.com&#47;static&#47;images&#47;Fl&#47;FlightsPricesInINDIA&#47;Dashboard1&#47;1_rss.png' style='border: none' /></a></noscript><object class='tableauViz'  style='display:none;'>\n",
              "    <param name='host_url' value='https%3A%2F%2Fpublic.tableau.com%2F' /> <param name='embed_code_version' value='3' />\n",
              "    <param name='path' value='views&#47;FlightsPricesInINDIA&#47;Dashboard1?:language=en-GB&amp;:embed=true' /> <param name='toolbar' value='yes' />\n",
              "    <param name='static_image' value='https:&#47;&#47;public.tableau.com&#47;static&#47;images&#47;Fl&#47;FlightsPricesInINDIA&#47;Dashboard1&#47;1.png' />\n",
              "    <param name='animate_transition' value='yes' /><param name='display_static_image' value='yes' /><param name='display_spinner' value='yes' />\n",
              "    <param name='display_overlay' value='yes' /><param name='display_count' value='yes' /><param name='language' value='en-GB' /></object></div>                <script type='text/javascript'>                    var divElement = document.getElementById('viz1660245509332');                    var vizElement = divElement.getElementsByTagName('object')[0];\n",
              "    if ( divElement.offsetWidth > 800 ) { vizElement.style.minWidth='620px';vizElement.style.maxWidth='1250px';vizElement.style.width='100%';vizElement.style.minHeight='1087px';vizElement.style.maxHeight='1287px';vizElement.style.height=(divElement.offsetWidth*0.75)+'px';}\n",
              "    else if ( divElement.offsetWidth > 500 ) { vizElement.style.minWidth='620px';vizElement.style.maxWidth='1250px';vizElement.style.width='100%';vizElement.style.minHeight='1087px';vizElement.style.maxHeight='1287px';vizElement.style.height=(divElement.offsetWidth*0.75)+'px';}\n",
              "    else { vizElement.style.width='100%';vizElement.style.height='2127px';}                     var scriptElement = document.createElement('script');                    scriptElement.src = 'https://public.tableau.com/javascripts/api/viz_v1.js';\n",
              "    vizElement.parentNode.insertBefore(scriptElement, vizElement);                </script>\n"
            ]
          },
          "metadata": {}
        }
      ],
      "source": [
        "%%HTML\n",
        "<div class='tableauPlaceholder' id='viz1660245509332' style='position: relative'><noscript><a href='#'><img alt='Flight Prices in INDIA      -\n",
        "How much costs a ticket price is ? ' src='https:&#47;&#47;public.tableau.com&#47;static&#47;images&#47;Fl&#47;FlightsPricesInINDIA&#47;Dashboard1&#47;1_rss.png' style='border: none' /></a></noscript><object class='tableauViz'  style='display:none;'>\n",
        "    <param name='host_url' value='https%3A%2F%2Fpublic.tableau.com%2F' /> <param name='embed_code_version' value='3' />\n",
        "    <param name='path' value='views&#47;FlightsPricesInINDIA&#47;Dashboard1?:language=en-GB&amp;:embed=true' /> <param name='toolbar' value='yes' />\n",
        "    <param name='static_image' value='https:&#47;&#47;public.tableau.com&#47;static&#47;images&#47;Fl&#47;FlightsPricesInINDIA&#47;Dashboard1&#47;1.png' />\n",
        "    <param name='animate_transition' value='yes' /><param name='display_static_image' value='yes' /><param name='display_spinner' value='yes' />\n",
        "    <param name='display_overlay' value='yes' /><param name='display_count' value='yes' /><param name='language' value='en-GB' /></object></div>                <script type='text/javascript'>                    var divElement = document.getElementById('viz1660245509332');                    var vizElement = divElement.getElementsByTagName('object')[0];\n",
        "    if ( divElement.offsetWidth > 800 ) { vizElement.style.minWidth='620px';vizElement.style.maxWidth='1250px';vizElement.style.width='100%';vizElement.style.minHeight='1087px';vizElement.style.maxHeight='1287px';vizElement.style.height=(divElement.offsetWidth*0.75)+'px';}\n",
        "    else if ( divElement.offsetWidth > 500 ) { vizElement.style.minWidth='620px';vizElement.style.maxWidth='1250px';vizElement.style.width='100%';vizElement.style.minHeight='1087px';vizElement.style.maxHeight='1287px';vizElement.style.height=(divElement.offsetWidth*0.75)+'px';}\n",
        "    else { vizElement.style.width='100%';vizElement.style.height='2127px';}                     var scriptElement = document.createElement('script');                    scriptElement.src = 'https://public.tableau.com/javascripts/api/viz_v1.js';\n",
        "    vizElement.parentNode.insertBefore(scriptElement, vizElement);                </script>"
      ]
    },
    {
      "cell_type": "markdown",
      "id": "33b298b4",
      "metadata": {
        "papermill": {
          "duration": 0.021395,
          "end_time": "2022-08-10T12:10:04.961832",
          "exception": false,
          "start_time": "2022-08-10T12:10:04.940437",
          "status": "completed"
        },
        "tags": [],
        "id": "33b298b4"
      },
      "source": [
        "#### How does the number of stops effect the price??"
      ]
    },
    {
      "cell_type": "code",
      "execution_count": 68,
      "id": "ade858ab",
      "metadata": {
        "execution": {
          "iopub.execute_input": "2022-08-10T12:10:05.005422Z",
          "iopub.status.busy": "2022-08-10T12:10:05.005047Z",
          "iopub.status.idle": "2022-08-10T12:10:05.031739Z",
          "shell.execute_reply": "2022-08-10T12:10:05.030431Z"
        },
        "papermill": {
          "duration": 0.051358,
          "end_time": "2022-08-10T12:10:05.034130",
          "exception": false,
          "start_time": "2022-08-10T12:10:04.982772",
          "status": "completed"
        },
        "tags": [],
        "id": "ade858ab",
        "outputId": "da6ce62f-c926-4b5d-b8b6-87a3c363c48b",
        "colab": {
          "base_uri": "https://localhost:8080/"
        }
      },
      "outputs": [
        {
          "output_type": "execute_result",
          "data": {
            "text/plain": [
              "one            250863\n",
              "zero            36004\n",
              "two_or_more     13286\n",
              "Name: stops, dtype: int64"
            ]
          },
          "metadata": {},
          "execution_count": 68
        }
      ],
      "source": [
        "data['stops'].value_counts()"
      ]
    },
    {
      "cell_type": "code",
      "execution_count": 69,
      "id": "17b2cbff",
      "metadata": {
        "execution": {
          "iopub.execute_input": "2022-08-10T12:10:05.078201Z",
          "iopub.status.busy": "2022-08-10T12:10:05.077400Z",
          "iopub.status.idle": "2022-08-10T12:10:05.094791Z",
          "shell.execute_reply": "2022-08-10T12:10:05.093768Z"
        },
        "papermill": {
          "duration": 0.042457,
          "end_time": "2022-08-10T12:10:05.097527",
          "exception": false,
          "start_time": "2022-08-10T12:10:05.055070",
          "status": "completed"
        },
        "tags": [],
        "id": "17b2cbff"
      },
      "outputs": [],
      "source": [
        "data_copy = data.copy()"
      ]
    },
    {
      "cell_type": "code",
      "execution_count": 70,
      "id": "8c7d2725",
      "metadata": {
        "execution": {
          "iopub.execute_input": "2022-08-10T12:10:05.141575Z",
          "iopub.status.busy": "2022-08-10T12:10:05.140775Z",
          "iopub.status.idle": "2022-08-10T12:10:06.322584Z",
          "shell.execute_reply": "2022-08-10T12:10:06.321420Z"
        },
        "papermill": {
          "duration": 1.206826,
          "end_time": "2022-08-10T12:10:06.325031",
          "exception": false,
          "start_time": "2022-08-10T12:10:05.118205",
          "status": "completed"
        },
        "tags": [],
        "id": "8c7d2725",
        "outputId": "a8f9a359-af36-4846-9d40-e1abd03b4754",
        "colab": {
          "base_uri": "https://localhost:8080/",
          "height": 482
        }
      },
      "outputs": [
        {
          "output_type": "execute_result",
          "data": {
            "text/plain": [
              "<Axes: xlabel='stops', ylabel='price'>"
            ]
          },
          "metadata": {},
          "execution_count": 70
        },
        {
          "output_type": "display_data",
          "data": {
            "text/plain": [
              "<Figure size 1100x500 with 1 Axes>"
            ],
            "image/png": "[encoded data removed]"
          },
          "metadata": {}
        }
      ],
      "source": [
        "plt.figure(figsize=(11,5))\n",
        "sns.violinplot(x = data_copy['stops'],y = data_copy['price'])"
      ]
    },
    {
      "cell_type": "markdown",
      "id": "9ddfc83d",
      "metadata": {
        "papermill": {
          "duration": 0.021977,
          "end_time": "2022-08-10T12:10:06.368910",
          "exception": false,
          "start_time": "2022-08-10T12:10:06.346933",
          "status": "completed"
        },
        "tags": [],
        "id": "9ddfc83d"
      },
      "source": [
        "There are 2 bumps in each distribustions in each case beacuse we have business and economy classes"
      ]
    },
    {
      "cell_type": "code",
      "execution_count": 71,
      "id": "121bcc29",
      "metadata": {
        "execution": {
          "iopub.execute_input": "2022-08-10T12:10:06.413910Z",
          "iopub.status.busy": "2022-08-10T12:10:06.413483Z",
          "iopub.status.idle": "2022-08-10T12:10:06.499298Z",
          "shell.execute_reply": "2022-08-10T12:10:06.498317Z"
        },
        "papermill": {
          "duration": 0.111309,
          "end_time": "2022-08-10T12:10:06.501725",
          "exception": false,
          "start_time": "2022-08-10T12:10:06.390416",
          "status": "completed"
        },
        "tags": [],
        "id": "121bcc29",
        "outputId": "ca03d481-0ae9-4b10-f6d6-a241919670c0",
        "colab": {
          "base_uri": "https://localhost:8080/",
          "height": 264
        }
      },
      "outputs": [
        {
          "output_type": "stream",
          "name": "stderr",
          "text": [
            "<ipython-input-71-be7aefce9e35>:2: FutureWarning:\n",
            "\n",
            "The default value of numeric_only in DataFrameGroupBy.mean is deprecated. In a future version, numeric_only will default to False. Either specify numeric_only or select only columns which should be valid for the function.\n",
            "\n"
          ]
        },
        {
          "output_type": "execute_result",
          "data": {
            "text/plain": [
              "              duration  days_left         price\n",
              "stops                                          \n",
              "one          13.496514  26.073893  22900.992482\n",
              "two_or_more  15.317141  24.831176  14113.450775\n",
              "zero          2.191324  25.956060   9375.938535"
            ],
            "text/html": [
              "\n",
              "\n",
              "  <div id=\"df-b5a7068d-5d22-497d-8865-1c5048723811\">\n",
              "    <div class=\"colab-df-container\">\n",
              "      <div>\n",
              "<style scoped>\n",
              "    .dataframe tbody tr th:only-of-type {\n",
              "        vertical-align: middle;\n",
              "    }\n",
              "\n",
              "    .dataframe tbody tr th {\n",
              "        vertical-align: top;\n",
              "    }\n",
              "\n",
              "    .dataframe thead th {\n",
              "        text-align: right;\n",
              "    }\n",
              "</style>\n",
              "<table border=\"1\" class=\"dataframe\">\n",
              "  <thead>\n",
              "    <tr style=\"text-align: right;\">\n",
              "      <th></th>\n",
              "      <th>duration</th>\n",
              "      <th>days_left</th>\n",
              "      <th>price</th>\n",
              "    </tr>\n",
              "    <tr>\n",
              "      <th>stops</th>\n",
              "      <th></th>\n",
              "      <th></th>\n",
              "      <th></th>\n",
              "    </tr>\n",
              "  </thead>\n",
              "  <tbody>\n",
              "    <tr>\n",
              "      <th>one</th>\n",
              "      <td>13.496514</td>\n",
              "      <td>26.073893</td>\n",
              "      <td>22900.992482</td>\n",
              "    </tr>\n",
              "    <tr>\n",
              "      <th>two_or_more</th>\n",
              "      <td>15.317141</td>\n",
              "      <td>24.831176</td>\n",
              "      <td>14113.450775</td>\n",
              "    </tr>\n",
              "    <tr>\n",
              "      <th>zero</th>\n",
              "      <td>2.191324</td>\n",
              "      <td>25.956060</td>\n",
              "      <td>9375.938535</td>\n",
              "    </tr>\n",
              "  </tbody>\n",
              "</table>\n",
              "</div>\n",
              "      <button class=\"colab-df-convert\" onclick=\"convertToInteractive('df-b5a7068d-5d22-497d-8865-1c5048723811')\"\n",
              "              title=\"Convert this dataframe to an interactive table.\"\n",
              "              style=\"display:none;\">\n",
              "\n",
              "  <svg xmlns=\"http://www.w3.org/2000/svg\" height=\"24px\"viewBox=\"0 0 24 24\"\n",
              "       width=\"24px\">\n",
              "    <path d=\"M0 0h24v24H0V0z\" fill=\"none\"/>\n",
              "    <path d=\"M18.56 5.44l.94 2.06.94-2.06 2.06-.94-2.06-.94-.94-2.06-.94 2.06-2.06.94zm-11 1L8.5 8.5l.94-2.06 2.06-.94-2.06-.94L8.5 2.5l-.94 2.06-2.06.94zm10 10l.94 2.06.94-2.06 2.06-.94-2.06-.94-.94-2.06-.94 2.06-2.06.94z\"/><path d=\"M17.41 7.96l-1.37-1.37c-.4-.4-.92-.59-1.43-.59-.52 0-1.04.2-1.43.59L10.3 9.45l-7.72 7.72c-.78.78-.78 2.05 0 2.83L4 21.41c.39.39.9.59 1.41.59.51 0 1.02-.2 1.41-.59l7.78-7.78 2.81-2.81c.8-.78.8-2.07 0-2.86zM5.41 20L4 18.59l7.72-7.72 1.47 1.35L5.41 20z\"/>\n",
              "  </svg>\n",
              "      </button>\n",
              "\n",
              "\n",
              "\n",
              "    <div id=\"df-285422a3-4817-4af9-9631-84170b190427\">\n",
              "      <button class=\"colab-df-quickchart\" onclick=\"quickchart('df-285422a3-4817-4af9-9631-84170b190427')\"\n",
              "              title=\"Suggest charts.\"\n",
              "              style=\"display:none;\">\n",
              "\n",
              "<svg xmlns=\"http://www.w3.org/2000/svg\" height=\"24px\"viewBox=\"0 0 24 24\"\n",
              "     width=\"24px\">\n",
              "    <g>\n",
              "        <path d=\"M19 3H5c-1.1 0-2 .9-2 2v14c0 1.1.9 2 2 2h14c1.1 0 2-.9 2-2V5c0-1.1-.9-2-2-2zM9 17H7v-7h2v7zm4 0h-2V7h2v10zm4 0h-2v-4h2v4z\"/>\n",
              "    </g>\n",
              "</svg>\n",
              "      </button>\n",
              "    </div>\n",
              "\n",
              "<style>\n",
              "  .colab-df-quickchart {\n",
              "    background-color: #E8F0FE;\n",
              "    border: none;\n",
              "    border-radius: 50%;\n",
              "    cursor: pointer;\n",
              "    display: none;\n",
              "    fill: #1967D2;\n",
              "    height: 32px;\n",
              "    padding: 0 0 0 0;\n",
              "    width: 32px;\n",
              "  }\n",
              "\n",
              "  .colab-df-quickchart:hover {\n",
              "    background-color: #E2EBFA;\n",
              "    box-shadow: 0px 1px 2px rgba(60, 64, 67, 0.3), 0px 1px 3px 1px rgba(60, 64, 67, 0.15);\n",
              "    fill: #174EA6;\n",
              "  }\n",
              "\n",
              "  [theme=dark] .colab-df-quickchart {\n",
              "    background-color: #3B4455;\n",
              "    fill: #D2E3FC;\n",
              "  }\n",
              "\n",
              "  [theme=dark] .colab-df-quickchart:hover {\n",
              "    background-color: #434B5C;\n",
              "    box-shadow: 0px 1px 3px 1px rgba(0, 0, 0, 0.15);\n",
              "    filter: drop-shadow(0px 1px 2px rgba(0, 0, 0, 0.3));\n",
              "    fill: #FFFFFF;\n",
              "  }\n",
              "</style>\n",
              "\n",
              "    <script>\n",
              "      async function quickchart(key) {\n",
              "        const containerElement = document.querySelector('#' + key);\n",
              "        const charts = await google.colab.kernel.invokeFunction(\n",
              "            'suggestCharts', [key], {});\n",
              "      }\n",
              "    </script>\n",
              "\n",
              "      <script>\n",
              "\n",
              "function displayQuickchartButton(domScope) {\n",
              "  let quickchartButtonEl =\n",
              "    domScope.querySelector('#df-285422a3-4817-4af9-9631-84170b190427 button.colab-df-quickchart');\n",
              "  quickchartButtonEl.style.display =\n",
              "    google.colab.kernel.accessAllowed ? 'block' : 'none';\n",
              "}\n",
              "\n",
              "        displayQuickchartButton(document);\n",
              "      </script>\n",
              "      <style>\n",
              "    .colab-df-container {\n",
              "      display:flex;\n",
              "      flex-wrap:wrap;\n",
              "      gap: 12px;\n",
              "    }\n",
              "\n",
              "    .colab-df-convert {\n",
              "      background-color: #E8F0FE;\n",
              "      border: none;\n",
              "      border-radius: 50%;\n",
              "      cursor: pointer;\n",
              "      display: none;\n",
              "      fill: #1967D2;\n",
              "      height: 32px;\n",
              "      padding: 0 0 0 0;\n",
              "      width: 32px;\n",
              "    }\n",
              "\n",
              "    .colab-df-convert:hover {\n",
              "      background-color: #E2EBFA;\n",
              "      box-shadow: 0px 1px 2px rgba(60, 64, 67, 0.3), 0px 1px 3px 1px rgba(60, 64, 67, 0.15);\n",
              "      fill: #174EA6;\n",
              "    }\n",
              "\n",
              "    [theme=dark] .colab-df-convert {\n",
              "      background-color: #3B4455;\n",
              "      fill: #D2E3FC;\n",
              "    }\n",
              "\n",
              "    [theme=dark] .colab-df-convert:hover {\n",
              "      background-color: #434B5C;\n",
              "      box-shadow: 0px 1px 3px 1px rgba(0, 0, 0, 0.15);\n",
              "      filter: drop-shadow(0px 1px 2px rgba(0, 0, 0, 0.3));\n",
              "      fill: #FFFFFF;\n",
              "    }\n",
              "  </style>\n",
              "\n",
              "      <script>\n",
              "        const buttonEl =\n",
              "          document.querySelector('#df-b5a7068d-5d22-497d-8865-1c5048723811 button.colab-df-convert');\n",
              "        buttonEl.style.display =\n",
              "          google.colab.kernel.accessAllowed ? 'block' : 'none';\n",
              "\n",
              "        async function convertToInteractive(key) {\n",
              "          const element = document.querySelector('#df-b5a7068d-5d22-497d-8865-1c5048723811');\n",
              "          const dataTable =\n",
              "            await google.colab.kernel.invokeFunction('convertToInteractive',\n",
              "                                                     [key], {});\n",
              "          if (!dataTable) return;\n",
              "\n",
              "          const docLinkHtml = 'Like what you see? Visit the ' +\n",
              "            '<a target=\"_blank\" href=https://colab.research.google.com/notebooks/data_table.ipynb>data table notebook</a>'\n",
              "            + ' to learn more about interactive tables.';\n",
              "          element.innerHTML = '';\n",
              "          dataTable['output_type'] = 'display_data';\n",
              "          await google.colab.output.renderOutput(dataTable, element);\n",
              "          const docLink = document.createElement('div');\n",
              "          docLink.innerHTML = docLinkHtml;\n",
              "          element.appendChild(docLink);\n",
              "        }\n",
              "      </script>\n",
              "    </div>\n",
              "  </div>\n"
            ]
          },
          "metadata": {},
          "execution_count": 71
        }
      ],
      "source": [
        "#we cannot go by this beacuse business class might drag the prices up\n",
        "data_copy.groupby('stops').mean()"
      ]
    },
    {
      "cell_type": "code",
      "execution_count": 72,
      "id": "c6d39ca1",
      "metadata": {
        "execution": {
          "iopub.execute_input": "2022-08-10T12:10:06.549093Z",
          "iopub.status.busy": "2022-08-10T12:10:06.548174Z",
          "iopub.status.idle": "2022-08-10T12:10:06.673976Z",
          "shell.execute_reply": "2022-08-10T12:10:06.672682Z"
        },
        "papermill": {
          "duration": 0.152182,
          "end_time": "2022-08-10T12:10:06.676770",
          "exception": false,
          "start_time": "2022-08-10T12:10:06.524588",
          "status": "completed"
        },
        "tags": [],
        "id": "c6d39ca1",
        "colab": {
          "base_uri": "https://localhost:8080/"
        },
        "outputId": "3e66abea-05f3-42dd-bfee-e760873d1d46"
      },
      "outputs": [
        {
          "output_type": "stream",
          "name": "stderr",
          "text": [
            "<ipython-input-72-a0cc94092590>:1: FutureWarning:\n",
            "\n",
            "The default value of numeric_only in DataFrameGroupBy.mean is deprecated. In a future version, numeric_only will default to False. Either specify numeric_only or select only columns which should be valid for the function.\n",
            "\n"
          ]
        }
      ],
      "source": [
        "data_copy = data_copy.groupby(['stops','class']).mean().reset_index()"
      ]
    },
    {
      "cell_type": "code",
      "execution_count": 73,
      "id": "9ef91b37",
      "metadata": {
        "execution": {
          "iopub.execute_input": "2022-08-10T12:10:06.722961Z",
          "iopub.status.busy": "2022-08-10T12:10:06.722141Z",
          "iopub.status.idle": "2022-08-10T12:10:06.729333Z",
          "shell.execute_reply": "2022-08-10T12:10:06.727969Z"
        },
        "papermill": {
          "duration": 0.0333,
          "end_time": "2022-08-10T12:10:06.732035",
          "exception": false,
          "start_time": "2022-08-10T12:10:06.698735",
          "status": "completed"
        },
        "tags": [],
        "id": "9ef91b37"
      },
      "outputs": [],
      "source": [
        "economy = data_copy[data_copy['class']=='Economy']\n",
        "businesss = data_copy[data_copy['class']=='Business']"
      ]
    },
    {
      "cell_type": "code",
      "execution_count": 74,
      "id": "e4049b91",
      "metadata": {
        "execution": {
          "iopub.execute_input": "2022-08-10T12:10:06.778427Z",
          "iopub.status.busy": "2022-08-10T12:10:06.777449Z",
          "iopub.status.idle": "2022-08-10T12:10:06.791733Z",
          "shell.execute_reply": "2022-08-10T12:10:06.790497Z"
        },
        "papermill": {
          "duration": 0.040327,
          "end_time": "2022-08-10T12:10:06.794346",
          "exception": false,
          "start_time": "2022-08-10T12:10:06.754019",
          "status": "completed"
        },
        "tags": [],
        "id": "e4049b91",
        "outputId": "e48248fb-297a-420f-eccc-dd6f67125c97",
        "colab": {
          "base_uri": "https://localhost:8080/",
          "height": 143
        }
      },
      "outputs": [
        {
          "output_type": "execute_result",
          "data": {
            "text/plain": [
              "         stops    class   duration  days_left        price\n",
              "1          one  Economy  12.840230  26.224710  6812.857800\n",
              "3  two_or_more  Economy  15.402871  24.930427  9142.264279\n",
              "5         zero  Economy   2.163351  26.042398  4012.624615"
            ],
            "text/html": [
              "\n",
              "\n",
              "  <div id=\"df-efcd978a-72dc-4fbe-8cdf-4dabc17c47c7\">\n",
              "    <div class=\"colab-df-container\">\n",
              "      <div>\n",
              "<style scoped>\n",
              "    .dataframe tbody tr th:only-of-type {\n",
              "        vertical-align: middle;\n",
              "    }\n",
              "\n",
              "    .dataframe tbody tr th {\n",
              "        vertical-align: top;\n",
              "    }\n",
              "\n",
              "    .dataframe thead th {\n",
              "        text-align: right;\n",
              "    }\n",
              "</style>\n",
              "<table border=\"1\" class=\"dataframe\">\n",
              "  <thead>\n",
              "    <tr style=\"text-align: right;\">\n",
              "      <th></th>\n",
              "      <th>stops</th>\n",
              "      <th>class</th>\n",
              "      <th>duration</th>\n",
              "      <th>days_left</th>\n",
              "      <th>price</th>\n",
              "    </tr>\n",
              "  </thead>\n",
              "  <tbody>\n",
              "    <tr>\n",
              "      <th>1</th>\n",
              "      <td>one</td>\n",
              "      <td>Economy</td>\n",
              "      <td>12.840230</td>\n",
              "      <td>26.224710</td>\n",
              "      <td>6812.857800</td>\n",
              "    </tr>\n",
              "    <tr>\n",
              "      <th>3</th>\n",
              "      <td>two_or_more</td>\n",
              "      <td>Economy</td>\n",
              "      <td>15.402871</td>\n",
              "      <td>24.930427</td>\n",
              "      <td>9142.264279</td>\n",
              "    </tr>\n",
              "    <tr>\n",
              "      <th>5</th>\n",
              "      <td>zero</td>\n",
              "      <td>Economy</td>\n",
              "      <td>2.163351</td>\n",
              "      <td>26.042398</td>\n",
              "      <td>4012.624615</td>\n",
              "    </tr>\n",
              "  </tbody>\n",
              "</table>\n",
              "</div>\n",
              "      <button class=\"colab-df-convert\" onclick=\"convertToInteractive('df-efcd978a-72dc-4fbe-8cdf-4dabc17c47c7')\"\n",
              "              title=\"Convert this dataframe to an interactive table.\"\n",
              "              style=\"display:none;\">\n",
              "\n",
              "  <svg xmlns=\"http://www.w3.org/2000/svg\" height=\"24px\"viewBox=\"0 0 24 24\"\n",
              "       width=\"24px\">\n",
              "    <path d=\"M0 0h24v24H0V0z\" fill=\"none\"/>\n",
              "    <path d=\"M18.56 5.44l.94 2.06.94-2.06 2.06-.94-2.06-.94-.94-2.06-.94 2.06-2.06.94zm-11 1L8.5 8.5l.94-2.06 2.06-.94-2.06-.94L8.5 2.5l-.94 2.06-2.06.94zm10 10l.94 2.06.94-2.06 2.06-.94-2.06-.94-.94-2.06-.94 2.06-2.06.94z\"/><path d=\"M17.41 7.96l-1.37-1.37c-.4-.4-.92-.59-1.43-.59-.52 0-1.04.2-1.43.59L10.3 9.45l-7.72 7.72c-.78.78-.78 2.05 0 2.83L4 21.41c.39.39.9.59 1.41.59.51 0 1.02-.2 1.41-.59l7.78-7.78 2.81-2.81c.8-.78.8-2.07 0-2.86zM5.41 20L4 18.59l7.72-7.72 1.47 1.35L5.41 20z\"/>\n",
              "  </svg>\n",
              "      </button>\n",
              "\n",
              "\n",
              "\n",
              "    <div id=\"df-09b6704d-63c6-44cf-beeb-f120cee5778b\">\n",
              "      <button class=\"colab-df-quickchart\" onclick=\"quickchart('df-09b6704d-63c6-44cf-beeb-f120cee5778b')\"\n",
              "              title=\"Suggest charts.\"\n",
              "              style=\"display:none;\">\n",
              "\n",
              "<svg xmlns=\"http://www.w3.org/2000/svg\" height=\"24px\"viewBox=\"0 0 24 24\"\n",
              "     width=\"24px\">\n",
              "    <g>\n",
              "        <path d=\"M19 3H5c-1.1 0-2 .9-2 2v14c0 1.1.9 2 2 2h14c1.1 0 2-.9 2-2V5c0-1.1-.9-2-2-2zM9 17H7v-7h2v7zm4 0h-2V7h2v10zm4 0h-2v-4h2v4z\"/>\n",
              "    </g>\n",
              "</svg>\n",
              "      </button>\n",
              "    </div>\n",
              "\n",
              "<style>\n",
              "  .colab-df-quickchart {\n",
              "    background-color: #E8F0FE;\n",
              "    border: none;\n",
              "    border-radius: 50%;\n",
              "    cursor: pointer;\n",
              "    display: none;\n",
              "    fill: #1967D2;\n",
              "    height: 32px;\n",
              "    padding: 0 0 0 0;\n",
              "    width: 32px;\n",
              "  }\n",
              "\n",
              "  .colab-df-quickchart:hover {\n",
              "    background-color: #E2EBFA;\n",
              "    box-shadow: 0px 1px 2px rgba(60, 64, 67, 0.3), 0px 1px 3px 1px rgba(60, 64, 67, 0.15);\n",
              "    fill: #174EA6;\n",
              "  }\n",
              "\n",
              "  [theme=dark] .colab-df-quickchart {\n",
              "    background-color: #3B4455;\n",
              "    fill: #D2E3FC;\n",
              "  }\n",
              "\n",
              "  [theme=dark] .colab-df-quickchart:hover {\n",
              "    background-color: #434B5C;\n",
              "    box-shadow: 0px 1px 3px 1px rgba(0, 0, 0, 0.15);\n",
              "    filter: drop-shadow(0px 1px 2px rgba(0, 0, 0, 0.3));\n",
              "    fill: #FFFFFF;\n",
              "  }\n",
              "</style>\n",
              "\n",
              "    <script>\n",
              "      async function quickchart(key) {\n",
              "        const containerElement = document.querySelector('#' + key);\n",
              "        const charts = await google.colab.kernel.invokeFunction(\n",
              "            'suggestCharts', [key], {});\n",
              "      }\n",
              "    </script>\n",
              "\n",
              "      <script>\n",
              "\n",
              "function displayQuickchartButton(domScope) {\n",
              "  let quickchartButtonEl =\n",
              "    domScope.querySelector('#df-09b6704d-63c6-44cf-beeb-f120cee5778b button.colab-df-quickchart');\n",
              "  quickchartButtonEl.style.display =\n",
              "    google.colab.kernel.accessAllowed ? 'block' : 'none';\n",
              "}\n",
              "\n",
              "        displayQuickchartButton(document);\n",
              "      </script>\n",
              "      <style>\n",
              "    .colab-df-container {\n",
              "      display:flex;\n",
              "      flex-wrap:wrap;\n",
              "      gap: 12px;\n",
              "    }\n",
              "\n",
              "    .colab-df-convert {\n",
              "      background-color: #E8F0FE;\n",
              "      border: none;\n",
              "      border-radius: 50%;\n",
              "      cursor: pointer;\n",
              "      display: none;\n",
              "      fill: #1967D2;\n",
              "      height: 32px;\n",
              "      padding: 0 0 0 0;\n",
              "      width: 32px;\n",
              "    }\n",
              "\n",
              "    .colab-df-convert:hover {\n",
              "      background-color: #E2EBFA;\n",
              "      box-shadow: 0px 1px 2px rgba(60, 64, 67, 0.3), 0px 1px 3px 1px rgba(60, 64, 67, 0.15);\n",
              "      fill: #174EA6;\n",
              "    }\n",
              "\n",
              "    [theme=dark] .colab-df-convert {\n",
              "      background-color: #3B4455;\n",
              "      fill: #D2E3FC;\n",
              "    }\n",
              "\n",
              "    [theme=dark] .colab-df-convert:hover {\n",
              "      background-color: #434B5C;\n",
              "      box-shadow: 0px 1px 3px 1px rgba(0, 0, 0, 0.15);\n",
              "      filter: drop-shadow(0px 1px 2px rgba(0, 0, 0, 0.3));\n",
              "      fill: #FFFFFF;\n",
              "    }\n",
              "  </style>\n",
              "\n",
              "      <script>\n",
              "        const buttonEl =\n",
              "          document.querySelector('#df-efcd978a-72dc-4fbe-8cdf-4dabc17c47c7 button.colab-df-convert');\n",
              "        buttonEl.style.display =\n",
              "          google.colab.kernel.accessAllowed ? 'block' : 'none';\n",
              "\n",
              "        async function convertToInteractive(key) {\n",
              "          const element = document.querySelector('#df-efcd978a-72dc-4fbe-8cdf-4dabc17c47c7');\n",
              "          const dataTable =\n",
              "            await google.colab.kernel.invokeFunction('convertToInteractive',\n",
              "                                                     [key], {});\n",
              "          if (!dataTable) return;\n",
              "\n",
              "          const docLinkHtml = 'Like what you see? Visit the ' +\n",
              "            '<a target=\"_blank\" href=https://colab.research.google.com/notebooks/data_table.ipynb>data table notebook</a>'\n",
              "            + ' to learn more about interactive tables.';\n",
              "          element.innerHTML = '';\n",
              "          dataTable['output_type'] = 'display_data';\n",
              "          await google.colab.output.renderOutput(dataTable, element);\n",
              "          const docLink = document.createElement('div');\n",
              "          docLink.innerHTML = docLinkHtml;\n",
              "          element.appendChild(docLink);\n",
              "        }\n",
              "      </script>\n",
              "    </div>\n",
              "  </div>\n"
            ]
          },
          "metadata": {},
          "execution_count": 74
        }
      ],
      "source": [
        "economy"
      ]
    },
    {
      "cell_type": "code",
      "execution_count": 75,
      "id": "f2f6657f",
      "metadata": {
        "execution": {
          "iopub.execute_input": "2022-08-10T12:10:06.840875Z",
          "iopub.status.busy": "2022-08-10T12:10:06.840453Z",
          "iopub.status.idle": "2022-08-10T12:10:06.874837Z",
          "shell.execute_reply": "2022-08-10T12:10:06.873699Z"
        },
        "papermill": {
          "duration": 0.060608,
          "end_time": "2022-08-10T12:10:06.877418",
          "exception": false,
          "start_time": "2022-08-10T12:10:06.816810",
          "status": "completed"
        },
        "tags": [],
        "id": "f2f6657f",
        "outputId": "22cfc369-b388-4550-8788-9eb734fcd327",
        "colab": {
          "base_uri": "https://localhost:8080/",
          "height": 542
        }
      },
      "outputs": [
        {
          "output_type": "display_data",
          "data": {
            "text/html": [
              "<html>\n",
              "<head><meta charset=\"utf-8\" /></head>\n",
              "<body>\n",
              "    <div>            <script src=\"https://cdnjs.cloudflare.com/ajax/libs/mathjax/2.7.5/MathJax.js?config=TeX-AMS-MML_SVG\"></script><script type=\"text/javascript\">if (window.MathJax && window.MathJax.Hub && window.MathJax.Hub.Config) {window.MathJax.Hub.Config({SVG: {font: \"STIX-Web\"}});}</script>                <script type=\"text/javascript\">window.PlotlyConfig = {MathJaxConfig: 'local'};</script>\n",
              "        <script src=\"https://cdn.plot.ly/plotly-2.18.2.min.js\"></script>                <div id=\"fed7846d-e99f-447b-943b-c4516ae1da00\" class=\"plotly-graph-div\" style=\"height:525px; width:100%;\"></div>            <script type=\"text/javascript\">                                    window.PLOTLYENV=window.PLOTLYENV || {};                                    if (document.getElementById(\"fed7846d-e99f-447b-943b-c4516ae1da00\")) {                    Plotly.newPlot(                        \"fed7846d-e99f-447b-943b-c4516ae1da00\",                        [{\"x\":[\"one\",\"two_or_more\",\"zero\"],\"y\":[6812.857799845102,9142.264279275589,4012.624614722959],\"type\":\"bar\",\"xaxis\":\"x\",\"yaxis\":\"y\"},{\"x\":[\"one\",\"two_or_more\",\"zero\"],\"y\":[54687.377155939364,70127.66020313943,27846.339052085903],\"type\":\"bar\",\"xaxis\":\"x2\",\"yaxis\":\"y2\"}],                        {\"template\":{\"data\":{\"histogram2dcontour\":[{\"type\":\"histogram2dcontour\",\"colorbar\":{\"outlinewidth\":0,\"ticks\":\"\"},\"colorscale\":[[0.0,\"#0d0887\"],[0.1111111111111111,\"#46039f\"],[0.2222222222222222,\"#7201a8\"],[0.3333333333333333,\"#9c179e\"],[0.4444444444444444,\"#bd3786\"],[0.5555555555555556,\"#d8576b\"],[0.6666666666666666,\"#ed7953\"],[0.7777777777777778,\"#fb9f3a\"],[0.8888888888888888,\"#fdca26\"],[1.0,\"#f0f921\"]]}],\"choropleth\":[{\"type\":\"choropleth\",\"colorbar\":{\"outlinewidth\":0,\"ticks\":\"\"}}],\"histogram2d\":[{\"type\":\"histogram2d\",\"colorbar\":{\"outlinewidth\":0,\"ticks\":\"\"},\"colorscale\":[[0.0,\"#0d0887\"],[0.1111111111111111,\"#46039f\"],[0.2222222222222222,\"#7201a8\"],[0.3333333333333333,\"#9c179e\"],[0.4444444444444444,\"#bd3786\"],[0.5555555555555556,\"#d8576b\"],[0.6666666666666666,\"#ed7953\"],[0.7777777777777778,\"#fb9f3a\"],[0.8888888888888888,\"#fdca26\"],[1.0,\"#f0f921\"]]}],\"heatmap\":[{\"type\":\"heatmap\",\"colorbar\":{\"outlinewidth\":0,\"ticks\":\"\"},\"colorscale\":[[0.0,\"#0d0887\"],[0.1111111111111111,\"#46039f\"],[0.2222222222222222,\"#7201a8\"],[0.3333333333333333,\"#9c179e\"],[0.4444444444444444,\"#bd3786\"],[0.5555555555555556,\"#d8576b\"],[0.6666666666666666,\"#ed7953\"],[0.7777777777777778,\"#fb9f3a\"],[0.8888888888888888,\"#fdca26\"],[1.0,\"#f0f921\"]]}],\"heatmapgl\":[{\"type\":\"heatmapgl\",\"colorbar\":{\"outlinewidth\":0,\"ticks\":\"\"},\"colorscale\":[[0.0,\"#0d0887\"],[0.1111111111111111,\"#46039f\"],[0.2222222222222222,\"#7201a8\"],[0.3333333333333333,\"#9c179e\"],[0.4444444444444444,\"#bd3786\"],[0.5555555555555556,\"#d8576b\"],[0.6666666666666666,\"#ed7953\"],[0.7777777777777778,\"#fb9f3a\"],[0.8888888888888888,\"#fdca26\"],[1.0,\"#f0f921\"]]}],\"contourcarpet\":[{\"type\":\"contourcarpet\",\"colorbar\":{\"outlinewidth\":0,\"ticks\":\"\"}}],\"contour\":[{\"type\":\"contour\",\"colorbar\":{\"outlinewidth\":0,\"ticks\":\"\"},\"colorscale\":[[0.0,\"#0d0887\"],[0.1111111111111111,\"#46039f\"],[0.2222222222222222,\"#7201a8\"],[0.3333333333333333,\"#9c179e\"],[0.4444444444444444,\"#bd3786\"],[0.5555555555555556,\"#d8576b\"],[0.6666666666666666,\"#ed7953\"],[0.7777777777777778,\"#fb9f3a\"],[0.8888888888888888,\"#fdca26\"],[1.0,\"#f0f921\"]]}],\"surface\":[{\"type\":\"surface\",\"colorbar\":{\"outlinewidth\":0,\"ticks\":\"\"},\"colorscale\":[[0.0,\"#0d0887\"],[0.1111111111111111,\"#46039f\"],[0.2222222222222222,\"#7201a8\"],[0.3333333333333333,\"#9c179e\"],[0.4444444444444444,\"#bd3786\"],[0.5555555555555556,\"#d8576b\"],[0.6666666666666666,\"#ed7953\"],[0.7777777777777778,\"#fb9f3a\"],[0.8888888888888888,\"#fdca26\"],[1.0,\"#f0f921\"]]}],\"mesh3d\":[{\"type\":\"mesh3d\",\"colorbar\":{\"outlinewidth\":0,\"ticks\":\"\"}}],\"scatter\":[{\"fillpattern\":{\"fillmode\":\"overlay\",\"size\":10,\"solidity\":0.2},\"type\":\"scatter\"}],\"parcoords\":[{\"type\":\"parcoords\",\"line\":{\"colorbar\":{\"outlinewidth\":0,\"ticks\":\"\"}}}],\"scatterpolargl\":[{\"type\":\"scatterpolargl\",\"marker\":{\"colorbar\":{\"outlinewidth\":0,\"ticks\":\"\"}}}],\"bar\":[{\"error_x\":{\"color\":\"#2a3f5f\"},\"error_y\":{\"color\":\"#2a3f5f\"},\"marker\":{\"line\":{\"color\":\"#E5ECF6\",\"width\":0.5},\"pattern\":{\"fillmode\":\"overlay\",\"size\":10,\"solidity\":0.2}},\"type\":\"bar\"}],\"scattergeo\":[{\"type\":\"scattergeo\",\"marker\":{\"colorbar\":{\"outlinewidth\":0,\"ticks\":\"\"}}}],\"scatterpolar\":[{\"type\":\"scatterpolar\",\"marker\":{\"colorbar\":{\"outlinewidth\":0,\"ticks\":\"\"}}}],\"histogram\":[{\"marker\":{\"pattern\":{\"fillmode\":\"overlay\",\"size\":10,\"solidity\":0.2}},\"type\":\"histogram\"}],\"scattergl\":[{\"type\":\"scattergl\",\"marker\":{\"colorbar\":{\"outlinewidth\":0,\"ticks\":\"\"}}}],\"scatter3d\":[{\"type\":\"scatter3d\",\"line\":{\"colorbar\":{\"outlinewidth\":0,\"ticks\":\"\"}},\"marker\":{\"colorbar\":{\"outlinewidth\":0,\"ticks\":\"\"}}}],\"scattermapbox\":[{\"type\":\"scattermapbox\",\"marker\":{\"colorbar\":{\"outlinewidth\":0,\"ticks\":\"\"}}}],\"scatterternary\":[{\"type\":\"scatterternary\",\"marker\":{\"colorbar\":{\"outlinewidth\":0,\"ticks\":\"\"}}}],\"scattercarpet\":[{\"type\":\"scattercarpet\",\"marker\":{\"colorbar\":{\"outlinewidth\":0,\"ticks\":\"\"}}}],\"carpet\":[{\"aaxis\":{\"endlinecolor\":\"#2a3f5f\",\"gridcolor\":\"white\",\"linecolor\":\"white\",\"minorgridcolor\":\"white\",\"startlinecolor\":\"#2a3f5f\"},\"baxis\":{\"endlinecolor\":\"#2a3f5f\",\"gridcolor\":\"white\",\"linecolor\":\"white\",\"minorgridcolor\":\"white\",\"startlinecolor\":\"#2a3f5f\"},\"type\":\"carpet\"}],\"table\":[{\"cells\":{\"fill\":{\"color\":\"#EBF0F8\"},\"line\":{\"color\":\"white\"}},\"header\":{\"fill\":{\"color\":\"#C8D4E3\"},\"line\":{\"color\":\"white\"}},\"type\":\"table\"}],\"barpolar\":[{\"marker\":{\"line\":{\"color\":\"#E5ECF6\",\"width\":0.5},\"pattern\":{\"fillmode\":\"overlay\",\"size\":10,\"solidity\":0.2}},\"type\":\"barpolar\"}],\"pie\":[{\"automargin\":true,\"type\":\"pie\"}]},\"layout\":{\"autotypenumbers\":\"strict\",\"colorway\":[\"#636efa\",\"#EF553B\",\"#00cc96\",\"#ab63fa\",\"#FFA15A\",\"#19d3f3\",\"#FF6692\",\"#B6E880\",\"#FF97FF\",\"#FECB52\"],\"font\":{\"color\":\"#2a3f5f\"},\"hovermode\":\"closest\",\"hoverlabel\":{\"align\":\"left\"},\"paper_bgcolor\":\"white\",\"plot_bgcolor\":\"#E5ECF6\",\"polar\":{\"bgcolor\":\"#E5ECF6\",\"angularaxis\":{\"gridcolor\":\"white\",\"linecolor\":\"white\",\"ticks\":\"\"},\"radialaxis\":{\"gridcolor\":\"white\",\"linecolor\":\"white\",\"ticks\":\"\"}},\"ternary\":{\"bgcolor\":\"#E5ECF6\",\"aaxis\":{\"gridcolor\":\"white\",\"linecolor\":\"white\",\"ticks\":\"\"},\"baxis\":{\"gridcolor\":\"white\",\"linecolor\":\"white\",\"ticks\":\"\"},\"caxis\":{\"gridcolor\":\"white\",\"linecolor\":\"white\",\"ticks\":\"\"}},\"coloraxis\":{\"colorbar\":{\"outlinewidth\":0,\"ticks\":\"\"}},\"colorscale\":{\"sequential\":[[0.0,\"#0d0887\"],[0.1111111111111111,\"#46039f\"],[0.2222222222222222,\"#7201a8\"],[0.3333333333333333,\"#9c179e\"],[0.4444444444444444,\"#bd3786\"],[0.5555555555555556,\"#d8576b\"],[0.6666666666666666,\"#ed7953\"],[0.7777777777777778,\"#fb9f3a\"],[0.8888888888888888,\"#fdca26\"],[1.0,\"#f0f921\"]],\"sequentialminus\":[[0.0,\"#0d0887\"],[0.1111111111111111,\"#46039f\"],[0.2222222222222222,\"#7201a8\"],[0.3333333333333333,\"#9c179e\"],[0.4444444444444444,\"#bd3786\"],[0.5555555555555556,\"#d8576b\"],[0.6666666666666666,\"#ed7953\"],[0.7777777777777778,\"#fb9f3a\"],[0.8888888888888888,\"#fdca26\"],[1.0,\"#f0f921\"]],\"diverging\":[[0,\"#8e0152\"],[0.1,\"#c51b7d\"],[0.2,\"#de77ae\"],[0.3,\"#f1b6da\"],[0.4,\"#fde0ef\"],[0.5,\"#f7f7f7\"],[0.6,\"#e6f5d0\"],[0.7,\"#b8e186\"],[0.8,\"#7fbc41\"],[0.9,\"#4d9221\"],[1,\"#276419\"]]},\"xaxis\":{\"gridcolor\":\"white\",\"linecolor\":\"white\",\"ticks\":\"\",\"title\":{\"standoff\":15},\"zerolinecolor\":\"white\",\"automargin\":true,\"zerolinewidth\":2},\"yaxis\":{\"gridcolor\":\"white\",\"linecolor\":\"white\",\"ticks\":\"\",\"title\":{\"standoff\":15},\"zerolinecolor\":\"white\",\"automargin\":true,\"zerolinewidth\":2},\"scene\":{\"xaxis\":{\"backgroundcolor\":\"#E5ECF6\",\"gridcolor\":\"white\",\"linecolor\":\"white\",\"showbackground\":true,\"ticks\":\"\",\"zerolinecolor\":\"white\",\"gridwidth\":2},\"yaxis\":{\"backgroundcolor\":\"#E5ECF6\",\"gridcolor\":\"white\",\"linecolor\":\"white\",\"showbackground\":true,\"ticks\":\"\",\"zerolinecolor\":\"white\",\"gridwidth\":2},\"zaxis\":{\"backgroundcolor\":\"#E5ECF6\",\"gridcolor\":\"white\",\"linecolor\":\"white\",\"showbackground\":true,\"ticks\":\"\",\"zerolinecolor\":\"white\",\"gridwidth\":2}},\"shapedefaults\":{\"line\":{\"color\":\"#2a3f5f\"}},\"annotationdefaults\":{\"arrowcolor\":\"#2a3f5f\",\"arrowhead\":0,\"arrowwidth\":1},\"geo\":{\"bgcolor\":\"white\",\"landcolor\":\"#E5ECF6\",\"subunitcolor\":\"white\",\"showland\":true,\"showlakes\":true,\"lakecolor\":\"white\"},\"title\":{\"x\":0.05},\"mapbox\":{\"style\":\"light\"}}},\"xaxis\":{\"anchor\":\"y\",\"domain\":[0.0,0.45]},\"yaxis\":{\"anchor\":\"x\",\"domain\":[0.0,1.0]},\"xaxis2\":{\"anchor\":\"y2\",\"domain\":[0.55,1.0]},\"yaxis2\":{\"anchor\":\"x2\",\"domain\":[0.0,1.0]}},                        {\"responsive\": true}                    ).then(function(){\n",
              "                            \n",
              "var gd = document.getElementById('fed7846d-e99f-447b-943b-c4516ae1da00');\n",
              "var x = new MutationObserver(function (mutations, observer) {{\n",
              "        var display = window.getComputedStyle(gd).display;\n",
              "        if (!display || display === 'none') {{\n",
              "            console.log([gd, 'removed!']);\n",
              "            Plotly.purge(gd);\n",
              "            observer.disconnect();\n",
              "        }}\n",
              "}});\n",
              "\n",
              "// Listen for the removal of the full notebook cells\n",
              "var notebookContainer = gd.closest('#notebook-container');\n",
              "if (notebookContainer) {{\n",
              "    x.observe(notebookContainer, {childList: true});\n",
              "}}\n",
              "\n",
              "// Listen for the clearing of the current output cell\n",
              "var outputEl = gd.closest('.output');\n",
              "if (outputEl) {{\n",
              "    x.observe(outputEl, {childList: true});\n",
              "}}\n",
              "\n",
              "                        })                };                            </script>        </div>\n",
              "</body>\n",
              "</html>"
            ]
          },
          "metadata": {}
        }
      ],
      "source": [
        "fig = make_subplots(rows=1,cols=2)\n",
        "fig.add_trace(go.Bar(x = list(economy['stops']),y = economy['price']),row=1,col=1)\n",
        "fig.add_trace(go.Bar(x = businesss['stops'],y = businesss['price']),row=1,col=2)"
      ]
    },
    {
      "cell_type": "markdown",
      "id": "7719caf9",
      "metadata": {
        "papermill": {
          "duration": 0.021931,
          "end_time": "2022-08-10T12:10:06.921808",
          "exception": false,
          "start_time": "2022-08-10T12:10:06.899877",
          "status": "completed"
        },
        "tags": [],
        "id": "7719caf9"
      },
      "source": [
        "More stops will lead to more expensive ticket fares and that can be clearly seen above"
      ]
    },
    {
      "cell_type": "markdown",
      "id": "05a1c6cd",
      "metadata": {
        "papermill": {
          "duration": 0.022061,
          "end_time": "2022-08-10T12:10:06.966297",
          "exception": false,
          "start_time": "2022-08-10T12:10:06.944236",
          "status": "completed"
        },
        "tags": [],
        "id": "05a1c6cd"
      },
      "source": [
        "lets see how the number of days left affect the price"
      ]
    },
    {
      "cell_type": "code",
      "execution_count": 76,
      "id": "6986013e",
      "metadata": {
        "execution": {
          "iopub.execute_input": "2022-08-10T12:10:07.014299Z",
          "iopub.status.busy": "2022-08-10T12:10:07.013877Z",
          "iopub.status.idle": "2022-08-10T12:10:07.176293Z",
          "shell.execute_reply": "2022-08-10T12:10:07.174919Z"
        },
        "papermill": {
          "duration": 0.189093,
          "end_time": "2022-08-10T12:10:07.179036",
          "exception": false,
          "start_time": "2022-08-10T12:10:06.989943",
          "status": "completed"
        },
        "tags": [],
        "id": "6986013e",
        "outputId": "f827f035-b57d-49d1-88eb-cb3fe687cc2d",
        "colab": {
          "base_uri": "https://localhost:8080/",
          "height": 631
        }
      },
      "outputs": [
        {
          "output_type": "stream",
          "name": "stderr",
          "text": [
            "<ipython-input-76-842367b8ddc2>:1: FutureWarning:\n",
            "\n",
            "The default value of numeric_only in DataFrameGroupBy.mean is deprecated. In a future version, numeric_only will default to False. Either specify numeric_only or select only columns which should be valid for the function.\n",
            "\n"
          ]
        },
        {
          "output_type": "display_data",
          "data": {
            "text/html": [
              "<html>\n",
              "<head><meta charset=\"utf-8\" /></head>\n",
              "<body>\n",
              "    <div>            <script src=\"https://cdnjs.cloudflare.com/ajax/libs/mathjax/2.7.5/MathJax.js?config=TeX-AMS-MML_SVG\"></script><script type=\"text/javascript\">if (window.MathJax && window.MathJax.Hub && window.MathJax.Hub.Config) {window.MathJax.Hub.Config({SVG: {font: \"STIX-Web\"}});}</script>                <script type=\"text/javascript\">window.PlotlyConfig = {MathJaxConfig: 'local'};</script>\n",
              "        <script src=\"https://cdn.plot.ly/plotly-2.18.2.min.js\"></script>                <div id=\"b8608028-ff6f-4095-9996-da4d00741483\" class=\"plotly-graph-div\" style=\"height:525px; width:100%;\"></div>            <script type=\"text/javascript\">                                    window.PLOTLYENV=window.PLOTLYENV || {};                                    if (document.getElementById(\"b8608028-ff6f-4095-9996-da4d00741483\")) {                    Plotly.newPlot(                        \"b8608028-ff6f-4095-9996-da4d00741483\",                        [{\"hovertemplate\":\"Days_left=%{x}<br>Price=%{y}<br>color=%{marker.color}<extra></extra>\",\"legendgroup\":\"\",\"marker\":{\"color\":[21591.867151011935,30211.299801291603,28976.08356873823,25730.905652944653,26679.773367952523,24856.493902439026,25588.36735051727,24895.883995144788,25726.246072374226,25572.819134318102,22990.656069814555,22505.803322363266,22498.885384134916,22678.002362576783,21952.540851735015,20503.546237244896,20386.353949213273,19987.44516813087,19507.677374942636,19699.98338972624,19430.494057724958,19590.667385278717,19840.913451023276,19803.90889636197,19571.641791044774,19238.290278411685,19950.866194968552,19534.98604722478,19744.653118649367,19567.58083371789,19392.706611570247,19258.135307517085,19306.271739130436,19562.008265751716,19255.652996343983,19517.68844375963,19506.306516368128,19734.912315724814,19262.095555892614,19144.972439136425,19347.440459770114,19154.261659227337,19340.528893695922,19049.080174021132,19199.87630662021,19305.351623376624,18553.272038227056,18998.12685093781,18992.971888202796],\"coloraxis\":\"coloraxis\",\"symbol\":\"circle\"},\"mode\":\"markers\",\"name\":\"\",\"orientation\":\"v\",\"showlegend\":false,\"x\":[1,2,3,4,5,6,7,8,9,10,11,12,13,14,15,16,17,18,19,20,21,22,23,24,25,26,27,28,29,30,31,32,33,34,35,36,37,38,39,40,41,42,43,44,45,46,47,48,49],\"xaxis\":\"x\",\"y\":[21591.867151011935,30211.299801291603,28976.08356873823,25730.905652944653,26679.773367952523,24856.493902439026,25588.36735051727,24895.883995144788,25726.246072374226,25572.819134318102,22990.656069814555,22505.803322363266,22498.885384134916,22678.002362576783,21952.540851735015,20503.546237244896,20386.353949213273,19987.44516813087,19507.677374942636,19699.98338972624,19430.494057724958,19590.667385278717,19840.913451023276,19803.90889636197,19571.641791044774,19238.290278411685,19950.866194968552,19534.98604722478,19744.653118649367,19567.58083371789,19392.706611570247,19258.135307517085,19306.271739130436,19562.008265751716,19255.652996343983,19517.68844375963,19506.306516368128,19734.912315724814,19262.095555892614,19144.972439136425,19347.440459770114,19154.261659227337,19340.528893695922,19049.080174021132,19199.87630662021,19305.351623376624,18553.272038227056,18998.12685093781,18992.971888202796],\"yaxis\":\"y\",\"type\":\"scatter\"}],                        {\"template\":{\"data\":{\"histogram2dcontour\":[{\"type\":\"histogram2dcontour\",\"colorbar\":{\"outlinewidth\":0,\"ticks\":\"\"},\"colorscale\":[[0.0,\"#0d0887\"],[0.1111111111111111,\"#46039f\"],[0.2222222222222222,\"#7201a8\"],[0.3333333333333333,\"#9c179e\"],[0.4444444444444444,\"#bd3786\"],[0.5555555555555556,\"#d8576b\"],[0.6666666666666666,\"#ed7953\"],[0.7777777777777778,\"#fb9f3a\"],[0.8888888888888888,\"#fdca26\"],[1.0,\"#f0f921\"]]}],\"choropleth\":[{\"type\":\"choropleth\",\"colorbar\":{\"outlinewidth\":0,\"ticks\":\"\"}}],\"histogram2d\":[{\"type\":\"histogram2d\",\"colorbar\":{\"outlinewidth\":0,\"ticks\":\"\"},\"colorscale\":[[0.0,\"#0d0887\"],[0.1111111111111111,\"#46039f\"],[0.2222222222222222,\"#7201a8\"],[0.3333333333333333,\"#9c179e\"],[0.4444444444444444,\"#bd3786\"],[0.5555555555555556,\"#d8576b\"],[0.6666666666666666,\"#ed7953\"],[0.7777777777777778,\"#fb9f3a\"],[0.8888888888888888,\"#fdca26\"],[1.0,\"#f0f921\"]]}],\"heatmap\":[{\"type\":\"heatmap\",\"colorbar\":{\"outlinewidth\":0,\"ticks\":\"\"},\"colorscale\":[[0.0,\"#0d0887\"],[0.1111111111111111,\"#46039f\"],[0.2222222222222222,\"#7201a8\"],[0.3333333333333333,\"#9c179e\"],[0.4444444444444444,\"#bd3786\"],[0.5555555555555556,\"#d8576b\"],[0.6666666666666666,\"#ed7953\"],[0.7777777777777778,\"#fb9f3a\"],[0.8888888888888888,\"#fdca26\"],[1.0,\"#f0f921\"]]}],\"heatmapgl\":[{\"type\":\"heatmapgl\",\"colorbar\":{\"outlinewidth\":0,\"ticks\":\"\"},\"colorscale\":[[0.0,\"#0d0887\"],[0.1111111111111111,\"#46039f\"],[0.2222222222222222,\"#7201a8\"],[0.3333333333333333,\"#9c179e\"],[0.4444444444444444,\"#bd3786\"],[0.5555555555555556,\"#d8576b\"],[0.6666666666666666,\"#ed7953\"],[0.7777777777777778,\"#fb9f3a\"],[0.8888888888888888,\"#fdca26\"],[1.0,\"#f0f921\"]]}],\"contourcarpet\":[{\"type\":\"contourcarpet\",\"colorbar\":{\"outlinewidth\":0,\"ticks\":\"\"}}],\"contour\":[{\"type\":\"contour\",\"colorbar\":{\"outlinewidth\":0,\"ticks\":\"\"},\"colorscale\":[[0.0,\"#0d0887\"],[0.1111111111111111,\"#46039f\"],[0.2222222222222222,\"#7201a8\"],[0.3333333333333333,\"#9c179e\"],[0.4444444444444444,\"#bd3786\"],[0.5555555555555556,\"#d8576b\"],[0.6666666666666666,\"#ed7953\"],[0.7777777777777778,\"#fb9f3a\"],[0.8888888888888888,\"#fdca26\"],[1.0,\"#f0f921\"]]}],\"surface\":[{\"type\":\"surface\",\"colorbar\":{\"outlinewidth\":0,\"ticks\":\"\"},\"colorscale\":[[0.0,\"#0d0887\"],[0.1111111111111111,\"#46039f\"],[0.2222222222222222,\"#7201a8\"],[0.3333333333333333,\"#9c179e\"],[0.4444444444444444,\"#bd3786\"],[0.5555555555555556,\"#d8576b\"],[0.6666666666666666,\"#ed7953\"],[0.7777777777777778,\"#fb9f3a\"],[0.8888888888888888,\"#fdca26\"],[1.0,\"#f0f921\"]]}],\"mesh3d\":[{\"type\":\"mesh3d\",\"colorbar\":{\"outlinewidth\":0,\"ticks\":\"\"}}],\"scatter\":[{\"fillpattern\":{\"fillmode\":\"overlay\",\"size\":10,\"solidity\":0.2},\"type\":\"scatter\"}],\"parcoords\":[{\"type\":\"parcoords\",\"line\":{\"colorbar\":{\"outlinewidth\":0,\"ticks\":\"\"}}}],\"scatterpolargl\":[{\"type\":\"scatterpolargl\",\"marker\":{\"colorbar\":{\"outlinewidth\":0,\"ticks\":\"\"}}}],\"bar\":[{\"error_x\":{\"color\":\"#2a3f5f\"},\"error_y\":{\"color\":\"#2a3f5f\"},\"marker\":{\"line\":{\"color\":\"#E5ECF6\",\"width\":0.5},\"pattern\":{\"fillmode\":\"overlay\",\"size\":10,\"solidity\":0.2}},\"type\":\"bar\"}],\"scattergeo\":[{\"type\":\"scattergeo\",\"marker\":{\"colorbar\":{\"outlinewidth\":0,\"ticks\":\"\"}}}],\"scatterpolar\":[{\"type\":\"scatterpolar\",\"marker\":{\"colorbar\":{\"outlinewidth\":0,\"ticks\":\"\"}}}],\"histogram\":[{\"marker\":{\"pattern\":{\"fillmode\":\"overlay\",\"size\":10,\"solidity\":0.2}},\"type\":\"histogram\"}],\"scattergl\":[{\"type\":\"scattergl\",\"marker\":{\"colorbar\":{\"outlinewidth\":0,\"ticks\":\"\"}}}],\"scatter3d\":[{\"type\":\"scatter3d\",\"line\":{\"colorbar\":{\"outlinewidth\":0,\"ticks\":\"\"}},\"marker\":{\"colorbar\":{\"outlinewidth\":0,\"ticks\":\"\"}}}],\"scattermapbox\":[{\"type\":\"scattermapbox\",\"marker\":{\"colorbar\":{\"outlinewidth\":0,\"ticks\":\"\"}}}],\"scatterternary\":[{\"type\":\"scatterternary\",\"marker\":{\"colorbar\":{\"outlinewidth\":0,\"ticks\":\"\"}}}],\"scattercarpet\":[{\"type\":\"scattercarpet\",\"marker\":{\"colorbar\":{\"outlinewidth\":0,\"ticks\":\"\"}}}],\"carpet\":[{\"aaxis\":{\"endlinecolor\":\"#2a3f5f\",\"gridcolor\":\"white\",\"linecolor\":\"white\",\"minorgridcolor\":\"white\",\"startlinecolor\":\"#2a3f5f\"},\"baxis\":{\"endlinecolor\":\"#2a3f5f\",\"gridcolor\":\"white\",\"linecolor\":\"white\",\"minorgridcolor\":\"white\",\"startlinecolor\":\"#2a3f5f\"},\"type\":\"carpet\"}],\"table\":[{\"cells\":{\"fill\":{\"color\":\"#EBF0F8\"},\"line\":{\"color\":\"white\"}},\"header\":{\"fill\":{\"color\":\"#C8D4E3\"},\"line\":{\"color\":\"white\"}},\"type\":\"table\"}],\"barpolar\":[{\"marker\":{\"line\":{\"color\":\"#E5ECF6\",\"width\":0.5},\"pattern\":{\"fillmode\":\"overlay\",\"size\":10,\"solidity\":0.2}},\"type\":\"barpolar\"}],\"pie\":[{\"automargin\":true,\"type\":\"pie\"}]},\"layout\":{\"autotypenumbers\":\"strict\",\"colorway\":[\"#636efa\",\"#EF553B\",\"#00cc96\",\"#ab63fa\",\"#FFA15A\",\"#19d3f3\",\"#FF6692\",\"#B6E880\",\"#FF97FF\",\"#FECB52\"],\"font\":{\"color\":\"#2a3f5f\"},\"hovermode\":\"closest\",\"hoverlabel\":{\"align\":\"left\"},\"paper_bgcolor\":\"white\",\"plot_bgcolor\":\"#E5ECF6\",\"polar\":{\"bgcolor\":\"#E5ECF6\",\"angularaxis\":{\"gridcolor\":\"white\",\"linecolor\":\"white\",\"ticks\":\"\"},\"radialaxis\":{\"gridcolor\":\"white\",\"linecolor\":\"white\",\"ticks\":\"\"}},\"ternary\":{\"bgcolor\":\"#E5ECF6\",\"aaxis\":{\"gridcolor\":\"white\",\"linecolor\":\"white\",\"ticks\":\"\"},\"baxis\":{\"gridcolor\":\"white\",\"linecolor\":\"white\",\"ticks\":\"\"},\"caxis\":{\"gridcolor\":\"white\",\"linecolor\":\"white\",\"ticks\":\"\"}},\"coloraxis\":{\"colorbar\":{\"outlinewidth\":0,\"ticks\":\"\"}},\"colorscale\":{\"sequential\":[[0.0,\"#0d0887\"],[0.1111111111111111,\"#46039f\"],[0.2222222222222222,\"#7201a8\"],[0.3333333333333333,\"#9c179e\"],[0.4444444444444444,\"#bd3786\"],[0.5555555555555556,\"#d8576b\"],[0.6666666666666666,\"#ed7953\"],[0.7777777777777778,\"#fb9f3a\"],[0.8888888888888888,\"#fdca26\"],[1.0,\"#f0f921\"]],\"sequentialminus\":[[0.0,\"#0d0887\"],[0.1111111111111111,\"#46039f\"],[0.2222222222222222,\"#7201a8\"],[0.3333333333333333,\"#9c179e\"],[0.4444444444444444,\"#bd3786\"],[0.5555555555555556,\"#d8576b\"],[0.6666666666666666,\"#ed7953\"],[0.7777777777777778,\"#fb9f3a\"],[0.8888888888888888,\"#fdca26\"],[1.0,\"#f0f921\"]],\"diverging\":[[0,\"#8e0152\"],[0.1,\"#c51b7d\"],[0.2,\"#de77ae\"],[0.3,\"#f1b6da\"],[0.4,\"#fde0ef\"],[0.5,\"#f7f7f7\"],[0.6,\"#e6f5d0\"],[0.7,\"#b8e186\"],[0.8,\"#7fbc41\"],[0.9,\"#4d9221\"],[1,\"#276419\"]]},\"xaxis\":{\"gridcolor\":\"white\",\"linecolor\":\"white\",\"ticks\":\"\",\"title\":{\"standoff\":15},\"zerolinecolor\":\"white\",\"automargin\":true,\"zerolinewidth\":2},\"yaxis\":{\"gridcolor\":\"white\",\"linecolor\":\"white\",\"ticks\":\"\",\"title\":{\"standoff\":15},\"zerolinecolor\":\"white\",\"automargin\":true,\"zerolinewidth\":2},\"scene\":{\"xaxis\":{\"backgroundcolor\":\"#E5ECF6\",\"gridcolor\":\"white\",\"linecolor\":\"white\",\"showbackground\":true,\"ticks\":\"\",\"zerolinecolor\":\"white\",\"gridwidth\":2},\"yaxis\":{\"backgroundcolor\":\"#E5ECF6\",\"gridcolor\":\"white\",\"linecolor\":\"white\",\"showbackground\":true,\"ticks\":\"\",\"zerolinecolor\":\"white\",\"gridwidth\":2},\"zaxis\":{\"backgroundcolor\":\"#E5ECF6\",\"gridcolor\":\"white\",\"linecolor\":\"white\",\"showbackground\":true,\"ticks\":\"\",\"zerolinecolor\":\"white\",\"gridwidth\":2}},\"shapedefaults\":{\"line\":{\"color\":\"#2a3f5f\"}},\"annotationdefaults\":{\"arrowcolor\":\"#2a3f5f\",\"arrowhead\":0,\"arrowwidth\":1},\"geo\":{\"bgcolor\":\"white\",\"landcolor\":\"#E5ECF6\",\"subunitcolor\":\"white\",\"showland\":true,\"showlakes\":true,\"lakecolor\":\"white\"},\"title\":{\"x\":0.05},\"mapbox\":{\"style\":\"light\"}}},\"xaxis\":{\"anchor\":\"y\",\"domain\":[0.0,1.0],\"title\":{\"text\":\"Days_left\"}},\"yaxis\":{\"anchor\":\"x\",\"domain\":[0.0,1.0],\"title\":{\"text\":\"Price\"}},\"coloraxis\":{\"colorbar\":{\"title\":{\"text\":\"color\"}},\"colorscale\":[[0.0,\"#0d0887\"],[0.1111111111111111,\"#46039f\"],[0.2222222222222222,\"#7201a8\"],[0.3333333333333333,\"#9c179e\"],[0.4444444444444444,\"#bd3786\"],[0.5555555555555556,\"#d8576b\"],[0.6666666666666666,\"#ed7953\"],[0.7777777777777778,\"#fb9f3a\"],[0.8888888888888888,\"#fdca26\"],[1.0,\"#f0f921\"]]},\"legend\":{\"tracegroupgap\":0},\"margin\":{\"t\":60}},                        {\"responsive\": true}                    ).then(function(){\n",
              "                            \n",
              "var gd = document.getElementById('b8608028-ff6f-4095-9996-da4d00741483');\n",
              "var x = new MutationObserver(function (mutations, observer) {{\n",
              "        var display = window.getComputedStyle(gd).display;\n",
              "        if (!display || display === 'none') {{\n",
              "            console.log([gd, 'removed!']);\n",
              "            Plotly.purge(gd);\n",
              "            observer.disconnect();\n",
              "        }}\n",
              "}});\n",
              "\n",
              "// Listen for the removal of the full notebook cells\n",
              "var notebookContainer = gd.closest('#notebook-container');\n",
              "if (notebookContainer) {{\n",
              "    x.observe(notebookContainer, {childList: true});\n",
              "}}\n",
              "\n",
              "// Listen for the clearing of the current output cell\n",
              "var outputEl = gd.closest('.output');\n",
              "if (outputEl) {{\n",
              "    x.observe(outputEl, {childList: true});\n",
              "}}\n",
              "\n",
              "                        })                };                            </script>        </div>\n",
              "</body>\n",
              "</html>"
            ]
          },
          "metadata": {}
        }
      ],
      "source": [
        "price = list(data.groupby('days_left').mean()['price'].values)\n",
        "days = [i for i,df in data.groupby('days_left')]\n",
        "px.scatter(x = days,y = price,color=price,labels = {'x':'Days_left','y':'Price'})"
      ]
    },
    {
      "cell_type": "markdown",
      "id": "8a9e9b56",
      "metadata": {
        "papermill": {
          "duration": 0.022208,
          "end_time": "2022-08-10T12:10:07.224156",
          "exception": false,
          "start_time": "2022-08-10T12:10:07.201948",
          "status": "completed"
        },
        "tags": [],
        "id": "8a9e9b56"
      },
      "source": [
        "Just one day before the price has fallen drastically to fill the empty seats and to get at a cheaper rate we should book our tickets atleast 20 days before the journey"
      ]
    },
    {
      "cell_type": "markdown",
      "id": "bea7aa61",
      "metadata": {
        "papermill": {
          "duration": 0.02253,
          "end_time": "2022-08-10T12:10:07.269388",
          "exception": false,
          "start_time": "2022-08-10T12:10:07.246858",
          "status": "completed"
        },
        "tags": [],
        "id": "bea7aa61"
      },
      "source": [
        "lets see how duration affects the price"
      ]
    },
    {
      "cell_type": "code",
      "execution_count": 77,
      "id": "3b856122",
      "metadata": {
        "execution": {
          "iopub.execute_input": "2022-08-10T12:10:07.317172Z",
          "iopub.status.busy": "2022-08-10T12:10:07.316753Z",
          "iopub.status.idle": "2022-08-10T12:10:07.344706Z",
          "shell.execute_reply": "2022-08-10T12:10:07.343140Z"
        },
        "papermill": {
          "duration": 0.055114,
          "end_time": "2022-08-10T12:10:07.347402",
          "exception": false,
          "start_time": "2022-08-10T12:10:07.292288",
          "status": "completed"
        },
        "tags": [],
        "id": "3b856122"
      },
      "outputs": [],
      "source": [
        "#To get some stable obesrvations lets check the relation when the days left are atleast 20\n",
        "data_copy = data[data['days_left']>20]"
      ]
    },
    {
      "cell_type": "code",
      "execution_count": 78,
      "id": "fd5dcfe6",
      "metadata": {
        "execution": {
          "iopub.execute_input": "2022-08-10T12:10:07.394801Z",
          "iopub.status.busy": "2022-08-10T12:10:07.394345Z",
          "iopub.status.idle": "2022-08-10T12:10:07.499852Z",
          "shell.execute_reply": "2022-08-10T12:10:07.498397Z"
        },
        "papermill": {
          "duration": 0.13247,
          "end_time": "2022-08-10T12:10:07.502712",
          "exception": false,
          "start_time": "2022-08-10T12:10:07.370242",
          "status": "completed"
        },
        "tags": [],
        "id": "fd5dcfe6",
        "colab": {
          "base_uri": "https://localhost:8080/"
        },
        "outputId": "73c956f5-1c15-44f6-c34b-384428e3deff"
      },
      "outputs": [
        {
          "output_type": "stream",
          "name": "stderr",
          "text": [
            "<ipython-input-78-4822ce675750>:1: FutureWarning:\n",
            "\n",
            "The default value of numeric_only in DataFrameGroupBy.mean is deprecated. In a future version, numeric_only will default to False. Either specify numeric_only or select only columns which should be valid for the function.\n",
            "\n"
          ]
        }
      ],
      "source": [
        "values = list(data_copy.groupby('duration').mean()['price'].values)\n",
        "duration = [i for i,df in data_copy.groupby('duration')]"
      ]
    },
    {
      "cell_type": "code",
      "execution_count": 79,
      "id": "1266ac6b",
      "metadata": {
        "execution": {
          "iopub.execute_input": "2022-08-10T12:10:07.550927Z",
          "iopub.status.busy": "2022-08-10T12:10:07.550402Z",
          "iopub.status.idle": "2022-08-10T12:10:07.614769Z",
          "shell.execute_reply": "2022-08-10T12:10:07.613430Z"
        },
        "papermill": {
          "duration": 0.091518,
          "end_time": "2022-08-10T12:10:07.617430",
          "exception": false,
          "start_time": "2022-08-10T12:10:07.525912",
          "status": "completed"
        },
        "tags": [],
        "id": "1266ac6b",
        "outputId": "b37b2a99-1d7d-4fa2-d23a-7e7a6145daf0",
        "colab": {
          "base_uri": "https://localhost:8080/",
          "height": 542
        }
      },
      "outputs": [
        {
          "output_type": "display_data",
          "data": {
            "text/html": [
              "<html>\n",
              "<head><meta charset=\"utf-8\" /></head>\n",
              "<body>\n",
              "    <div>            <script src=\"https://cdnjs.cloudflare.com/ajax/libs/mathjax/2.7.5/MathJax.js?config=TeX-AMS-MML_SVG\"></script><script type=\"text/javascript\">if (window.MathJax && window.MathJax.Hub && window.MathJax.Hub.Config) {window.MathJax.Hub.Config({SVG: {font: \"STIX-Web\"}});}</script>                <script type=\"text/javascript\">window.PlotlyConfig = {MathJaxConfig: 'local'};</script>\n",
              "        <script src=\"https://cdn.plot.ly/plotly-2.18.2.min.js\"></script>                <div id=\"bf0f7a9a-c295-4956-b590-01c2b316cd1f\" class=\"plotly-graph-div\" style=\"height:525px; width:100%;\"></div>            <script type=\"text/javascript\">                                    window.PLOTLYENV=window.PLOTLYENV || {};                                    if (document.getElementById(\"bf0f7a9a-c295-4956-b590-01c2b316cd1f\")) {                    Plotly.newPlot(                        \"bf0f7a9a-c295-4956-b590-01c2b316cd1f\",                        [{\"hovertemplate\":\"x=%{x}<br>y=%{y}<br>color=%{marker.color}<extra></extra>\",\"legendgroup\":\"\",\"marker\":{\"color\":[0.83,0.92,1.0,1.08,1.17,1.25,1.33,1.42,1.5,1.58,1.67,1.75,1.83,1.92,2.0,2.08,2.17,2.25,2.33,2.42,2.5,2.58,2.67,2.75,2.83,2.92,3.0,3.08,3.17,3.25,3.33,3.42,3.5,3.58,3.67,3.75,3.83,3.92,4.0,4.08,4.17,4.25,4.33,4.42,4.5,4.58,4.67,4.75,4.83,4.92,5.0,5.08,5.17,5.25,5.33,5.42,5.5,5.58,5.67,5.75,5.83,5.92,6.0,6.07,6.08,6.17,6.25,6.33,6.42,6.5,6.58,6.67,6.75,6.83,6.92,6.98,7.0,7.08,7.17,7.25,7.33,7.42,7.5,7.58,7.67,7.75,7.83,7.92,8.0,8.08,8.17,8.25,8.33,8.42,8.5,8.58,8.67,8.75,8.83,8.92,9.0,9.08,9.17,9.25,9.33,9.42,9.5,9.58,9.67,9.75,9.83,9.92,10.0,10.08,10.17,10.25,10.33,10.42,10.5,10.58,10.67,10.75,10.83,10.92,11.0,11.08,11.17,11.25,11.33,11.42,11.5,11.58,11.67,11.75,11.83,11.92,12.0,12.08,12.17,12.25,12.33,12.42,12.5,12.58,12.67,12.75,12.83,12.92,13.0,13.08,13.17,13.25,13.33,13.4,13.42,13.5,13.58,13.67,13.75,13.83,13.92,14.0,14.08,14.17,14.25,14.33,14.42,14.5,14.58,14.67,14.75,14.83,14.92,15.0,15.08,15.17,15.25,15.33,15.42,15.5,15.58,15.67,15.75,15.83,15.92,16.0,16.08,16.17,16.25,16.33,16.42,16.5,16.58,16.67,16.75,16.83,16.92,17.0,17.08,17.17,17.25,17.33,17.42,17.5,17.58,17.67,17.75,17.83,17.92,18.0,18.08,18.17,18.25,18.33,18.42,18.5,18.58,18.67,18.75,18.83,18.92,19.0,19.08,19.17,19.25,19.33,19.42,19.5,19.58,19.67,19.75,19.83,19.92,20.0,20.08,20.17,20.25,20.33,20.42,20.5,20.58,20.67,20.75,20.83,20.92,21.0,21.08,21.17,21.25,21.33,21.42,21.5,21.58,21.67,21.75,21.83,21.92,22.0,22.08,22.17,22.25,22.33,22.42,22.5,22.58,22.67,22.75,22.83,22.92,23.0,23.08,23.17,23.25,23.33,23.42,23.5,23.58,23.67,23.75,23.83,23.92,24.0,24.08,24.17,24.25,24.33,24.42,24.5,24.58,24.67,24.75,24.83,24.92,25.0,25.08,25.17,25.25,25.33,25.42,25.5,25.58,25.67,25.75,25.83,25.92,26.0,26.08,26.17,26.25,26.33,26.42,26.5,26.58,26.67,26.75,26.83,26.92,27.0,27.08,27.17,27.25,27.33,27.42,27.5,27.58,27.67,27.75,27.83,27.92,28.0,28.08,28.17,28.25,28.33,28.42,28.5,28.58,28.67,28.75,28.83,28.92,29.0,29.08,29.17,29.25,29.33,29.42,29.5,29.58,29.67,29.75,29.83,29.92,30.0,30.08,30.17,30.25,30.33,30.42,30.5,30.58,30.67,30.75,30.83,30.92,31.0,31.08,31.17,31.25,31.33,31.5,31.58,31.67,31.75,31.83,31.92,32.0,32.08,32.17,32.42,32.5,32.75,32.83,33.0,33.17,33.33,33.42,33.5,33.58,33.67,33.75,33.83,33.92,34.0,34.08,34.17,34.25,34.33,34.5,34.58,34.75,34.83,34.92,35.08,35.17,35.25,35.33,35.42,35.5,35.58,35.75,35.83,35.92,36.0,36.08,36.17,36.42,36.5,36.58,36.75,36.83,37.0,37.92,38.58,39.08,39.83,39.92,40.42,40.5,41.08,41.83,47.75],\"coloraxis\":\"coloraxis\",\"symbol\":\"circle\"},\"mode\":\"markers\",\"name\":\"\",\"orientation\":\"v\",\"showlegend\":false,\"x\":[0.83,0.92,1.0,1.08,1.17,1.25,1.33,1.42,1.5,1.58,1.67,1.75,1.83,1.92,2.0,2.08,2.17,2.25,2.33,2.42,2.5,2.58,2.67,2.75,2.83,2.92,3.0,3.08,3.17,3.25,3.33,3.42,3.5,3.58,3.67,3.75,3.83,3.92,4.0,4.08,4.17,4.25,4.33,4.42,4.5,4.58,4.67,4.75,4.83,4.92,5.0,5.08,5.17,5.25,5.33,5.42,5.5,5.58,5.67,5.75,5.83,5.92,6.0,6.07,6.08,6.17,6.25,6.33,6.42,6.5,6.58,6.67,6.75,6.83,6.92,6.98,7.0,7.08,7.17,7.25,7.33,7.42,7.5,7.58,7.67,7.75,7.83,7.92,8.0,8.08,8.17,8.25,8.33,8.42,8.5,8.58,8.67,8.75,8.83,8.92,9.0,9.08,9.17,9.25,9.33,9.42,9.5,9.58,9.67,9.75,9.83,9.92,10.0,10.08,10.17,10.25,10.33,10.42,10.5,10.58,10.67,10.75,10.83,10.92,11.0,11.08,11.17,11.25,11.33,11.42,11.5,11.58,11.67,11.75,11.83,11.92,12.0,12.08,12.17,12.25,12.33,12.42,12.5,12.58,12.67,12.75,12.83,12.92,13.0,13.08,13.17,13.25,13.33,13.4,13.42,13.5,13.58,13.67,13.75,13.83,13.92,14.0,14.08,14.17,14.25,14.33,14.42,14.5,14.58,14.67,14.75,14.83,14.92,15.0,15.08,15.17,15.25,15.33,15.42,15.5,15.58,15.67,15.75,15.83,15.92,16.0,16.08,16.17,16.25,16.33,16.42,16.5,16.58,16.67,16.75,16.83,16.92,17.0,17.08,17.17,17.25,17.33,17.42,17.5,17.58,17.67,17.75,17.83,17.92,18.0,18.08,18.17,18.25,18.33,18.42,18.5,18.58,18.67,18.75,18.83,18.92,19.0,19.08,19.17,19.25,19.33,19.42,19.5,19.58,19.67,19.75,19.83,19.92,20.0,20.08,20.17,20.25,20.33,20.42,20.5,20.58,20.67,20.75,20.83,20.92,21.0,21.08,21.17,21.25,21.33,21.42,21.5,21.58,21.67,21.75,21.83,21.92,22.0,22.08,22.17,22.25,22.33,22.42,22.5,22.58,22.67,22.75,22.83,22.92,23.0,23.08,23.17,23.25,23.33,23.42,23.5,23.58,23.67,23.75,23.83,23.92,24.0,24.08,24.17,24.25,24.33,24.42,24.5,24.58,24.67,24.75,24.83,24.92,25.0,25.08,25.17,25.25,25.33,25.42,25.5,25.58,25.67,25.75,25.83,25.92,26.0,26.08,26.17,26.25,26.33,26.42,26.5,26.58,26.67,26.75,26.83,26.92,27.0,27.08,27.17,27.25,27.33,27.42,27.5,27.58,27.67,27.75,27.83,27.92,28.0,28.08,28.17,28.25,28.33,28.42,28.5,28.58,28.67,28.75,28.83,28.92,29.0,29.08,29.17,29.25,29.33,29.42,29.5,29.58,29.67,29.75,29.83,29.92,30.0,30.08,30.17,30.25,30.33,30.42,30.5,30.58,30.67,30.75,30.83,30.92,31.0,31.08,31.17,31.25,31.33,31.5,31.58,31.67,31.75,31.83,31.92,32.0,32.08,32.17,32.42,32.5,32.75,32.83,33.0,33.17,33.33,33.42,33.5,33.58,33.67,33.75,33.83,33.92,34.0,34.08,34.17,34.25,34.33,34.5,34.58,34.75,34.83,34.92,35.08,35.17,35.25,35.33,35.42,35.5,35.58,35.75,35.83,35.92,36.0,36.08,36.17,36.42,36.5,36.58,36.75,36.83,37.0,37.92,38.58,39.08,39.83,39.92,40.42,40.5,41.08,41.83,47.75],\"xaxis\":\"x\",\"y\":[1626.8461538461538,1530.290909090909,1760.9111969111968,1798.860759493671,1898.6492659053833,2512.294010889292,3383.0251046025105,5835.089743589743,5683.138613861386,6122.615960099751,5361.752173913043,7896.905579399142,5888.019607843137,6872.567251461988,7250.574074074074,9422.680418361419,9870.109563253012,9634.413695299838,9966.834375,8365.654639175258,7341.681074766355,11212.545331529094,10126.657952069716,12688.144592249855,10173.406624383368,8588.797297297297,5381.797687861272,10822.990099009901,5747.9655172413795,4564.428571428572,2290.375,4393.982758620689,8024.865168539326,6425.205882352941,7675.458015267175,8285.454545454546,4959.395973154363,5142.693333333334,5106.0,3777.1825396825398,4333.164383561644,5938.243333333333,4138.612781954887,7925.6370656370655,8090.128851540616,14625.116279069767,7668.111979166667,9757.71403508772,12584.81880733945,10585.257534246575,11398.132867132867,10627.860845839017,14013.918639053254,12510.122807017544,11176.574297188756,12950.430045871559,12580.883886255924,15800.647212543554,15653.319921491659,14219.854166666666,11597.101674641148,13431.813580246913,17382.843220338982,3668.8,15492.817782656422,14756.608530805686,14523.077448747152,11560.108179419525,12043.982436882547,18001.344993968636,18006.84818805093,16655.453696498054,12543.532311062432,11265.439473684211,14627.22048192771,6646.2,17318.061037639876,12837.359389895139,15706.417159763314,11028.725403817914,19991.36877637131,17764.970725995317,11579.764774044032,19250.686427457098,13105.23642172524,11100.954819277109,18036.306332842414,16736.893016344726,18230.069805194806,23689.61642599278,13050.201369863014,18109.131797235023,21142.903587443947,16007.987791342952,16780.008486562943,18796.083850931678,14200.439688715953,15504.034205231388,17197.642147117298,15189.230014025245,17280.564575645756,12765.864938608458,16650.812896405918,16026.872807017544,21206.87006145742,15975.7471636953,19946.416596104995,21846.147213459517,18029.97234042553,16921.12817551963,25949.21046892039,17796.988934993085,20547.87840466926,25447.222088835533,24507.5709372313,19293.530402245087,19094.103773584906,20383.438880706923,21953.153846153848,16307.54377104377,19406.63579277865,16946.366538952745,22095.20122574055,18987.442603550295,22262.340314136127,25373.856515373354,23327.841743119265,20392.39181818182,23242.845794392524,24831.617592592593,20097.889521640092,16144.553191489362,22626.75201845444,19233.959731543626,12753.3552,24755.813624678663,23610.46458923513,27711.332743362833,24028.72484076433,24089.602059925095,23945.11630695444,30310.917042380523,25757.510328068045,23911.458959537573,26979.367055771723,20767.35892323031,22443.913362701907,28535.607843137255,27747.085771947528,24697.97137745975,26136.618458610847,23673.64761904762,26968.49243697479,5035.2,23876.438391699092,21832.551824817518,27046.218987341774,22403.697829716195,26341.105812220565,24327.739674593242,25204.297487437187,28784.042402826854,25426.890459363956,26211.137130801686,24959.952187182094,21630.707894736843,27543.797435897435,24009.53737658674,21731.74025974026,24565.002036659876,26483.776334776336,18451.972270363953,27375.290832455215,24195.179319371728,30255.747001090513,24233.417845484222,28389.65914489311,18118.407216494845,27726.174715909092,24530.1985428051,23825.711764705884,27279.14259597806,25055.519747235387,30822.9076433121,27382.337783711617,27262.33298755187,27752.169207317074,27305.958183990442,20283.85606060606,27470.227450980394,27380.79642857143,22965.70283806344,28449.272727272728,21661.775,22689.12099644128,31378.426136363636,27007.243004418262,24138.324808184145,25075.03682719547,25899.45564516129,24565.94782608696,28075.25934579439,29611.509554140128,24171.75502008032,26120.450592885376,28396.04982206406,23458.184523809523,21539.051515151514,25577.416149068322,26391.309523809523,27670.457142857143,28113.406639004148,26534.526315789473,19883.081712062256,32667.714285714286,26897.270718232045,19488.391534391536,19562.40506329114,29619.39552238806,24455.186206896553,22178.441379310345,23815.58704453441,23160.835294117645,30039.074074074073,22687.649006622516,23881.16379310345,29008.87450980392,21929.44299674267,20903.395604395606,18448.655462184874,23974.623595505618,24809.364640883978,22884.6120906801,17465.642201834864,24819.5197740113,26982.947674418603,19206.348484848484,25185.22261484099,30262.162011173183,27142.062200956938,26057.2,25124.65306122449,23491.6261682243,18987.662983425413,27995.193103448277,30561.20754716981,23032.27203065134,29996.325732899022,26037.180722891568,22275.954838709677,25297.971830985916,27919.962174940898,28769.447488584476,22728.126027397262,13386.615384615385,28129.169139465874,26041.53125,25444.358208955226,18307.10788381743,25643.912328767125,29310.20875912409,26966.010186757216,30818.917274939173,28475.873134328358,27902.52564102564,24570.917602996255,28912.035714285714,25871.274436090225,17393.385579937305,27667.710059171597,23038.192802056554,24161.07823129252,29479.341920374707,23814.69168356998,26568.1338028169,24658.851301115243,24617.503225806453,20662.92910447761,22432.41304347826,25504.381733021077,23064.31301939058,21605.68483412322,26496.688946015423,26394.311053984577,24125.549828178693,22498.869565217392,20540.172205438066,19266.30769230769,17388.62365591398,17649.34926470588,21097.574358974358,14909.706896551725,24286.38129496403,21526.71395348837,22150.694312796208,28385.17094017094,22118.743859649123,23491.61980830671,24955.8785046729,23218.793689320388,14933.803773584905,20733.98481012658,19008.691394658752,22202.862542955325,20588.347826086956,15771.18359375,18259.46831955923,28425.164588528678,21597.15057915058,21140.6149068323,24736.272445820432,20868.390455531455,19157.362459546926,26065.43416370107,24847.90168539326,27451.3141025641,16590.643724696358,32518.777777777777,16897.615384615383,20160.766233766233,17778.203007518798,21514.00386100386,9462.823529411764,26039.45519713262,21904.39903846154,5849.238095238095,20495.823529411766,12287.977528089888,22526.66875,20945.60087719298,26446.597402597403,18263.422535211266,13418.214876033058,30114.73619631902,26707.472222222223,26855.784615384615,13936.942857142858,5845.64705882353,9015.4375,14849.578947368422,29862.542857142857,28878.52,36751.94736842105,18761.603448275862,6667.75,7083.35294117647,26130.677419354837,26926.068965517243,7366.555555555556,9042.815384615385,7622.0,21924.314814814814,5326.777777777777,9628.88679245283,26090.652173913044,6677.615384615385,40678.567164179105,9737.842105263158,26977.5,19321.95,11569.141025641025,7657.625,7430.1578947368425,7538.0,7294.0,7240.0,17340.430555555555,21212.054794520547,27390.08695652174,6204.0526315789475,7140.5625,8915.551724137931,22943.666666666668,6223.0,7336.0,7259.2,69631.76470588235,7381.2307692307695,9038.526315789473,7119.25,5601.0,9710.75,6434.833333333333,6749.0,8801.0,7804.666666666667,9253.034482758621,7374.833333333333,5935.7692307692305,15708.529411764706,7135.222222222223,12578.55,6904.526315789473,5138.0,55983.0,9026.166666666666,9523.0,57045.78947368421,19535.0,21287.333333333332,7294.0,6177.166666666667,8375.0,43683.458333333336,6015.0,7852.0,5668.0,10216.0,5320.0,7333.538461538462,6917.5625,10090.0,6312.0,6335.0,6312.0,31291.5,5670.0,8806.0,6620.833333333333,5320.0,5148.0,6975.871794871795,6015.0,6345.142857142857,5558.0,6972.0,5229.5,7259.25,6653.333333333333,5601.0,6710.0,31291.5],\"yaxis\":\"y\",\"type\":\"scatter\"}],                        {\"template\":{\"data\":{\"histogram2dcontour\":[{\"type\":\"histogram2dcontour\",\"colorbar\":{\"outlinewidth\":0,\"ticks\":\"\"},\"colorscale\":[[0.0,\"#0d0887\"],[0.1111111111111111,\"#46039f\"],[0.2222222222222222,\"#7201a8\"],[0.3333333333333333,\"#9c179e\"],[0.4444444444444444,\"#bd3786\"],[0.5555555555555556,\"#d8576b\"],[0.6666666666666666,\"#ed7953\"],[0.7777777777777778,\"#fb9f3a\"],[0.8888888888888888,\"#fdca26\"],[1.0,\"#f0f921\"]]}],\"choropleth\":[{\"type\":\"choropleth\",\"colorbar\":{\"outlinewidth\":0,\"ticks\":\"\"}}],\"histogram2d\":[{\"type\":\"histogram2d\",\"colorbar\":{\"outlinewidth\":0,\"ticks\":\"\"},\"colorscale\":[[0.0,\"#0d0887\"],[0.1111111111111111,\"#46039f\"],[0.2222222222222222,\"#7201a8\"],[0.3333333333333333,\"#9c179e\"],[0.4444444444444444,\"#bd3786\"],[0.5555555555555556,\"#d8576b\"],[0.6666666666666666,\"#ed7953\"],[0.7777777777777778,\"#fb9f3a\"],[0.8888888888888888,\"#fdca26\"],[1.0,\"#f0f921\"]]}],\"heatmap\":[{\"type\":\"heatmap\",\"colorbar\":{\"outlinewidth\":0,\"ticks\":\"\"},\"colorscale\":[[0.0,\"#0d0887\"],[0.1111111111111111,\"#46039f\"],[0.2222222222222222,\"#7201a8\"],[0.3333333333333333,\"#9c179e\"],[0.4444444444444444,\"#bd3786\"],[0.5555555555555556,\"#d8576b\"],[0.6666666666666666,\"#ed7953\"],[0.7777777777777778,\"#fb9f3a\"],[0.8888888888888888,\"#fdca26\"],[1.0,\"#f0f921\"]]}],\"heatmapgl\":[{\"type\":\"heatmapgl\",\"colorbar\":{\"outlinewidth\":0,\"ticks\":\"\"},\"colorscale\":[[0.0,\"#0d0887\"],[0.1111111111111111,\"#46039f\"],[0.2222222222222222,\"#7201a8\"],[0.3333333333333333,\"#9c179e\"],[0.4444444444444444,\"#bd3786\"],[0.5555555555555556,\"#d8576b\"],[0.6666666666666666,\"#ed7953\"],[0.7777777777777778,\"#fb9f3a\"],[0.8888888888888888,\"#fdca26\"],[1.0,\"#f0f921\"]]}],\"contourcarpet\":[{\"type\":\"contourcarpet\",\"colorbar\":{\"outlinewidth\":0,\"ticks\":\"\"}}],\"contour\":[{\"type\":\"contour\",\"colorbar\":{\"outlinewidth\":0,\"ticks\":\"\"},\"colorscale\":[[0.0,\"#0d0887\"],[0.1111111111111111,\"#46039f\"],[0.2222222222222222,\"#7201a8\"],[0.3333333333333333,\"#9c179e\"],[0.4444444444444444,\"#bd3786\"],[0.5555555555555556,\"#d8576b\"],[0.6666666666666666,\"#ed7953\"],[0.7777777777777778,\"#fb9f3a\"],[0.8888888888888888,\"#fdca26\"],[1.0,\"#f0f921\"]]}],\"surface\":[{\"type\":\"surface\",\"colorbar\":{\"outlinewidth\":0,\"ticks\":\"\"},\"colorscale\":[[0.0,\"#0d0887\"],[0.1111111111111111,\"#46039f\"],[0.2222222222222222,\"#7201a8\"],[0.3333333333333333,\"#9c179e\"],[0.4444444444444444,\"#bd3786\"],[0.5555555555555556,\"#d8576b\"],[0.6666666666666666,\"#ed7953\"],[0.7777777777777778,\"#fb9f3a\"],[0.8888888888888888,\"#fdca26\"],[1.0,\"#f0f921\"]]}],\"mesh3d\":[{\"type\":\"mesh3d\",\"colorbar\":{\"outlinewidth\":0,\"ticks\":\"\"}}],\"scatter\":[{\"fillpattern\":{\"fillmode\":\"overlay\",\"size\":10,\"solidity\":0.2},\"type\":\"scatter\"}],\"parcoords\":[{\"type\":\"parcoords\",\"line\":{\"colorbar\":{\"outlinewidth\":0,\"ticks\":\"\"}}}],\"scatterpolargl\":[{\"type\":\"scatterpolargl\",\"marker\":{\"colorbar\":{\"outlinewidth\":0,\"ticks\":\"\"}}}],\"bar\":[{\"error_x\":{\"color\":\"#2a3f5f\"},\"error_y\":{\"color\":\"#2a3f5f\"},\"marker\":{\"line\":{\"color\":\"#E5ECF6\",\"width\":0.5},\"pattern\":{\"fillmode\":\"overlay\",\"size\":10,\"solidity\":0.2}},\"type\":\"bar\"}],\"scattergeo\":[{\"type\":\"scattergeo\",\"marker\":{\"colorbar\":{\"outlinewidth\":0,\"ticks\":\"\"}}}],\"scatterpolar\":[{\"type\":\"scatterpolar\",\"marker\":{\"colorbar\":{\"outlinewidth\":0,\"ticks\":\"\"}}}],\"histogram\":[{\"marker\":{\"pattern\":{\"fillmode\":\"overlay\",\"size\":10,\"solidity\":0.2}},\"type\":\"histogram\"}],\"scattergl\":[{\"type\":\"scattergl\",\"marker\":{\"colorbar\":{\"outlinewidth\":0,\"ticks\":\"\"}}}],\"scatter3d\":[{\"type\":\"scatter3d\",\"line\":{\"colorbar\":{\"outlinewidth\":0,\"ticks\":\"\"}},\"marker\":{\"colorbar\":{\"outlinewidth\":0,\"ticks\":\"\"}}}],\"scattermapbox\":[{\"type\":\"scattermapbox\",\"marker\":{\"colorbar\":{\"outlinewidth\":0,\"ticks\":\"\"}}}],\"scatterternary\":[{\"type\":\"scatterternary\",\"marker\":{\"colorbar\":{\"outlinewidth\":0,\"ticks\":\"\"}}}],\"scattercarpet\":[{\"type\":\"scattercarpet\",\"marker\":{\"colorbar\":{\"outlinewidth\":0,\"ticks\":\"\"}}}],\"carpet\":[{\"aaxis\":{\"endlinecolor\":\"#2a3f5f\",\"gridcolor\":\"white\",\"linecolor\":\"white\",\"minorgridcolor\":\"white\",\"startlinecolor\":\"#2a3f5f\"},\"baxis\":{\"endlinecolor\":\"#2a3f5f\",\"gridcolor\":\"white\",\"linecolor\":\"white\",\"minorgridcolor\":\"white\",\"startlinecolor\":\"#2a3f5f\"},\"type\":\"carpet\"}],\"table\":[{\"cells\":{\"fill\":{\"color\":\"#EBF0F8\"},\"line\":{\"color\":\"white\"}},\"header\":{\"fill\":{\"color\":\"#C8D4E3\"},\"line\":{\"color\":\"white\"}},\"type\":\"table\"}],\"barpolar\":[{\"marker\":{\"line\":{\"color\":\"#E5ECF6\",\"width\":0.5},\"pattern\":{\"fillmode\":\"overlay\",\"size\":10,\"solidity\":0.2}},\"type\":\"barpolar\"}],\"pie\":[{\"automargin\":true,\"type\":\"pie\"}]},\"layout\":{\"autotypenumbers\":\"strict\",\"colorway\":[\"#636efa\",\"#EF553B\",\"#00cc96\",\"#ab63fa\",\"#FFA15A\",\"#19d3f3\",\"#FF6692\",\"#B6E880\",\"#FF97FF\",\"#FECB52\"],\"font\":{\"color\":\"#2a3f5f\"},\"hovermode\":\"closest\",\"hoverlabel\":{\"align\":\"left\"},\"paper_bgcolor\":\"white\",\"plot_bgcolor\":\"#E5ECF6\",\"polar\":{\"bgcolor\":\"#E5ECF6\",\"angularaxis\":{\"gridcolor\":\"white\",\"linecolor\":\"white\",\"ticks\":\"\"},\"radialaxis\":{\"gridcolor\":\"white\",\"linecolor\":\"white\",\"ticks\":\"\"}},\"ternary\":{\"bgcolor\":\"#E5ECF6\",\"aaxis\":{\"gridcolor\":\"white\",\"linecolor\":\"white\",\"ticks\":\"\"},\"baxis\":{\"gridcolor\":\"white\",\"linecolor\":\"white\",\"ticks\":\"\"},\"caxis\":{\"gridcolor\":\"white\",\"linecolor\":\"white\",\"ticks\":\"\"}},\"coloraxis\":{\"colorbar\":{\"outlinewidth\":0,\"ticks\":\"\"}},\"colorscale\":{\"sequential\":[[0.0,\"#0d0887\"],[0.1111111111111111,\"#46039f\"],[0.2222222222222222,\"#7201a8\"],[0.3333333333333333,\"#9c179e\"],[0.4444444444444444,\"#bd3786\"],[0.5555555555555556,\"#d8576b\"],[0.6666666666666666,\"#ed7953\"],[0.7777777777777778,\"#fb9f3a\"],[0.8888888888888888,\"#fdca26\"],[1.0,\"#f0f921\"]],\"sequentialminus\":[[0.0,\"#0d0887\"],[0.1111111111111111,\"#46039f\"],[0.2222222222222222,\"#7201a8\"],[0.3333333333333333,\"#9c179e\"],[0.4444444444444444,\"#bd3786\"],[0.5555555555555556,\"#d8576b\"],[0.6666666666666666,\"#ed7953\"],[0.7777777777777778,\"#fb9f3a\"],[0.8888888888888888,\"#fdca26\"],[1.0,\"#f0f921\"]],\"diverging\":[[0,\"#8e0152\"],[0.1,\"#c51b7d\"],[0.2,\"#de77ae\"],[0.3,\"#f1b6da\"],[0.4,\"#fde0ef\"],[0.5,\"#f7f7f7\"],[0.6,\"#e6f5d0\"],[0.7,\"#b8e186\"],[0.8,\"#7fbc41\"],[0.9,\"#4d9221\"],[1,\"#276419\"]]},\"xaxis\":{\"gridcolor\":\"white\",\"linecolor\":\"white\",\"ticks\":\"\",\"title\":{\"standoff\":15},\"zerolinecolor\":\"white\",\"automargin\":true,\"zerolinewidth\":2},\"yaxis\":{\"gridcolor\":\"white\",\"linecolor\":\"white\",\"ticks\":\"\",\"title\":{\"standoff\":15},\"zerolinecolor\":\"white\",\"automargin\":true,\"zerolinewidth\":2},\"scene\":{\"xaxis\":{\"backgroundcolor\":\"#E5ECF6\",\"gridcolor\":\"white\",\"linecolor\":\"white\",\"showbackground\":true,\"ticks\":\"\",\"zerolinecolor\":\"white\",\"gridwidth\":2},\"yaxis\":{\"backgroundcolor\":\"#E5ECF6\",\"gridcolor\":\"white\",\"linecolor\":\"white\",\"showbackground\":true,\"ticks\":\"\",\"zerolinecolor\":\"white\",\"gridwidth\":2},\"zaxis\":{\"backgroundcolor\":\"#E5ECF6\",\"gridcolor\":\"white\",\"linecolor\":\"white\",\"showbackground\":true,\"ticks\":\"\",\"zerolinecolor\":\"white\",\"gridwidth\":2}},\"shapedefaults\":{\"line\":{\"color\":\"#2a3f5f\"}},\"annotationdefaults\":{\"arrowcolor\":\"#2a3f5f\",\"arrowhead\":0,\"arrowwidth\":1},\"geo\":{\"bgcolor\":\"white\",\"landcolor\":\"#E5ECF6\",\"subunitcolor\":\"white\",\"showland\":true,\"showlakes\":true,\"lakecolor\":\"white\"},\"title\":{\"x\":0.05},\"mapbox\":{\"style\":\"light\"}}},\"xaxis\":{\"anchor\":\"y\",\"domain\":[0.0,1.0],\"title\":{\"text\":\"x\"}},\"yaxis\":{\"anchor\":\"x\",\"domain\":[0.0,1.0],\"title\":{\"text\":\"y\"}},\"coloraxis\":{\"colorbar\":{\"title\":{\"text\":\"color\"}},\"colorscale\":[[0.0,\"#0d0887\"],[0.1111111111111111,\"#46039f\"],[0.2222222222222222,\"#7201a8\"],[0.3333333333333333,\"#9c179e\"],[0.4444444444444444,\"#bd3786\"],[0.5555555555555556,\"#d8576b\"],[0.6666666666666666,\"#ed7953\"],[0.7777777777777778,\"#fb9f3a\"],[0.8888888888888888,\"#fdca26\"],[1.0,\"#f0f921\"]]},\"legend\":{\"tracegroupgap\":0},\"margin\":{\"t\":60}},                        {\"responsive\": true}                    ).then(function(){\n",
              "                            \n",
              "var gd = document.getElementById('bf0f7a9a-c295-4956-b590-01c2b316cd1f');\n",
              "var x = new MutationObserver(function (mutations, observer) {{\n",
              "        var display = window.getComputedStyle(gd).display;\n",
              "        if (!display || display === 'none') {{\n",
              "            console.log([gd, 'removed!']);\n",
              "            Plotly.purge(gd);\n",
              "            observer.disconnect();\n",
              "        }}\n",
              "}});\n",
              "\n",
              "// Listen for the removal of the full notebook cells\n",
              "var notebookContainer = gd.closest('#notebook-container');\n",
              "if (notebookContainer) {{\n",
              "    x.observe(notebookContainer, {childList: true});\n",
              "}}\n",
              "\n",
              "// Listen for the clearing of the current output cell\n",
              "var outputEl = gd.closest('.output');\n",
              "if (outputEl) {{\n",
              "    x.observe(outputEl, {childList: true});\n",
              "}}\n",
              "\n",
              "                        })                };                            </script>        </div>\n",
              "</body>\n",
              "</html>"
            ]
          },
          "metadata": {}
        }
      ],
      "source": [
        "px.scatter(x = duration,y = values,color=duration)"
      ]
    },
    {
      "cell_type": "markdown",
      "id": "d5e43361",
      "metadata": {
        "papermill": {
          "duration": 0.022963,
          "end_time": "2022-08-10T12:10:07.663925",
          "exception": false,
          "start_time": "2022-08-10T12:10:07.640962",
          "status": "completed"
        },
        "tags": [],
        "id": "d5e43361"
      },
      "source": [
        "Clearly there are some oultier beacuse it wont take 30 hours to reach from one place to other via plane atleast in india... LOL"
      ]
    },
    {
      "cell_type": "code",
      "execution_count": 80,
      "id": "e9e8bf53",
      "metadata": {
        "execution": {
          "iopub.execute_input": "2022-08-10T12:10:07.712852Z",
          "iopub.status.busy": "2022-08-10T12:10:07.712231Z",
          "iopub.status.idle": "2022-08-10T12:10:07.717868Z",
          "shell.execute_reply": "2022-08-10T12:10:07.716557Z"
        },
        "papermill": {
          "duration": 0.033109,
          "end_time": "2022-08-10T12:10:07.720261",
          "exception": false,
          "start_time": "2022-08-10T12:10:07.687152",
          "status": "completed"
        },
        "tags": [],
        "id": "e9e8bf53"
      },
      "outputs": [],
      "source": [
        "#airline and the frequent operator"
      ]
    },
    {
      "cell_type": "code",
      "execution_count": 81,
      "id": "ff82d69d",
      "metadata": {
        "execution": {
          "iopub.execute_input": "2022-08-10T12:10:07.769288Z",
          "iopub.status.busy": "2022-08-10T12:10:07.768858Z",
          "iopub.status.idle": "2022-08-10T12:10:07.960659Z",
          "shell.execute_reply": "2022-08-10T12:10:07.959196Z"
        },
        "papermill": {
          "duration": 0.220151,
          "end_time": "2022-08-10T12:10:07.963624",
          "exception": false,
          "start_time": "2022-08-10T12:10:07.743473",
          "status": "completed"
        },
        "tags": [],
        "id": "ff82d69d"
      },
      "outputs": [],
      "source": [
        "grouped = data.groupby(['source_city','destination_city','airline']).count()['duration']"
      ]
    },
    {
      "cell_type": "code",
      "execution_count": 82,
      "id": "8e069786",
      "metadata": {
        "execution": {
          "iopub.execute_input": "2022-08-10T12:10:08.018974Z",
          "iopub.status.busy": "2022-08-10T12:10:08.018336Z",
          "iopub.status.idle": "2022-08-10T12:10:08.027109Z",
          "shell.execute_reply": "2022-08-10T12:10:08.025880Z"
        },
        "papermill": {
          "duration": 0.042075,
          "end_time": "2022-08-10T12:10:08.029753",
          "exception": false,
          "start_time": "2022-08-10T12:10:07.987678",
          "status": "completed"
        },
        "tags": [],
        "id": "8e069786"
      },
      "outputs": [],
      "source": [
        "grouped = pd.DataFrame(grouped)\n",
        "grouped = grouped.reset_index()"
      ]
    },
    {
      "cell_type": "code",
      "execution_count": 83,
      "id": "b0e9a492",
      "metadata": {
        "execution": {
          "iopub.execute_input": "2022-08-10T12:10:08.078491Z",
          "iopub.status.busy": "2022-08-10T12:10:08.078050Z",
          "iopub.status.idle": "2022-08-10T12:10:08.096038Z",
          "shell.execute_reply": "2022-08-10T12:10:08.094748Z"
        },
        "papermill": {
          "duration": 0.045079,
          "end_time": "2022-08-10T12:10:08.098447",
          "exception": false,
          "start_time": "2022-08-10T12:10:08.053368",
          "status": "completed"
        },
        "tags": [],
        "id": "b0e9a492",
        "outputId": "76be4409-4056-44d8-decf-4a33da545aa5",
        "colab": {
          "base_uri": "https://localhost:8080/",
          "height": 423
        }
      },
      "outputs": [
        {
          "output_type": "execute_result",
          "data": {
            "text/plain": [
              "    source_city destination_city    airline  duration\n",
              "0     Bangalore          Chennai    AirAsia       138\n",
              "1     Bangalore          Chennai  Air_India      1610\n",
              "2     Bangalore          Chennai   GO_FIRST       369\n",
              "3     Bangalore          Chennai     Indigo       282\n",
              "4     Bangalore          Chennai   SpiceJet        58\n",
              "..          ...              ...        ...       ...\n",
              "172      Mumbai          Kolkata  Air_India      3478\n",
              "173      Mumbai          Kolkata   GO_FIRST      1150\n",
              "174      Mumbai          Kolkata     Indigo      1690\n",
              "175      Mumbai          Kolkata   SpiceJet       973\n",
              "176      Mumbai          Kolkata    Vistara      4848\n",
              "\n",
              "[177 rows x 4 columns]"
            ],
            "text/html": [
              "\n",
              "\n",
              "  <div id=\"df-e0306f12-fddd-4da9-84f2-884c573d758b\">\n",
              "    <div class=\"colab-df-container\">\n",
              "      <div>\n",
              "<style scoped>\n",
              "    .dataframe tbody tr th:only-of-type {\n",
              "        vertical-align: middle;\n",
              "    }\n",
              "\n",
              "    .dataframe tbody tr th {\n",
              "        vertical-align: top;\n",
              "    }\n",
              "\n",
              "    .dataframe thead th {\n",
              "        text-align: right;\n",
              "    }\n",
              "</style>\n",
              "<table border=\"1\" class=\"dataframe\">\n",
              "  <thead>\n",
              "    <tr style=\"text-align: right;\">\n",
              "      <th></th>\n",
              "      <th>source_city</th>\n",
              "      <th>destination_city</th>\n",
              "      <th>airline</th>\n",
              "      <th>duration</th>\n",
              "    </tr>\n",
              "  </thead>\n",
              "  <tbody>\n",
              "    <tr>\n",
              "      <th>0</th>\n",
              "      <td>Bangalore</td>\n",
              "      <td>Chennai</td>\n",
              "      <td>AirAsia</td>\n",
              "      <td>138</td>\n",
              "    </tr>\n",
              "    <tr>\n",
              "      <th>1</th>\n",
              "      <td>Bangalore</td>\n",
              "      <td>Chennai</td>\n",
              "      <td>Air_India</td>\n",
              "      <td>1610</td>\n",
              "    </tr>\n",
              "    <tr>\n",
              "      <th>2</th>\n",
              "      <td>Bangalore</td>\n",
              "      <td>Chennai</td>\n",
              "      <td>GO_FIRST</td>\n",
              "      <td>369</td>\n",
              "    </tr>\n",
              "    <tr>\n",
              "      <th>3</th>\n",
              "      <td>Bangalore</td>\n",
              "      <td>Chennai</td>\n",
              "      <td>Indigo</td>\n",
              "      <td>282</td>\n",
              "    </tr>\n",
              "    <tr>\n",
              "      <th>4</th>\n",
              "      <td>Bangalore</td>\n",
              "      <td>Chennai</td>\n",
              "      <td>SpiceJet</td>\n",
              "      <td>58</td>\n",
              "    </tr>\n",
              "    <tr>\n",
              "      <th>...</th>\n",
              "      <td>...</td>\n",
              "      <td>...</td>\n",
              "      <td>...</td>\n",
              "      <td>...</td>\n",
              "    </tr>\n",
              "    <tr>\n",
              "      <th>172</th>\n",
              "      <td>Mumbai</td>\n",
              "      <td>Kolkata</td>\n",
              "      <td>Air_India</td>\n",
              "      <td>3478</td>\n",
              "    </tr>\n",
              "    <tr>\n",
              "      <th>173</th>\n",
              "      <td>Mumbai</td>\n",
              "      <td>Kolkata</td>\n",
              "      <td>GO_FIRST</td>\n",
              "      <td>1150</td>\n",
              "    </tr>\n",
              "    <tr>\n",
              "      <th>174</th>\n",
              "      <td>Mumbai</td>\n",
              "      <td>Kolkata</td>\n",
              "      <td>Indigo</td>\n",
              "      <td>1690</td>\n",
              "    </tr>\n",
              "    <tr>\n",
              "      <th>175</th>\n",
              "      <td>Mumbai</td>\n",
              "      <td>Kolkata</td>\n",
              "      <td>SpiceJet</td>\n",
              "      <td>973</td>\n",
              "    </tr>\n",
              "    <tr>\n",
              "      <th>176</th>\n",
              "      <td>Mumbai</td>\n",
              "      <td>Kolkata</td>\n",
              "      <td>Vistara</td>\n",
              "      <td>4848</td>\n",
              "    </tr>\n",
              "  </tbody>\n",
              "</table>\n",
              "<p>177 rows × 4 columns</p>\n",
              "</div>\n",
              "      <button class=\"colab-df-convert\" onclick=\"convertToInteractive('df-e0306f12-fddd-4da9-84f2-884c573d758b')\"\n",
              "              title=\"Convert this dataframe to an interactive table.\"\n",
              "              style=\"display:none;\">\n",
              "\n",
              "  <svg xmlns=\"http://www.w3.org/2000/svg\" height=\"24px\"viewBox=\"0 0 24 24\"\n",
              "       width=\"24px\">\n",
              "    <path d=\"M0 0h24v24H0V0z\" fill=\"none\"/>\n",
              "    <path d=\"M18.56 5.44l.94 2.06.94-2.06 2.06-.94-2.06-.94-.94-2.06-.94 2.06-2.06.94zm-11 1L8.5 8.5l.94-2.06 2.06-.94-2.06-.94L8.5 2.5l-.94 2.06-2.06.94zm10 10l.94 2.06.94-2.06 2.06-.94-2.06-.94-.94-2.06-.94 2.06-2.06.94z\"/><path d=\"M17.41 7.96l-1.37-1.37c-.4-.4-.92-.59-1.43-.59-.52 0-1.04.2-1.43.59L10.3 9.45l-7.72 7.72c-.78.78-.78 2.05 0 2.83L4 21.41c.39.39.9.59 1.41.59.51 0 1.02-.2 1.41-.59l7.78-7.78 2.81-2.81c.8-.78.8-2.07 0-2.86zM5.41 20L4 18.59l7.72-7.72 1.47 1.35L5.41 20z\"/>\n",
              "  </svg>\n",
              "      </button>\n",
              "\n",
              "\n",
              "\n",
              "    <div id=\"df-afb5028f-331d-4a41-bfa5-4941932423e7\">\n",
              "      <button class=\"colab-df-quickchart\" onclick=\"quickchart('df-afb5028f-331d-4a41-bfa5-4941932423e7')\"\n",
              "              title=\"Suggest charts.\"\n",
              "              style=\"display:none;\">\n",
              "\n",
              "<svg xmlns=\"http://www.w3.org/2000/svg\" height=\"24px\"viewBox=\"0 0 24 24\"\n",
              "     width=\"24px\">\n",
              "    <g>\n",
              "        <path d=\"M19 3H5c-1.1 0-2 .9-2 2v14c0 1.1.9 2 2 2h14c1.1 0 2-.9 2-2V5c0-1.1-.9-2-2-2zM9 17H7v-7h2v7zm4 0h-2V7h2v10zm4 0h-2v-4h2v4z\"/>\n",
              "    </g>\n",
              "</svg>\n",
              "      </button>\n",
              "    </div>\n",
              "\n",
              "<style>\n",
              "  .colab-df-quickchart {\n",
              "    background-color: #E8F0FE;\n",
              "    border: none;\n",
              "    border-radius: 50%;\n",
              "    cursor: pointer;\n",
              "    display: none;\n",
              "    fill: #1967D2;\n",
              "    height: 32px;\n",
              "    padding: 0 0 0 0;\n",
              "    width: 32px;\n",
              "  }\n",
              "\n",
              "  .colab-df-quickchart:hover {\n",
              "    background-color: #E2EBFA;\n",
              "    box-shadow: 0px 1px 2px rgba(60, 64, 67, 0.3), 0px 1px 3px 1px rgba(60, 64, 67, 0.15);\n",
              "    fill: #174EA6;\n",
              "  }\n",
              "\n",
              "  [theme=dark] .colab-df-quickchart {\n",
              "    background-color: #3B4455;\n",
              "    fill: #D2E3FC;\n",
              "  }\n",
              "\n",
              "  [theme=dark] .colab-df-quickchart:hover {\n",
              "    background-color: #434B5C;\n",
              "    box-shadow: 0px 1px 3px 1px rgba(0, 0, 0, 0.15);\n",
              "    filter: drop-shadow(0px 1px 2px rgba(0, 0, 0, 0.3));\n",
              "    fill: #FFFFFF;\n",
              "  }\n",
              "</style>\n",
              "\n",
              "    <script>\n",
              "      async function quickchart(key) {\n",
              "        const containerElement = document.querySelector('#' + key);\n",
              "        const charts = await google.colab.kernel.invokeFunction(\n",
              "            'suggestCharts', [key], {});\n",
              "      }\n",
              "    </script>\n",
              "\n",
              "      <script>\n",
              "\n",
              "function displayQuickchartButton(domScope) {\n",
              "  let quickchartButtonEl =\n",
              "    domScope.querySelector('#df-afb5028f-331d-4a41-bfa5-4941932423e7 button.colab-df-quickchart');\n",
              "  quickchartButtonEl.style.display =\n",
              "    google.colab.kernel.accessAllowed ? 'block' : 'none';\n",
              "}\n",
              "\n",
              "        displayQuickchartButton(document);\n",
              "      </script>\n",
              "      <style>\n",
              "    .colab-df-container {\n",
              "      display:flex;\n",
              "      flex-wrap:wrap;\n",
              "      gap: 12px;\n",
              "    }\n",
              "\n",
              "    .colab-df-convert {\n",
              "      background-color: #E8F0FE;\n",
              "      border: none;\n",
              "      border-radius: 50%;\n",
              "      cursor: pointer;\n",
              "      display: none;\n",
              "      fill: #1967D2;\n",
              "      height: 32px;\n",
              "      padding: 0 0 0 0;\n",
              "      width: 32px;\n",
              "    }\n",
              "\n",
              "    .colab-df-convert:hover {\n",
              "      background-color: #E2EBFA;\n",
              "      box-shadow: 0px 1px 2px rgba(60, 64, 67, 0.3), 0px 1px 3px 1px rgba(60, 64, 67, 0.15);\n",
              "      fill: #174EA6;\n",
              "    }\n",
              "\n",
              "    [theme=dark] .colab-df-convert {\n",
              "      background-color: #3B4455;\n",
              "      fill: #D2E3FC;\n",
              "    }\n",
              "\n",
              "    [theme=dark] .colab-df-convert:hover {\n",
              "      background-color: #434B5C;\n",
              "      box-shadow: 0px 1px 3px 1px rgba(0, 0, 0, 0.15);\n",
              "      filter: drop-shadow(0px 1px 2px rgba(0, 0, 0, 0.3));\n",
              "      fill: #FFFFFF;\n",
              "    }\n",
              "  </style>\n",
              "\n",
              "      <script>\n",
              "        const buttonEl =\n",
              "          document.querySelector('#df-e0306f12-fddd-4da9-84f2-884c573d758b button.colab-df-convert');\n",
              "        buttonEl.style.display =\n",
              "          google.colab.kernel.accessAllowed ? 'block' : 'none';\n",
              "\n",
              "        async function convertToInteractive(key) {\n",
              "          const element = document.querySelector('#df-e0306f12-fddd-4da9-84f2-884c573d758b');\n",
              "          const dataTable =\n",
              "            await google.colab.kernel.invokeFunction('convertToInteractive',\n",
              "                                                     [key], {});\n",
              "          if (!dataTable) return;\n",
              "\n",
              "          const docLinkHtml = 'Like what you see? Visit the ' +\n",
              "            '<a target=\"_blank\" href=https://colab.research.google.com/notebooks/data_table.ipynb>data table notebook</a>'\n",
              "            + ' to learn more about interactive tables.';\n",
              "          element.innerHTML = '';\n",
              "          dataTable['output_type'] = 'display_data';\n",
              "          await google.colab.output.renderOutput(dataTable, element);\n",
              "          const docLink = document.createElement('div');\n",
              "          docLink.innerHTML = docLinkHtml;\n",
              "          element.appendChild(docLink);\n",
              "        }\n",
              "      </script>\n",
              "    </div>\n",
              "  </div>\n"
            ]
          },
          "metadata": {},
          "execution_count": 83
        }
      ],
      "source": [
        "grouped"
      ]
    },
    {
      "cell_type": "code",
      "execution_count": 84,
      "id": "ec90153b",
      "metadata": {
        "execution": {
          "iopub.execute_input": "2022-08-10T12:10:08.149321Z",
          "iopub.status.busy": "2022-08-10T12:10:08.148435Z",
          "iopub.status.idle": "2022-08-10T12:10:08.154691Z",
          "shell.execute_reply": "2022-08-10T12:10:08.153291Z"
        },
        "papermill": {
          "duration": 0.034305,
          "end_time": "2022-08-10T12:10:08.157139",
          "exception": false,
          "start_time": "2022-08-10T12:10:08.122834",
          "status": "completed"
        },
        "tags": [],
        "id": "ec90153b"
      },
      "outputs": [],
      "source": [
        "source_cities = list(grouped['source_city'].unique())"
      ]
    },
    {
      "cell_type": "code",
      "execution_count": 85,
      "id": "e1258e4b",
      "metadata": {
        "execution": {
          "iopub.execute_input": "2022-08-10T12:10:08.207050Z",
          "iopub.status.busy": "2022-08-10T12:10:08.206607Z",
          "iopub.status.idle": "2022-08-10T12:10:08.213721Z",
          "shell.execute_reply": "2022-08-10T12:10:08.212487Z"
        },
        "papermill": {
          "duration": 0.035456,
          "end_time": "2022-08-10T12:10:08.216148",
          "exception": false,
          "start_time": "2022-08-10T12:10:08.180692",
          "status": "completed"
        },
        "tags": [],
        "id": "e1258e4b",
        "outputId": "4dfe0a85-eebd-488c-8088-f1d1a56e5b39",
        "colab": {
          "base_uri": "https://localhost:8080/"
        }
      },
      "outputs": [
        {
          "output_type": "execute_result",
          "data": {
            "text/plain": [
              "['Bangalore', 'Chennai', 'Delhi', 'Hyderabad', 'Kolkata', 'Mumbai']"
            ]
          },
          "metadata": {},
          "execution_count": 85
        }
      ],
      "source": [
        "source_cities"
      ]
    },
    {
      "cell_type": "code",
      "execution_count": 86,
      "id": "2ddeab2a",
      "metadata": {
        "execution": {
          "iopub.execute_input": "2022-08-10T12:10:08.266533Z",
          "iopub.status.busy": "2022-08-10T12:10:08.266113Z",
          "iopub.status.idle": "2022-08-10T12:10:08.272100Z",
          "shell.execute_reply": "2022-08-10T12:10:08.270993Z"
        },
        "papermill": {
          "duration": 0.033616,
          "end_time": "2022-08-10T12:10:08.274400",
          "exception": false,
          "start_time": "2022-08-10T12:10:08.240784",
          "status": "completed"
        },
        "tags": [],
        "id": "2ddeab2a"
      },
      "outputs": [],
      "source": [
        "destination_cities = list(grouped['destination_city'].unique())"
      ]
    },
    {
      "cell_type": "code",
      "execution_count": 87,
      "id": "765f3ed6",
      "metadata": {
        "execution": {
          "iopub.execute_input": "2022-08-10T12:10:08.324974Z",
          "iopub.status.busy": "2022-08-10T12:10:08.324509Z",
          "iopub.status.idle": "2022-08-10T12:10:08.331805Z",
          "shell.execute_reply": "2022-08-10T12:10:08.330939Z"
        },
        "papermill": {
          "duration": 0.035193,
          "end_time": "2022-08-10T12:10:08.334054",
          "exception": false,
          "start_time": "2022-08-10T12:10:08.298861",
          "status": "completed"
        },
        "tags": [],
        "id": "765f3ed6",
        "outputId": "f7f25abc-50b7-428f-dee5-48a551530c6a",
        "colab": {
          "base_uri": "https://localhost:8080/"
        }
      },
      "outputs": [
        {
          "output_type": "execute_result",
          "data": {
            "text/plain": [
              "['Chennai', 'Delhi', 'Hyderabad', 'Kolkata', 'Mumbai', 'Bangalore']"
            ]
          },
          "metadata": {},
          "execution_count": 87
        }
      ],
      "source": [
        "destination_cities"
      ]
    },
    {
      "cell_type": "code",
      "execution_count": 88,
      "id": "c2b84672",
      "metadata": {
        "execution": {
          "iopub.execute_input": "2022-08-10T12:10:08.385411Z",
          "iopub.status.busy": "2022-08-10T12:10:08.384677Z",
          "iopub.status.idle": "2022-08-10T12:10:08.392701Z",
          "shell.execute_reply": "2022-08-10T12:10:08.391567Z"
        },
        "papermill": {
          "duration": 0.036342,
          "end_time": "2022-08-10T12:10:08.395019",
          "exception": false,
          "start_time": "2022-08-10T12:10:08.358677",
          "status": "completed"
        },
        "tags": [],
        "id": "c2b84672",
        "outputId": "9f677cfb-1b07-4e66-9564-73d72d389749",
        "colab": {
          "base_uri": "https://localhost:8080/",
          "height": 36
        }
      },
      "outputs": [
        {
          "output_type": "execute_result",
          "data": {
            "text/plain": [
              "'SpiceJet'"
            ],
            "application/vnd.google.colaboratory.intrinsic+json": {
              "type": "string"
            }
          },
          "metadata": {},
          "execution_count": 88
        }
      ],
      "source": [
        "data.iloc[0].values[0]"
      ]
    },
    {
      "cell_type": "code",
      "execution_count": 38,
      "id": "1a28adff",
      "metadata": {
        "execution": {
          "iopub.execute_input": "2022-08-10T12:10:08.445164Z",
          "iopub.status.busy": "2022-08-10T12:10:08.444739Z",
          "iopub.status.idle": "2022-08-10T12:10:09.039499Z",
          "shell.execute_reply": "2022-08-10T12:10:09.038156Z"
        },
        "papermill": {
          "duration": 0.623178,
          "end_time": "2022-08-10T12:10:09.042507",
          "exception": false,
          "start_time": "2022-08-10T12:10:08.419329",
          "status": "completed"
        },
        "tags": [],
        "id": "1a28adff"
      },
      "outputs": [],
      "source": [
        "empty_data = pd.DataFrame(columns=['source','destination','airline'])\n",
        "count = 0\n",
        "for index,i in enumerate(source_cities):\n",
        "    destinations = [j for j in destination_cities if j not in [i]]\n",
        "    test_data = data[data['source_city']==i]\n",
        "    for dest in destinations:\n",
        "        work = test_data.copy()\n",
        "        work = work[work['destination_city']==dest]\n",
        "        airline = work.sort_values(by = 'duration',ascending=False).iloc[0].values[0]\n",
        "        empty_data.loc[count] = [i,dest,airline]\n",
        "        count+=1"
      ]
    },
    {
      "cell_type": "code",
      "execution_count": 39,
      "id": "35987c12",
      "metadata": {
        "execution": {
          "iopub.execute_input": "2022-08-10T12:10:09.093541Z",
          "iopub.status.busy": "2022-08-10T12:10:09.093114Z",
          "iopub.status.idle": "2022-08-10T12:10:09.105938Z",
          "shell.execute_reply": "2022-08-10T12:10:09.104732Z"
        },
        "papermill": {
          "duration": 0.041303,
          "end_time": "2022-08-10T12:10:09.108430",
          "exception": false,
          "start_time": "2022-08-10T12:10:09.067127",
          "status": "completed"
        },
        "tags": [],
        "id": "35987c12",
        "outputId": "046ca011-8b7d-4125-c41a-2197d6c51adc",
        "colab": {
          "base_uri": "https://localhost:8080/",
          "height": 206
        }
      },
      "outputs": [
        {
          "output_type": "execute_result",
          "data": {
            "text/plain": [
              "      source destination    airline\n",
              "0  Bangalore     Chennai  Air_India\n",
              "1  Bangalore       Delhi  Air_India\n",
              "2  Bangalore   Hyderabad  Air_India\n",
              "3  Bangalore     Kolkata    Vistara\n",
              "4  Bangalore      Mumbai    Vistara"
            ],
            "text/html": [
              "\n",
              "\n",
              "  <div id=\"df-cbf75201-e49e-465e-b77a-c258b48d0b99\">\n",
              "    <div class=\"colab-df-container\">\n",
              "      <div>\n",
              "<style scoped>\n",
              "    .dataframe tbody tr th:only-of-type {\n",
              "        vertical-align: middle;\n",
              "    }\n",
              "\n",
              "    .dataframe tbody tr th {\n",
              "        vertical-align: top;\n",
              "    }\n",
              "\n",
              "    .dataframe thead th {\n",
              "        text-align: right;\n",
              "    }\n",
              "</style>\n",
              "<table border=\"1\" class=\"dataframe\">\n",
              "  <thead>\n",
              "    <tr style=\"text-align: right;\">\n",
              "      <th></th>\n",
              "      <th>source</th>\n",
              "      <th>destination</th>\n",
              "      <th>airline</th>\n",
              "    </tr>\n",
              "  </thead>\n",
              "  <tbody>\n",
              "    <tr>\n",
              "      <th>0</th>\n",
              "      <td>Bangalore</td>\n",
              "      <td>Chennai</td>\n",
              "      <td>Air_India</td>\n",
              "    </tr>\n",
              "    <tr>\n",
              "      <th>1</th>\n",
              "      <td>Bangalore</td>\n",
              "      <td>Delhi</td>\n",
              "      <td>Air_India</td>\n",
              "    </tr>\n",
              "    <tr>\n",
              "      <th>2</th>\n",
              "      <td>Bangalore</td>\n",
              "      <td>Hyderabad</td>\n",
              "      <td>Air_India</td>\n",
              "    </tr>\n",
              "    <tr>\n",
              "      <th>3</th>\n",
              "      <td>Bangalore</td>\n",
              "      <td>Kolkata</td>\n",
              "      <td>Vistara</td>\n",
              "    </tr>\n",
              "    <tr>\n",
              "      <th>4</th>\n",
              "      <td>Bangalore</td>\n",
              "      <td>Mumbai</td>\n",
              "      <td>Vistara</td>\n",
              "    </tr>\n",
              "  </tbody>\n",
              "</table>\n",
              "</div>\n",
              "      <button class=\"colab-df-convert\" onclick=\"convertToInteractive('df-cbf75201-e49e-465e-b77a-c258b48d0b99')\"\n",
              "              title=\"Convert this dataframe to an interactive table.\"\n",
              "              style=\"display:none;\">\n",
              "\n",
              "  <svg xmlns=\"http://www.w3.org/2000/svg\" height=\"24px\"viewBox=\"0 0 24 24\"\n",
              "       width=\"24px\">\n",
              "    <path d=\"M0 0h24v24H0V0z\" fill=\"none\"/>\n",
              "    <path d=\"M18.56 5.44l.94 2.06.94-2.06 2.06-.94-2.06-.94-.94-2.06-.94 2.06-2.06.94zm-11 1L8.5 8.5l.94-2.06 2.06-.94-2.06-.94L8.5 2.5l-.94 2.06-2.06.94zm10 10l.94 2.06.94-2.06 2.06-.94-2.06-.94-.94-2.06-.94 2.06-2.06.94z\"/><path d=\"M17.41 7.96l-1.37-1.37c-.4-.4-.92-.59-1.43-.59-.52 0-1.04.2-1.43.59L10.3 9.45l-7.72 7.72c-.78.78-.78 2.05 0 2.83L4 21.41c.39.39.9.59 1.41.59.51 0 1.02-.2 1.41-.59l7.78-7.78 2.81-2.81c.8-.78.8-2.07 0-2.86zM5.41 20L4 18.59l7.72-7.72 1.47 1.35L5.41 20z\"/>\n",
              "  </svg>\n",
              "      </button>\n",
              "\n",
              "\n",
              "\n",
              "    <div id=\"df-0d2020e6-3351-4a19-afa4-f311449a350f\">\n",
              "      <button class=\"colab-df-quickchart\" onclick=\"quickchart('df-0d2020e6-3351-4a19-afa4-f311449a350f')\"\n",
              "              title=\"Suggest charts.\"\n",
              "              style=\"display:none;\">\n",
              "\n",
              "<svg xmlns=\"http://www.w3.org/2000/svg\" height=\"24px\"viewBox=\"0 0 24 24\"\n",
              "     width=\"24px\">\n",
              "    <g>\n",
              "        <path d=\"M19 3H5c-1.1 0-2 .9-2 2v14c0 1.1.9 2 2 2h14c1.1 0 2-.9 2-2V5c0-1.1-.9-2-2-2zM9 17H7v-7h2v7zm4 0h-2V7h2v10zm4 0h-2v-4h2v4z\"/>\n",
              "    </g>\n",
              "</svg>\n",
              "      </button>\n",
              "    </div>\n",
              "\n",
              "<style>\n",
              "  .colab-df-quickchart {\n",
              "    background-color: #E8F0FE;\n",
              "    border: none;\n",
              "    border-radius: 50%;\n",
              "    cursor: pointer;\n",
              "    display: none;\n",
              "    fill: #1967D2;\n",
              "    height: 32px;\n",
              "    padding: 0 0 0 0;\n",
              "    width: 32px;\n",
              "  }\n",
              "\n",
              "  .colab-df-quickchart:hover {\n",
              "    background-color: #E2EBFA;\n",
              "    box-shadow: 0px 1px 2px rgba(60, 64, 67, 0.3), 0px 1px 3px 1px rgba(60, 64, 67, 0.15);\n",
              "    fill: #174EA6;\n",
              "  }\n",
              "\n",
              "  [theme=dark] .colab-df-quickchart {\n",
              "    background-color: #3B4455;\n",
              "    fill: #D2E3FC;\n",
              "  }\n",
              "\n",
              "  [theme=dark] .colab-df-quickchart:hover {\n",
              "    background-color: #434B5C;\n",
              "    box-shadow: 0px 1px 3px 1px rgba(0, 0, 0, 0.15);\n",
              "    filter: drop-shadow(0px 1px 2px rgba(0, 0, 0, 0.3));\n",
              "    fill: #FFFFFF;\n",
              "  }\n",
              "</style>\n",
              "\n",
              "    <script>\n",
              "      async function quickchart(key) {\n",
              "        const containerElement = document.querySelector('#' + key);\n",
              "        const charts = await google.colab.kernel.invokeFunction(\n",
              "            'suggestCharts', [key], {});\n",
              "      }\n",
              "    </script>\n",
              "\n",
              "      <script>\n",
              "\n",
              "function displayQuickchartButton(domScope) {\n",
              "  let quickchartButtonEl =\n",
              "    domScope.querySelector('#df-0d2020e6-3351-4a19-afa4-f311449a350f button.colab-df-quickchart');\n",
              "  quickchartButtonEl.style.display =\n",
              "    google.colab.kernel.accessAllowed ? 'block' : 'none';\n",
              "}\n",
              "\n",
              "        displayQuickchartButton(document);\n",
              "      </script>\n",
              "      <style>\n",
              "    .colab-df-container {\n",
              "      display:flex;\n",
              "      flex-wrap:wrap;\n",
              "      gap: 12px;\n",
              "    }\n",
              "\n",
              "    .colab-df-convert {\n",
              "      background-color: #E8F0FE;\n",
              "      border: none;\n",
              "      border-radius: 50%;\n",
              "      cursor: pointer;\n",
              "      display: none;\n",
              "      fill: #1967D2;\n",
              "      height: 32px;\n",
              "      padding: 0 0 0 0;\n",
              "      width: 32px;\n",
              "    }\n",
              "\n",
              "    .colab-df-convert:hover {\n",
              "      background-color: #E2EBFA;\n",
              "      box-shadow: 0px 1px 2px rgba(60, 64, 67, 0.3), 0px 1px 3px 1px rgba(60, 64, 67, 0.15);\n",
              "      fill: #174EA6;\n",
              "    }\n",
              "\n",
              "    [theme=dark] .colab-df-convert {\n",
              "      background-color: #3B4455;\n",
              "      fill: #D2E3FC;\n",
              "    }\n",
              "\n",
              "    [theme=dark] .colab-df-convert:hover {\n",
              "      background-color: #434B5C;\n",
              "      box-shadow: 0px 1px 3px 1px rgba(0, 0, 0, 0.15);\n",
              "      filter: drop-shadow(0px 1px 2px rgba(0, 0, 0, 0.3));\n",
              "      fill: #FFFFFF;\n",
              "    }\n",
              "  </style>\n",
              "\n",
              "      <script>\n",
              "        const buttonEl =\n",
              "          document.querySelector('#df-cbf75201-e49e-465e-b77a-c258b48d0b99 button.colab-df-convert');\n",
              "        buttonEl.style.display =\n",
              "          google.colab.kernel.accessAllowed ? 'block' : 'none';\n",
              "\n",
              "        async function convertToInteractive(key) {\n",
              "          const element = document.querySelector('#df-cbf75201-e49e-465e-b77a-c258b48d0b99');\n",
              "          const dataTable =\n",
              "            await google.colab.kernel.invokeFunction('convertToInteractive',\n",
              "                                                     [key], {});\n",
              "          if (!dataTable) return;\n",
              "\n",
              "          const docLinkHtml = 'Like what you see? Visit the ' +\n",
              "            '<a target=\"_blank\" href=https://colab.research.google.com/notebooks/data_table.ipynb>data table notebook</a>'\n",
              "            + ' to learn more about interactive tables.';\n",
              "          element.innerHTML = '';\n",
              "          dataTable['output_type'] = 'display_data';\n",
              "          await google.colab.output.renderOutput(dataTable, element);\n",
              "          const docLink = document.createElement('div');\n",
              "          docLink.innerHTML = docLinkHtml;\n",
              "          element.appendChild(docLink);\n",
              "        }\n",
              "      </script>\n",
              "    </div>\n",
              "  </div>\n"
            ]
          },
          "metadata": {},
          "execution_count": 39
        }
      ],
      "source": [
        "empty_data.head()"
      ]
    },
    {
      "cell_type": "code",
      "execution_count": 40,
      "id": "501f7e0b",
      "metadata": {
        "execution": {
          "iopub.execute_input": "2022-08-10T12:10:09.159396Z",
          "iopub.status.busy": "2022-08-10T12:10:09.158989Z",
          "iopub.status.idle": "2022-08-10T12:10:09.210411Z",
          "shell.execute_reply": "2022-08-10T12:10:09.209223Z"
        },
        "papermill": {
          "duration": 0.080187,
          "end_time": "2022-08-10T12:10:09.213293",
          "exception": false,
          "start_time": "2022-08-10T12:10:09.133106",
          "status": "completed"
        },
        "tags": [],
        "id": "501f7e0b",
        "outputId": "c94f05d0-ecff-4cdc-92c1-7141ebab798f",
        "colab": {
          "base_uri": "https://localhost:8080/",
          "height": 417
        }
      },
      "outputs": [
        {
          "output_type": "display_data",
          "data": {
            "text/html": [
              "<html>\n",
              "<head><meta charset=\"utf-8\" /></head>\n",
              "<body>\n",
              "    <div>            <script src=\"https://cdnjs.cloudflare.com/ajax/libs/mathjax/2.7.5/MathJax.js?config=TeX-AMS-MML_SVG\"></script><script type=\"text/javascript\">if (window.MathJax && window.MathJax.Hub && window.MathJax.Hub.Config) {window.MathJax.Hub.Config({SVG: {font: \"STIX-Web\"}});}</script>                <script type=\"text/javascript\">window.PlotlyConfig = {MathJaxConfig: 'local'};</script>\n",
              "        <script src=\"https://cdn.plot.ly/plotly-2.18.2.min.js\"></script>                <div id=\"e98f1c55-de21-4ca8-8db5-6c830c6f29c5\" class=\"plotly-graph-div\" style=\"height:400px; width:600px;\"></div>            <script type=\"text/javascript\">                                    window.PLOTLYENV=window.PLOTLYENV || {};                                    if (document.getElementById(\"e98f1c55-de21-4ca8-8db5-6c830c6f29c5\")) {                    Plotly.newPlot(                        \"e98f1c55-de21-4ca8-8db5-6c830c6f29c5\",                        [{\"domain\":{\"x\":[0.0,1.0],\"y\":[0.0,1.0]},\"hovertemplate\":\"label=%{label}<br>value=%{value}<extra></extra>\",\"labels\":[\"Air_India\",\"Vistara\"],\"legendgroup\":\"\",\"name\":\"\",\"showlegend\":true,\"values\":[20,10],\"type\":\"pie\"}],                        {\"template\":{\"data\":{\"histogram2dcontour\":[{\"type\":\"histogram2dcontour\",\"colorbar\":{\"outlinewidth\":0,\"ticks\":\"\"},\"colorscale\":[[0.0,\"#0d0887\"],[0.1111111111111111,\"#46039f\"],[0.2222222222222222,\"#7201a8\"],[0.3333333333333333,\"#9c179e\"],[0.4444444444444444,\"#bd3786\"],[0.5555555555555556,\"#d8576b\"],[0.6666666666666666,\"#ed7953\"],[0.7777777777777778,\"#fb9f3a\"],[0.8888888888888888,\"#fdca26\"],[1.0,\"#f0f921\"]]}],\"choropleth\":[{\"type\":\"choropleth\",\"colorbar\":{\"outlinewidth\":0,\"ticks\":\"\"}}],\"histogram2d\":[{\"type\":\"histogram2d\",\"colorbar\":{\"outlinewidth\":0,\"ticks\":\"\"},\"colorscale\":[[0.0,\"#0d0887\"],[0.1111111111111111,\"#46039f\"],[0.2222222222222222,\"#7201a8\"],[0.3333333333333333,\"#9c179e\"],[0.4444444444444444,\"#bd3786\"],[0.5555555555555556,\"#d8576b\"],[0.6666666666666666,\"#ed7953\"],[0.7777777777777778,\"#fb9f3a\"],[0.8888888888888888,\"#fdca26\"],[1.0,\"#f0f921\"]]}],\"heatmap\":[{\"type\":\"heatmap\",\"colorbar\":{\"outlinewidth\":0,\"ticks\":\"\"},\"colorscale\":[[0.0,\"#0d0887\"],[0.1111111111111111,\"#46039f\"],[0.2222222222222222,\"#7201a8\"],[0.3333333333333333,\"#9c179e\"],[0.4444444444444444,\"#bd3786\"],[0.5555555555555556,\"#d8576b\"],[0.6666666666666666,\"#ed7953\"],[0.7777777777777778,\"#fb9f3a\"],[0.8888888888888888,\"#fdca26\"],[1.0,\"#f0f921\"]]}],\"heatmapgl\":[{\"type\":\"heatmapgl\",\"colorbar\":{\"outlinewidth\":0,\"ticks\":\"\"},\"colorscale\":[[0.0,\"#0d0887\"],[0.1111111111111111,\"#46039f\"],[0.2222222222222222,\"#7201a8\"],[0.3333333333333333,\"#9c179e\"],[0.4444444444444444,\"#bd3786\"],[0.5555555555555556,\"#d8576b\"],[0.6666666666666666,\"#ed7953\"],[0.7777777777777778,\"#fb9f3a\"],[0.8888888888888888,\"#fdca26\"],[1.0,\"#f0f921\"]]}],\"contourcarpet\":[{\"type\":\"contourcarpet\",\"colorbar\":{\"outlinewidth\":0,\"ticks\":\"\"}}],\"contour\":[{\"type\":\"contour\",\"colorbar\":{\"outlinewidth\":0,\"ticks\":\"\"},\"colorscale\":[[0.0,\"#0d0887\"],[0.1111111111111111,\"#46039f\"],[0.2222222222222222,\"#7201a8\"],[0.3333333333333333,\"#9c179e\"],[0.4444444444444444,\"#bd3786\"],[0.5555555555555556,\"#d8576b\"],[0.6666666666666666,\"#ed7953\"],[0.7777777777777778,\"#fb9f3a\"],[0.8888888888888888,\"#fdca26\"],[1.0,\"#f0f921\"]]}],\"surface\":[{\"type\":\"surface\",\"colorbar\":{\"outlinewidth\":0,\"ticks\":\"\"},\"colorscale\":[[0.0,\"#0d0887\"],[0.1111111111111111,\"#46039f\"],[0.2222222222222222,\"#7201a8\"],[0.3333333333333333,\"#9c179e\"],[0.4444444444444444,\"#bd3786\"],[0.5555555555555556,\"#d8576b\"],[0.6666666666666666,\"#ed7953\"],[0.7777777777777778,\"#fb9f3a\"],[0.8888888888888888,\"#fdca26\"],[1.0,\"#f0f921\"]]}],\"mesh3d\":[{\"type\":\"mesh3d\",\"colorbar\":{\"outlinewidth\":0,\"ticks\":\"\"}}],\"scatter\":[{\"fillpattern\":{\"fillmode\":\"overlay\",\"size\":10,\"solidity\":0.2},\"type\":\"scatter\"}],\"parcoords\":[{\"type\":\"parcoords\",\"line\":{\"colorbar\":{\"outlinewidth\":0,\"ticks\":\"\"}}}],\"scatterpolargl\":[{\"type\":\"scatterpolargl\",\"marker\":{\"colorbar\":{\"outlinewidth\":0,\"ticks\":\"\"}}}],\"bar\":[{\"error_x\":{\"color\":\"#2a3f5f\"},\"error_y\":{\"color\":\"#2a3f5f\"},\"marker\":{\"line\":{\"color\":\"#E5ECF6\",\"width\":0.5},\"pattern\":{\"fillmode\":\"overlay\",\"size\":10,\"solidity\":0.2}},\"type\":\"bar\"}],\"scattergeo\":[{\"type\":\"scattergeo\",\"marker\":{\"colorbar\":{\"outlinewidth\":0,\"ticks\":\"\"}}}],\"scatterpolar\":[{\"type\":\"scatterpolar\",\"marker\":{\"colorbar\":{\"outlinewidth\":0,\"ticks\":\"\"}}}],\"histogram\":[{\"marker\":{\"pattern\":{\"fillmode\":\"overlay\",\"size\":10,\"solidity\":0.2}},\"type\":\"histogram\"}],\"scattergl\":[{\"type\":\"scattergl\",\"marker\":{\"colorbar\":{\"outlinewidth\":0,\"ticks\":\"\"}}}],\"scatter3d\":[{\"type\":\"scatter3d\",\"line\":{\"colorbar\":{\"outlinewidth\":0,\"ticks\":\"\"}},\"marker\":{\"colorbar\":{\"outlinewidth\":0,\"ticks\":\"\"}}}],\"scattermapbox\":[{\"type\":\"scattermapbox\",\"marker\":{\"colorbar\":{\"outlinewidth\":0,\"ticks\":\"\"}}}],\"scatterternary\":[{\"type\":\"scatterternary\",\"marker\":{\"colorbar\":{\"outlinewidth\":0,\"ticks\":\"\"}}}],\"scattercarpet\":[{\"type\":\"scattercarpet\",\"marker\":{\"colorbar\":{\"outlinewidth\":0,\"ticks\":\"\"}}}],\"carpet\":[{\"aaxis\":{\"endlinecolor\":\"#2a3f5f\",\"gridcolor\":\"white\",\"linecolor\":\"white\",\"minorgridcolor\":\"white\",\"startlinecolor\":\"#2a3f5f\"},\"baxis\":{\"endlinecolor\":\"#2a3f5f\",\"gridcolor\":\"white\",\"linecolor\":\"white\",\"minorgridcolor\":\"white\",\"startlinecolor\":\"#2a3f5f\"},\"type\":\"carpet\"}],\"table\":[{\"cells\":{\"fill\":{\"color\":\"#EBF0F8\"},\"line\":{\"color\":\"white\"}},\"header\":{\"fill\":{\"color\":\"#C8D4E3\"},\"line\":{\"color\":\"white\"}},\"type\":\"table\"}],\"barpolar\":[{\"marker\":{\"line\":{\"color\":\"#E5ECF6\",\"width\":0.5},\"pattern\":{\"fillmode\":\"overlay\",\"size\":10,\"solidity\":0.2}},\"type\":\"barpolar\"}],\"pie\":[{\"automargin\":true,\"type\":\"pie\"}]},\"layout\":{\"autotypenumbers\":\"strict\",\"colorway\":[\"#636efa\",\"#EF553B\",\"#00cc96\",\"#ab63fa\",\"#FFA15A\",\"#19d3f3\",\"#FF6692\",\"#B6E880\",\"#FF97FF\",\"#FECB52\"],\"font\":{\"color\":\"#2a3f5f\"},\"hovermode\":\"closest\",\"hoverlabel\":{\"align\":\"left\"},\"paper_bgcolor\":\"white\",\"plot_bgcolor\":\"#E5ECF6\",\"polar\":{\"bgcolor\":\"#E5ECF6\",\"angularaxis\":{\"gridcolor\":\"white\",\"linecolor\":\"white\",\"ticks\":\"\"},\"radialaxis\":{\"gridcolor\":\"white\",\"linecolor\":\"white\",\"ticks\":\"\"}},\"ternary\":{\"bgcolor\":\"#E5ECF6\",\"aaxis\":{\"gridcolor\":\"white\",\"linecolor\":\"white\",\"ticks\":\"\"},\"baxis\":{\"gridcolor\":\"white\",\"linecolor\":\"white\",\"ticks\":\"\"},\"caxis\":{\"gridcolor\":\"white\",\"linecolor\":\"white\",\"ticks\":\"\"}},\"coloraxis\":{\"colorbar\":{\"outlinewidth\":0,\"ticks\":\"\"}},\"colorscale\":{\"sequential\":[[0.0,\"#0d0887\"],[0.1111111111111111,\"#46039f\"],[0.2222222222222222,\"#7201a8\"],[0.3333333333333333,\"#9c179e\"],[0.4444444444444444,\"#bd3786\"],[0.5555555555555556,\"#d8576b\"],[0.6666666666666666,\"#ed7953\"],[0.7777777777777778,\"#fb9f3a\"],[0.8888888888888888,\"#fdca26\"],[1.0,\"#f0f921\"]],\"sequentialminus\":[[0.0,\"#0d0887\"],[0.1111111111111111,\"#46039f\"],[0.2222222222222222,\"#7201a8\"],[0.3333333333333333,\"#9c179e\"],[0.4444444444444444,\"#bd3786\"],[0.5555555555555556,\"#d8576b\"],[0.6666666666666666,\"#ed7953\"],[0.7777777777777778,\"#fb9f3a\"],[0.8888888888888888,\"#fdca26\"],[1.0,\"#f0f921\"]],\"diverging\":[[0,\"#8e0152\"],[0.1,\"#c51b7d\"],[0.2,\"#de77ae\"],[0.3,\"#f1b6da\"],[0.4,\"#fde0ef\"],[0.5,\"#f7f7f7\"],[0.6,\"#e6f5d0\"],[0.7,\"#b8e186\"],[0.8,\"#7fbc41\"],[0.9,\"#4d9221\"],[1,\"#276419\"]]},\"xaxis\":{\"gridcolor\":\"white\",\"linecolor\":\"white\",\"ticks\":\"\",\"title\":{\"standoff\":15},\"zerolinecolor\":\"white\",\"automargin\":true,\"zerolinewidth\":2},\"yaxis\":{\"gridcolor\":\"white\",\"linecolor\":\"white\",\"ticks\":\"\",\"title\":{\"standoff\":15},\"zerolinecolor\":\"white\",\"automargin\":true,\"zerolinewidth\":2},\"scene\":{\"xaxis\":{\"backgroundcolor\":\"#E5ECF6\",\"gridcolor\":\"white\",\"linecolor\":\"white\",\"showbackground\":true,\"ticks\":\"\",\"zerolinecolor\":\"white\",\"gridwidth\":2},\"yaxis\":{\"backgroundcolor\":\"#E5ECF6\",\"gridcolor\":\"white\",\"linecolor\":\"white\",\"showbackground\":true,\"ticks\":\"\",\"zerolinecolor\":\"white\",\"gridwidth\":2},\"zaxis\":{\"backgroundcolor\":\"#E5ECF6\",\"gridcolor\":\"white\",\"linecolor\":\"white\",\"showbackground\":true,\"ticks\":\"\",\"zerolinecolor\":\"white\",\"gridwidth\":2}},\"shapedefaults\":{\"line\":{\"color\":\"#2a3f5f\"}},\"annotationdefaults\":{\"arrowcolor\":\"#2a3f5f\",\"arrowhead\":0,\"arrowwidth\":1},\"geo\":{\"bgcolor\":\"white\",\"landcolor\":\"#E5ECF6\",\"subunitcolor\":\"white\",\"showland\":true,\"showlakes\":true,\"lakecolor\":\"white\"},\"title\":{\"x\":0.05},\"mapbox\":{\"style\":\"light\"}}},\"legend\":{\"tracegroupgap\":0},\"margin\":{\"t\":60},\"height\":400,\"width\":600},                        {\"responsive\": true}                    ).then(function(){\n",
              "                            \n",
              "var gd = document.getElementById('e98f1c55-de21-4ca8-8db5-6c830c6f29c5');\n",
              "var x = new MutationObserver(function (mutations, observer) {{\n",
              "        var display = window.getComputedStyle(gd).display;\n",
              "        if (!display || display === 'none') {{\n",
              "            console.log([gd, 'removed!']);\n",
              "            Plotly.purge(gd);\n",
              "            observer.disconnect();\n",
              "        }}\n",
              "}});\n",
              "\n",
              "// Listen for the removal of the full notebook cells\n",
              "var notebookContainer = gd.closest('#notebook-container');\n",
              "if (notebookContainer) {{\n",
              "    x.observe(notebookContainer, {childList: true});\n",
              "}}\n",
              "\n",
              "// Listen for the clearing of the current output cell\n",
              "var outputEl = gd.closest('.output');\n",
              "if (outputEl) {{\n",
              "    x.observe(outputEl, {childList: true});\n",
              "}}\n",
              "\n",
              "                        })                };                            </script>        </div>\n",
              "</body>\n",
              "</html>"
            ]
          },
          "metadata": {}
        }
      ],
      "source": [
        "px.pie(empty_data,names = list(empty_data['airline'].value_counts().index) ,values = list(empty_data['airline'].value_counts().values),width=600,height=400)"
      ]
    },
    {
      "cell_type": "markdown",
      "id": "a38a5db8",
      "metadata": {
        "papermill": {
          "duration": 0.025482,
          "end_time": "2022-08-10T12:10:09.265020",
          "exception": false,
          "start_time": "2022-08-10T12:10:09.239538",
          "status": "completed"
        },
        "tags": [],
        "id": "a38a5db8"
      },
      "source": [
        "out of 29 Routes that we have 66% of the routes have Air India as the most operated airline followed by vistara"
      ]
    },
    {
      "cell_type": "markdown",
      "id": "964ed23f",
      "metadata": {
        "papermill": {
          "duration": 0.024673,
          "end_time": "2022-08-10T12:10:09.314656",
          "exception": false,
          "start_time": "2022-08-10T12:10:09.289983",
          "status": "completed"
        },
        "tags": [],
        "id": "964ed23f"
      },
      "source": [
        "### Model Creation"
      ]
    },
    {
      "cell_type": "code",
      "execution_count": 41,
      "id": "44fb8496",
      "metadata": {
        "execution": {
          "iopub.execute_input": "2022-08-10T12:10:09.366302Z",
          "iopub.status.busy": "2022-08-10T12:10:09.365551Z",
          "iopub.status.idle": "2022-08-10T12:10:09.384065Z",
          "shell.execute_reply": "2022-08-10T12:10:09.382584Z"
        },
        "papermill": {
          "duration": 0.046925,
          "end_time": "2022-08-10T12:10:09.386407",
          "exception": false,
          "start_time": "2022-08-10T12:10:09.339482",
          "status": "completed"
        },
        "tags": [],
        "id": "44fb8496",
        "outputId": "c451d0c2-b1b2-40ae-aead-2efa4a2dd49d",
        "colab": {
          "base_uri": "https://localhost:8080/",
          "height": 206
        }
      },
      "outputs": [
        {
          "output_type": "execute_result",
          "data": {
            "text/plain": [
              "    airline   flight source_city departure_time stops   arrival_time  \\\n",
              "0  SpiceJet  SG-8709       Delhi        Evening  zero          Night   \n",
              "1  SpiceJet  SG-8157       Delhi  Early_Morning  zero        Morning   \n",
              "2   AirAsia   I5-764       Delhi  Early_Morning  zero  Early_Morning   \n",
              "3   Vistara   UK-995       Delhi        Morning  zero      Afternoon   \n",
              "4   Vistara   UK-963       Delhi        Morning  zero        Morning   \n",
              "\n",
              "  destination_city    class  duration  days_left  price  \n",
              "0           Mumbai  Economy      2.17          1   5953  \n",
              "1           Mumbai  Economy      2.33          1   5953  \n",
              "2           Mumbai  Economy      2.17          1   5956  \n",
              "3           Mumbai  Economy      2.25          1   5955  \n",
              "4           Mumbai  Economy      2.33          1   5955  "
            ],
            "text/html": [
              "\n",
              "\n",
              "  <div id=\"df-0d4c6088-27ff-4dc7-82e7-7e066702f6f0\">\n",
              "    <div class=\"colab-df-container\">\n",
              "      <div>\n",
              "<style scoped>\n",
              "    .dataframe tbody tr th:only-of-type {\n",
              "        vertical-align: middle;\n",
              "    }\n",
              "\n",
              "    .dataframe tbody tr th {\n",
              "        vertical-align: top;\n",
              "    }\n",
              "\n",
              "    .dataframe thead th {\n",
              "        text-align: right;\n",
              "    }\n",
              "</style>\n",
              "<table border=\"1\" class=\"dataframe\">\n",
              "  <thead>\n",
              "    <tr style=\"text-align: right;\">\n",
              "      <th></th>\n",
              "      <th>airline</th>\n",
              "      <th>flight</th>\n",
              "      <th>source_city</th>\n",
              "      <th>departure_time</th>\n",
              "      <th>stops</th>\n",
              "      <th>arrival_time</th>\n",
              "      <th>destination_city</th>\n",
              "      <th>class</th>\n",
              "      <th>duration</th>\n",
              "      <th>days_left</th>\n",
              "      <th>price</th>\n",
              "    </tr>\n",
              "  </thead>\n",
              "  <tbody>\n",
              "    <tr>\n",
              "      <th>0</th>\n",
              "      <td>SpiceJet</td>\n",
              "      <td>SG-8709</td>\n",
              "      <td>Delhi</td>\n",
              "      <td>Evening</td>\n",
              "      <td>zero</td>\n",
              "      <td>Night</td>\n",
              "      <td>Mumbai</td>\n",
              "      <td>Economy</td>\n",
              "      <td>2.17</td>\n",
              "      <td>1</td>\n",
              "      <td>5953</td>\n",
              "    </tr>\n",
              "    <tr>\n",
              "      <th>1</th>\n",
              "      <td>SpiceJet</td>\n",
              "      <td>SG-8157</td>\n",
              "      <td>Delhi</td>\n",
              "      <td>Early_Morning</td>\n",
              "      <td>zero</td>\n",
              "      <td>Morning</td>\n",
              "      <td>Mumbai</td>\n",
              "      <td>Economy</td>\n",
              "      <td>2.33</td>\n",
              "      <td>1</td>\n",
              "      <td>5953</td>\n",
              "    </tr>\n",
              "    <tr>\n",
              "      <th>2</th>\n",
              "      <td>AirAsia</td>\n",
              "      <td>I5-764</td>\n",
              "      <td>Delhi</td>\n",
              "      <td>Early_Morning</td>\n",
              "      <td>zero</td>\n",
              "      <td>Early_Morning</td>\n",
              "      <td>Mumbai</td>\n",
              "      <td>Economy</td>\n",
              "      <td>2.17</td>\n",
              "      <td>1</td>\n",
              "      <td>5956</td>\n",
              "    </tr>\n",
              "    <tr>\n",
              "      <th>3</th>\n",
              "      <td>Vistara</td>\n",
              "      <td>UK-995</td>\n",
              "      <td>Delhi</td>\n",
              "      <td>Morning</td>\n",
              "      <td>zero</td>\n",
              "      <td>Afternoon</td>\n",
              "      <td>Mumbai</td>\n",
              "      <td>Economy</td>\n",
              "      <td>2.25</td>\n",
              "      <td>1</td>\n",
              "      <td>5955</td>\n",
              "    </tr>\n",
              "    <tr>\n",
              "      <th>4</th>\n",
              "      <td>Vistara</td>\n",
              "      <td>UK-963</td>\n",
              "      <td>Delhi</td>\n",
              "      <td>Morning</td>\n",
              "      <td>zero</td>\n",
              "      <td>Morning</td>\n",
              "      <td>Mumbai</td>\n",
              "      <td>Economy</td>\n",
              "      <td>2.33</td>\n",
              "      <td>1</td>\n",
              "      <td>5955</td>\n",
              "    </tr>\n",
              "  </tbody>\n",
              "</table>\n",
              "</div>\n",
              "      <button class=\"colab-df-convert\" onclick=\"convertToInteractive('df-0d4c6088-27ff-4dc7-82e7-7e066702f6f0')\"\n",
              "              title=\"Convert this dataframe to an interactive table.\"\n",
              "              style=\"display:none;\">\n",
              "\n",
              "  <svg xmlns=\"http://www.w3.org/2000/svg\" height=\"24px\"viewBox=\"0 0 24 24\"\n",
              "       width=\"24px\">\n",
              "    <path d=\"M0 0h24v24H0V0z\" fill=\"none\"/>\n",
              "    <path d=\"M18.56 5.44l.94 2.06.94-2.06 2.06-.94-2.06-.94-.94-2.06-.94 2.06-2.06.94zm-11 1L8.5 8.5l.94-2.06 2.06-.94-2.06-.94L8.5 2.5l-.94 2.06-2.06.94zm10 10l.94 2.06.94-2.06 2.06-.94-2.06-.94-.94-2.06-.94 2.06-2.06.94z\"/><path d=\"M17.41 7.96l-1.37-1.37c-.4-.4-.92-.59-1.43-.59-.52 0-1.04.2-1.43.59L10.3 9.45l-7.72 7.72c-.78.78-.78 2.05 0 2.83L4 21.41c.39.39.9.59 1.41.59.51 0 1.02-.2 1.41-.59l7.78-7.78 2.81-2.81c.8-.78.8-2.07 0-2.86zM5.41 20L4 18.59l7.72-7.72 1.47 1.35L5.41 20z\"/>\n",
              "  </svg>\n",
              "      </button>\n",
              "\n",
              "\n",
              "\n",
              "    <div id=\"df-f5ac06ef-ce04-4901-85ce-982a8cf2e927\">\n",
              "      <button class=\"colab-df-quickchart\" onclick=\"quickchart('df-f5ac06ef-ce04-4901-85ce-982a8cf2e927')\"\n",
              "              title=\"Suggest charts.\"\n",
              "              style=\"display:none;\">\n",
              "\n",
              "<svg xmlns=\"http://www.w3.org/2000/svg\" height=\"24px\"viewBox=\"0 0 24 24\"\n",
              "     width=\"24px\">\n",
              "    <g>\n",
              "        <path d=\"M19 3H5c-1.1 0-2 .9-2 2v14c0 1.1.9 2 2 2h14c1.1 0 2-.9 2-2V5c0-1.1-.9-2-2-2zM9 17H7v-7h2v7zm4 0h-2V7h2v10zm4 0h-2v-4h2v4z\"/>\n",
              "    </g>\n",
              "</svg>\n",
              "      </button>\n",
              "    </div>\n",
              "\n",
              "<style>\n",
              "  .colab-df-quickchart {\n",
              "    background-color: #E8F0FE;\n",
              "    border: none;\n",
              "    border-radius: 50%;\n",
              "    cursor: pointer;\n",
              "    display: none;\n",
              "    fill: #1967D2;\n",
              "    height: 32px;\n",
              "    padding: 0 0 0 0;\n",
              "    width: 32px;\n",
              "  }\n",
              "\n",
              "  .colab-df-quickchart:hover {\n",
              "    background-color: #E2EBFA;\n",
              "    box-shadow: 0px 1px 2px rgba(60, 64, 67, 0.3), 0px 1px 3px 1px rgba(60, 64, 67, 0.15);\n",
              "    fill: #174EA6;\n",
              "  }\n",
              "\n",
              "  [theme=dark] .colab-df-quickchart {\n",
              "    background-color: #3B4455;\n",
              "    fill: #D2E3FC;\n",
              "  }\n",
              "\n",
              "  [theme=dark] .colab-df-quickchart:hover {\n",
              "    background-color: #434B5C;\n",
              "    box-shadow: 0px 1px 3px 1px rgba(0, 0, 0, 0.15);\n",
              "    filter: drop-shadow(0px 1px 2px rgba(0, 0, 0, 0.3));\n",
              "    fill: #FFFFFF;\n",
              "  }\n",
              "</style>\n",
              "\n",
              "    <script>\n",
              "      async function quickchart(key) {\n",
              "        const containerElement = document.querySelector('#' + key);\n",
              "        const charts = await google.colab.kernel.invokeFunction(\n",
              "            'suggestCharts', [key], {});\n",
              "      }\n",
              "    </script>\n",
              "\n",
              "      <script>\n",
              "\n",
              "function displayQuickchartButton(domScope) {\n",
              "  let quickchartButtonEl =\n",
              "    domScope.querySelector('#df-f5ac06ef-ce04-4901-85ce-982a8cf2e927 button.colab-df-quickchart');\n",
              "  quickchartButtonEl.style.display =\n",
              "    google.colab.kernel.accessAllowed ? 'block' : 'none';\n",
              "}\n",
              "\n",
              "        displayQuickchartButton(document);\n",
              "      </script>\n",
              "      <style>\n",
              "    .colab-df-container {\n",
              "      display:flex;\n",
              "      flex-wrap:wrap;\n",
              "      gap: 12px;\n",
              "    }\n",
              "\n",
              "    .colab-df-convert {\n",
              "      background-color: #E8F0FE;\n",
              "      border: none;\n",
              "      border-radius: 50%;\n",
              "      cursor: pointer;\n",
              "      display: none;\n",
              "      fill: #1967D2;\n",
              "      height: 32px;\n",
              "      padding: 0 0 0 0;\n",
              "      width: 32px;\n",
              "    }\n",
              "\n",
              "    .colab-df-convert:hover {\n",
              "      background-color: #E2EBFA;\n",
              "      box-shadow: 0px 1px 2px rgba(60, 64, 67, 0.3), 0px 1px 3px 1px rgba(60, 64, 67, 0.15);\n",
              "      fill: #174EA6;\n",
              "    }\n",
              "\n",
              "    [theme=dark] .colab-df-convert {\n",
              "      background-color: #3B4455;\n",
              "      fill: #D2E3FC;\n",
              "    }\n",
              "\n",
              "    [theme=dark] .colab-df-convert:hover {\n",
              "      background-color: #434B5C;\n",
              "      box-shadow: 0px 1px 3px 1px rgba(0, 0, 0, 0.15);\n",
              "      filter: drop-shadow(0px 1px 2px rgba(0, 0, 0, 0.3));\n",
              "      fill: #FFFFFF;\n",
              "    }\n",
              "  </style>\n",
              "\n",
              "      <script>\n",
              "        const buttonEl =\n",
              "          document.querySelector('#df-0d4c6088-27ff-4dc7-82e7-7e066702f6f0 button.colab-df-convert');\n",
              "        buttonEl.style.display =\n",
              "          google.colab.kernel.accessAllowed ? 'block' : 'none';\n",
              "\n",
              "        async function convertToInteractive(key) {\n",
              "          const element = document.querySelector('#df-0d4c6088-27ff-4dc7-82e7-7e066702f6f0');\n",
              "          const dataTable =\n",
              "            await google.colab.kernel.invokeFunction('convertToInteractive',\n",
              "                                                     [key], {});\n",
              "          if (!dataTable) return;\n",
              "\n",
              "          const docLinkHtml = 'Like what you see? Visit the ' +\n",
              "            '<a target=\"_blank\" href=https://colab.research.google.com/notebooks/data_table.ipynb>data table notebook</a>'\n",
              "            + ' to learn more about interactive tables.';\n",
              "          element.innerHTML = '';\n",
              "          dataTable['output_type'] = 'display_data';\n",
              "          await google.colab.output.renderOutput(dataTable, element);\n",
              "          const docLink = document.createElement('div');\n",
              "          docLink.innerHTML = docLinkHtml;\n",
              "          element.appendChild(docLink);\n",
              "        }\n",
              "      </script>\n",
              "    </div>\n",
              "  </div>\n"
            ]
          },
          "metadata": {},
          "execution_count": 41
        }
      ],
      "source": [
        "data.head()"
      ]
    },
    {
      "cell_type": "markdown",
      "id": "62088c82",
      "metadata": {
        "papermill": {
          "duration": 0.024495,
          "end_time": "2022-08-10T12:10:09.436012",
          "exception": false,
          "start_time": "2022-08-10T12:10:09.411517",
          "status": "completed"
        },
        "tags": [],
        "id": "62088c82"
      },
      "source": [
        "We will be using the following regression algorithims\n",
        "1. Linear regression\n",
        "2. KNN Regressor\n",
        "3. Gradient Boost Regressor\n",
        "4. XG Boost Regressor\n",
        "5. Decesion Tree Regressor\n",
        "6. SVM Regression"
      ]
    },
    {
      "cell_type": "code",
      "execution_count": 42,
      "id": "12b69a35",
      "metadata": {
        "execution": {
          "iopub.execute_input": "2022-08-10T12:10:09.488323Z",
          "iopub.status.busy": "2022-08-10T12:10:09.487947Z",
          "iopub.status.idle": "2022-08-10T12:10:09.492381Z",
          "shell.execute_reply": "2022-08-10T12:10:09.491222Z"
        },
        "papermill": {
          "duration": 0.033511,
          "end_time": "2022-08-10T12:10:09.494807",
          "exception": false,
          "start_time": "2022-08-10T12:10:09.461296",
          "status": "completed"
        },
        "tags": [],
        "id": "12b69a35"
      },
      "outputs": [],
      "source": [
        "#Lets encode the categorical data into numerical data"
      ]
    },
    {
      "cell_type": "code",
      "execution_count": 43,
      "id": "e1e3d7cd",
      "metadata": {
        "execution": {
          "iopub.execute_input": "2022-08-10T12:10:09.546522Z",
          "iopub.status.busy": "2022-08-10T12:10:09.546117Z",
          "iopub.status.idle": "2022-08-10T12:10:09.562828Z",
          "shell.execute_reply": "2022-08-10T12:10:09.561694Z"
        },
        "papermill": {
          "duration": 0.045506,
          "end_time": "2022-08-10T12:10:09.565448",
          "exception": false,
          "start_time": "2022-08-10T12:10:09.519942",
          "status": "completed"
        },
        "tags": [],
        "id": "e1e3d7cd"
      },
      "outputs": [],
      "source": [
        "final_data = data.copy()"
      ]
    },
    {
      "cell_type": "code",
      "execution_count": 44,
      "id": "5de5d6d8",
      "metadata": {
        "execution": {
          "iopub.execute_input": "2022-08-10T12:10:09.617725Z",
          "iopub.status.busy": "2022-08-10T12:10:09.617280Z",
          "iopub.status.idle": "2022-08-10T12:10:09.634652Z",
          "shell.execute_reply": "2022-08-10T12:10:09.633548Z"
        },
        "papermill": {
          "duration": 0.046384,
          "end_time": "2022-08-10T12:10:09.637215",
          "exception": false,
          "start_time": "2022-08-10T12:10:09.590831",
          "status": "completed"
        },
        "tags": [],
        "id": "5de5d6d8",
        "outputId": "cd4737d9-2b49-47ee-ba84-fd0dd259c15a",
        "colab": {
          "base_uri": "https://localhost:8080/",
          "height": 206
        }
      },
      "outputs": [
        {
          "output_type": "execute_result",
          "data": {
            "text/plain": [
              "    airline   flight source_city departure_time stops   arrival_time  \\\n",
              "0  SpiceJet  SG-8709       Delhi        Evening  zero          Night   \n",
              "1  SpiceJet  SG-8157       Delhi  Early_Morning  zero        Morning   \n",
              "2   AirAsia   I5-764       Delhi  Early_Morning  zero  Early_Morning   \n",
              "3   Vistara   UK-995       Delhi        Morning  zero      Afternoon   \n",
              "4   Vistara   UK-963       Delhi        Morning  zero        Morning   \n",
              "\n",
              "  destination_city    class  duration  days_left  price  \n",
              "0           Mumbai  Economy      2.17          1   5953  \n",
              "1           Mumbai  Economy      2.33          1   5953  \n",
              "2           Mumbai  Economy      2.17          1   5956  \n",
              "3           Mumbai  Economy      2.25          1   5955  \n",
              "4           Mumbai  Economy      2.33          1   5955  "
            ],
            "text/html": [
              "\n",
              "\n",
              "  <div id=\"df-35c507cb-0bcf-42f1-ae85-3e9634b8317d\">\n",
              "    <div class=\"colab-df-container\">\n",
              "      <div>\n",
              "<style scoped>\n",
              "    .dataframe tbody tr th:only-of-type {\n",
              "        vertical-align: middle;\n",
              "    }\n",
              "\n",
              "    .dataframe tbody tr th {\n",
              "        vertical-align: top;\n",
              "    }\n",
              "\n",
              "    .dataframe thead th {\n",
              "        text-align: right;\n",
              "    }\n",
              "</style>\n",
              "<table border=\"1\" class=\"dataframe\">\n",
              "  <thead>\n",
              "    <tr style=\"text-align: right;\">\n",
              "      <th></th>\n",
              "      <th>airline</th>\n",
              "      <th>flight</th>\n",
              "      <th>source_city</th>\n",
              "      <th>departure_time</th>\n",
              "      <th>stops</th>\n",
              "      <th>arrival_time</th>\n",
              "      <th>destination_city</th>\n",
              "      <th>class</th>\n",
              "      <th>duration</th>\n",
              "      <th>days_left</th>\n",
              "      <th>price</th>\n",
              "    </tr>\n",
              "  </thead>\n",
              "  <tbody>\n",
              "    <tr>\n",
              "      <th>0</th>\n",
              "      <td>SpiceJet</td>\n",
              "      <td>SG-8709</td>\n",
              "      <td>Delhi</td>\n",
              "      <td>Evening</td>\n",
              "      <td>zero</td>\n",
              "      <td>Night</td>\n",
              "      <td>Mumbai</td>\n",
              "      <td>Economy</td>\n",
              "      <td>2.17</td>\n",
              "      <td>1</td>\n",
              "      <td>5953</td>\n",
              "    </tr>\n",
              "    <tr>\n",
              "      <th>1</th>\n",
              "      <td>SpiceJet</td>\n",
              "      <td>SG-8157</td>\n",
              "      <td>Delhi</td>\n",
              "      <td>Early_Morning</td>\n",
              "      <td>zero</td>\n",
              "      <td>Morning</td>\n",
              "      <td>Mumbai</td>\n",
              "      <td>Economy</td>\n",
              "      <td>2.33</td>\n",
              "      <td>1</td>\n",
              "      <td>5953</td>\n",
              "    </tr>\n",
              "    <tr>\n",
              "      <th>2</th>\n",
              "      <td>AirAsia</td>\n",
              "      <td>I5-764</td>\n",
              "      <td>Delhi</td>\n",
              "      <td>Early_Morning</td>\n",
              "      <td>zero</td>\n",
              "      <td>Early_Morning</td>\n",
              "      <td>Mumbai</td>\n",
              "      <td>Economy</td>\n",
              "      <td>2.17</td>\n",
              "      <td>1</td>\n",
              "      <td>5956</td>\n",
              "    </tr>\n",
              "    <tr>\n",
              "      <th>3</th>\n",
              "      <td>Vistara</td>\n",
              "      <td>UK-995</td>\n",
              "      <td>Delhi</td>\n",
              "      <td>Morning</td>\n",
              "      <td>zero</td>\n",
              "      <td>Afternoon</td>\n",
              "      <td>Mumbai</td>\n",
              "      <td>Economy</td>\n",
              "      <td>2.25</td>\n",
              "      <td>1</td>\n",
              "      <td>5955</td>\n",
              "    </tr>\n",
              "    <tr>\n",
              "      <th>4</th>\n",
              "      <td>Vistara</td>\n",
              "      <td>UK-963</td>\n",
              "      <td>Delhi</td>\n",
              "      <td>Morning</td>\n",
              "      <td>zero</td>\n",
              "      <td>Morning</td>\n",
              "      <td>Mumbai</td>\n",
              "      <td>Economy</td>\n",
              "      <td>2.33</td>\n",
              "      <td>1</td>\n",
              "      <td>5955</td>\n",
              "    </tr>\n",
              "  </tbody>\n",
              "</table>\n",
              "</div>\n",
              "      <button class=\"colab-df-convert\" onclick=\"convertToInteractive('df-35c507cb-0bcf-42f1-ae85-3e9634b8317d')\"\n",
              "              title=\"Convert this dataframe to an interactive table.\"\n",
              "              style=\"display:none;\">\n",
              "\n",
              "  <svg xmlns=\"http://www.w3.org/2000/svg\" height=\"24px\"viewBox=\"0 0 24 24\"\n",
              "       width=\"24px\">\n",
              "    <path d=\"M0 0h24v24H0V0z\" fill=\"none\"/>\n",
              "    <path d=\"M18.56 5.44l.94 2.06.94-2.06 2.06-.94-2.06-.94-.94-2.06-.94 2.06-2.06.94zm-11 1L8.5 8.5l.94-2.06 2.06-.94-2.06-.94L8.5 2.5l-.94 2.06-2.06.94zm10 10l.94 2.06.94-2.06 2.06-.94-2.06-.94-.94-2.06-.94 2.06-2.06.94z\"/><path d=\"M17.41 7.96l-1.37-1.37c-.4-.4-.92-.59-1.43-.59-.52 0-1.04.2-1.43.59L10.3 9.45l-7.72 7.72c-.78.78-.78 2.05 0 2.83L4 21.41c.39.39.9.59 1.41.59.51 0 1.02-.2 1.41-.59l7.78-7.78 2.81-2.81c.8-.78.8-2.07 0-2.86zM5.41 20L4 18.59l7.72-7.72 1.47 1.35L5.41 20z\"/>\n",
              "  </svg>\n",
              "      </button>\n",
              "\n",
              "\n",
              "\n",
              "    <div id=\"df-893a9f01-e6d1-4a1e-a874-2967a5cecca7\">\n",
              "      <button class=\"colab-df-quickchart\" onclick=\"quickchart('df-893a9f01-e6d1-4a1e-a874-2967a5cecca7')\"\n",
              "              title=\"Suggest charts.\"\n",
              "              style=\"display:none;\">\n",
              "\n",
              "<svg xmlns=\"http://www.w3.org/2000/svg\" height=\"24px\"viewBox=\"0 0 24 24\"\n",
              "     width=\"24px\">\n",
              "    <g>\n",
              "        <path d=\"M19 3H5c-1.1 0-2 .9-2 2v14c0 1.1.9 2 2 2h14c1.1 0 2-.9 2-2V5c0-1.1-.9-2-2-2zM9 17H7v-7h2v7zm4 0h-2V7h2v10zm4 0h-2v-4h2v4z\"/>\n",
              "    </g>\n",
              "</svg>\n",
              "      </button>\n",
              "    </div>\n",
              "\n",
              "<style>\n",
              "  .colab-df-quickchart {\n",
              "    background-color: #E8F0FE;\n",
              "    border: none;\n",
              "    border-radius: 50%;\n",
              "    cursor: pointer;\n",
              "    display: none;\n",
              "    fill: #1967D2;\n",
              "    height: 32px;\n",
              "    padding: 0 0 0 0;\n",
              "    width: 32px;\n",
              "  }\n",
              "\n",
              "  .colab-df-quickchart:hover {\n",
              "    background-color: #E2EBFA;\n",
              "    box-shadow: 0px 1px 2px rgba(60, 64, 67, 0.3), 0px 1px 3px 1px rgba(60, 64, 67, 0.15);\n",
              "    fill: #174EA6;\n",
              "  }\n",
              "\n",
              "  [theme=dark] .colab-df-quickchart {\n",
              "    background-color: #3B4455;\n",
              "    fill: #D2E3FC;\n",
              "  }\n",
              "\n",
              "  [theme=dark] .colab-df-quickchart:hover {\n",
              "    background-color: #434B5C;\n",
              "    box-shadow: 0px 1px 3px 1px rgba(0, 0, 0, 0.15);\n",
              "    filter: drop-shadow(0px 1px 2px rgba(0, 0, 0, 0.3));\n",
              "    fill: #FFFFFF;\n",
              "  }\n",
              "</style>\n",
              "\n",
              "    <script>\n",
              "      async function quickchart(key) {\n",
              "        const containerElement = document.querySelector('#' + key);\n",
              "        const charts = await google.colab.kernel.invokeFunction(\n",
              "            'suggestCharts', [key], {});\n",
              "      }\n",
              "    </script>\n",
              "\n",
              "      <script>\n",
              "\n",
              "function displayQuickchartButton(domScope) {\n",
              "  let quickchartButtonEl =\n",
              "    domScope.querySelector('#df-893a9f01-e6d1-4a1e-a874-2967a5cecca7 button.colab-df-quickchart');\n",
              "  quickchartButtonEl.style.display =\n",
              "    google.colab.kernel.accessAllowed ? 'block' : 'none';\n",
              "}\n",
              "\n",
              "        displayQuickchartButton(document);\n",
              "      </script>\n",
              "      <style>\n",
              "    .colab-df-container {\n",
              "      display:flex;\n",
              "      flex-wrap:wrap;\n",
              "      gap: 12px;\n",
              "    }\n",
              "\n",
              "    .colab-df-convert {\n",
              "      background-color: #E8F0FE;\n",
              "      border: none;\n",
              "      border-radius: 50%;\n",
              "      cursor: pointer;\n",
              "      display: none;\n",
              "      fill: #1967D2;\n",
              "      height: 32px;\n",
              "      padding: 0 0 0 0;\n",
              "      width: 32px;\n",
              "    }\n",
              "\n",
              "    .colab-df-convert:hover {\n",
              "      background-color: #E2EBFA;\n",
              "      box-shadow: 0px 1px 2px rgba(60, 64, 67, 0.3), 0px 1px 3px 1px rgba(60, 64, 67, 0.15);\n",
              "      fill: #174EA6;\n",
              "    }\n",
              "\n",
              "    [theme=dark] .colab-df-convert {\n",
              "      background-color: #3B4455;\n",
              "      fill: #D2E3FC;\n",
              "    }\n",
              "\n",
              "    [theme=dark] .colab-df-convert:hover {\n",
              "      background-color: #434B5C;\n",
              "      box-shadow: 0px 1px 3px 1px rgba(0, 0, 0, 0.15);\n",
              "      filter: drop-shadow(0px 1px 2px rgba(0, 0, 0, 0.3));\n",
              "      fill: #FFFFFF;\n",
              "    }\n",
              "  </style>\n",
              "\n",
              "      <script>\n",
              "        const buttonEl =\n",
              "          document.querySelector('#df-35c507cb-0bcf-42f1-ae85-3e9634b8317d button.colab-df-convert');\n",
              "        buttonEl.style.display =\n",
              "          google.colab.kernel.accessAllowed ? 'block' : 'none';\n",
              "\n",
              "        async function convertToInteractive(key) {\n",
              "          const element = document.querySelector('#df-35c507cb-0bcf-42f1-ae85-3e9634b8317d');\n",
              "          const dataTable =\n",
              "            await google.colab.kernel.invokeFunction('convertToInteractive',\n",
              "                                                     [key], {});\n",
              "          if (!dataTable) return;\n",
              "\n",
              "          const docLinkHtml = 'Like what you see? Visit the ' +\n",
              "            '<a target=\"_blank\" href=https://colab.research.google.com/notebooks/data_table.ipynb>data table notebook</a>'\n",
              "            + ' to learn more about interactive tables.';\n",
              "          element.innerHTML = '';\n",
              "          dataTable['output_type'] = 'display_data';\n",
              "          await google.colab.output.renderOutput(dataTable, element);\n",
              "          const docLink = document.createElement('div');\n",
              "          docLink.innerHTML = docLinkHtml;\n",
              "          element.appendChild(docLink);\n",
              "        }\n",
              "      </script>\n",
              "    </div>\n",
              "  </div>\n"
            ]
          },
          "metadata": {},
          "execution_count": 44
        }
      ],
      "source": [
        "final_data.head()"
      ]
    },
    {
      "cell_type": "code",
      "execution_count": 45,
      "id": "6813f9d6",
      "metadata": {
        "execution": {
          "iopub.execute_input": "2022-08-10T12:10:09.689948Z",
          "iopub.status.busy": "2022-08-10T12:10:09.689512Z",
          "iopub.status.idle": "2022-08-10T12:10:09.849536Z",
          "shell.execute_reply": "2022-08-10T12:10:09.847936Z"
        },
        "papermill": {
          "duration": 0.189552,
          "end_time": "2022-08-10T12:10:09.852411",
          "exception": false,
          "start_time": "2022-08-10T12:10:09.662859",
          "status": "completed"
        },
        "tags": [],
        "id": "6813f9d6"
      },
      "outputs": [],
      "source": [
        "from sklearn.preprocessing import LabelEncoder\n",
        "encoder = LabelEncoder()"
      ]
    },
    {
      "cell_type": "code",
      "execution_count": 46,
      "id": "a17841eb",
      "metadata": {
        "execution": {
          "iopub.execute_input": "2022-08-10T12:10:09.905981Z",
          "iopub.status.busy": "2022-08-10T12:10:09.905561Z",
          "iopub.status.idle": "2022-08-10T12:10:09.976870Z",
          "shell.execute_reply": "2022-08-10T12:10:09.975663Z"
        },
        "papermill": {
          "duration": 0.101529,
          "end_time": "2022-08-10T12:10:09.979698",
          "exception": false,
          "start_time": "2022-08-10T12:10:09.878169",
          "status": "completed"
        },
        "tags": [],
        "id": "a17841eb"
      },
      "outputs": [],
      "source": [
        "from sklearn.model_selection import train_test_split"
      ]
    },
    {
      "cell_type": "code",
      "execution_count": 47,
      "id": "4d55881e",
      "metadata": {
        "execution": {
          "iopub.execute_input": "2022-08-10T12:10:10.034012Z",
          "iopub.status.busy": "2022-08-10T12:10:10.033585Z",
          "iopub.status.idle": "2022-08-10T12:10:10.720447Z",
          "shell.execute_reply": "2022-08-10T12:10:10.719173Z"
        },
        "papermill": {
          "duration": 0.716828,
          "end_time": "2022-08-10T12:10:10.723192",
          "exception": false,
          "start_time": "2022-08-10T12:10:10.006364",
          "status": "completed"
        },
        "tags": [],
        "id": "4d55881e"
      },
      "outputs": [],
      "source": [
        "for i in final_data.select_dtypes('object').columns:\n",
        "    encoder = LabelEncoder()\n",
        "    final_data[i] = encoder.fit_transform(data[i])"
      ]
    },
    {
      "cell_type": "code",
      "execution_count": 48,
      "id": "11fca803",
      "metadata": {
        "execution": {
          "iopub.execute_input": "2022-08-10T12:10:10.777050Z",
          "iopub.status.busy": "2022-08-10T12:10:10.776581Z",
          "iopub.status.idle": "2022-08-10T12:10:10.811185Z",
          "shell.execute_reply": "2022-08-10T12:10:10.809836Z"
        },
        "papermill": {
          "duration": 0.064732,
          "end_time": "2022-08-10T12:10:10.813921",
          "exception": false,
          "start_time": "2022-08-10T12:10:10.749189",
          "status": "completed"
        },
        "tags": [],
        "id": "11fca803"
      },
      "outputs": [],
      "source": [
        "final_data.drop('flight',axis=1,inplace=True)"
      ]
    },
    {
      "cell_type": "code",
      "execution_count": 91,
      "id": "2e8c94e2",
      "metadata": {
        "execution": {
          "iopub.execute_input": "2022-08-10T12:10:10.869182Z",
          "iopub.status.busy": "2022-08-10T12:10:10.867688Z",
          "iopub.status.idle": "2022-08-10T12:10:10.888289Z",
          "shell.execute_reply": "2022-08-10T12:10:10.887013Z"
        },
        "papermill": {
          "duration": 0.050769,
          "end_time": "2022-08-10T12:10:10.890995",
          "exception": false,
          "start_time": "2022-08-10T12:10:10.840226",
          "status": "completed"
        },
        "tags": [],
        "id": "2e8c94e2",
        "outputId": "5439f91b-cc0d-42ec-cf0d-d29dd1bfe680",
        "colab": {
          "base_uri": "https://localhost:8080/",
          "height": 423
        }
      },
      "outputs": [
        {
          "output_type": "execute_result",
          "data": {
            "text/plain": [
              "        airline  source_city  departure_time  stops  arrival_time  \\\n",
              "0             4            2               2      2             5   \n",
              "1             4            2               1      2             4   \n",
              "2             0            2               1      2             1   \n",
              "3             5            2               4      2             0   \n",
              "4             5            2               4      2             4   \n",
              "...         ...          ...             ...    ...           ...   \n",
              "300148        5            1               4      0             2   \n",
              "300149        5            1               0      0             5   \n",
              "300150        5            1               1      0             5   \n",
              "300151        5            1               1      0             2   \n",
              "300152        5            1               4      0             2   \n",
              "\n",
              "        destination_city  class  duration  days_left  price  \n",
              "0                      5      1      2.17          1   5953  \n",
              "1                      5      1      2.33          1   5953  \n",
              "2                      5      1      2.17          1   5956  \n",
              "3                      5      1      2.25          1   5955  \n",
              "4                      5      1      2.33          1   5955  \n",
              "...                  ...    ...       ...        ...    ...  \n",
              "300148                 3      0     10.08         49  69265  \n",
              "300149                 3      0     10.42         49  77105  \n",
              "300150                 3      0     13.83         49  79099  \n",
              "300151                 3      0     10.00         49  81585  \n",
              "300152                 3      0     10.08         49  81585  \n",
              "\n",
              "[300153 rows x 10 columns]"
            ],
            "text/html": [
              "\n",
              "\n",
              "  <div id=\"df-f28d90bc-9238-479d-ba55-142a0b0f7f43\">\n",
              "    <div class=\"colab-df-container\">\n",
              "      <div>\n",
              "<style scoped>\n",
              "    .dataframe tbody tr th:only-of-type {\n",
              "        vertical-align: middle;\n",
              "    }\n",
              "\n",
              "    .dataframe tbody tr th {\n",
              "        vertical-align: top;\n",
              "    }\n",
              "\n",
              "    .dataframe thead th {\n",
              "        text-align: right;\n",
              "    }\n",
              "</style>\n",
              "<table border=\"1\" class=\"dataframe\">\n",
              "  <thead>\n",
              "    <tr style=\"text-align: right;\">\n",
              "      <th></th>\n",
              "      <th>airline</th>\n",
              "      <th>source_city</th>\n",
              "      <th>departure_time</th>\n",
              "      <th>stops</th>\n",
              "      <th>arrival_time</th>\n",
              "      <th>destination_city</th>\n",
              "      <th>class</th>\n",
              "      <th>duration</th>\n",
              "      <th>days_left</th>\n",
              "      <th>price</th>\n",
              "    </tr>\n",
              "  </thead>\n",
              "  <tbody>\n",
              "    <tr>\n",
              "      <th>0</th>\n",
              "      <td>4</td>\n",
              "      <td>2</td>\n",
              "      <td>2</td>\n",
              "      <td>2</td>\n",
              "      <td>5</td>\n",
              "      <td>5</td>\n",
              "      <td>1</td>\n",
              "      <td>2.17</td>\n",
              "      <td>1</td>\n",
              "      <td>5953</td>\n",
              "    </tr>\n",
              "    <tr>\n",
              "      <th>1</th>\n",
              "      <td>4</td>\n",
              "      <td>2</td>\n",
              "      <td>1</td>\n",
              "      <td>2</td>\n",
              "      <td>4</td>\n",
              "      <td>5</td>\n",
              "      <td>1</td>\n",
              "      <td>2.33</td>\n",
              "      <td>1</td>\n",
              "      <td>5953</td>\n",
              "    </tr>\n",
              "    <tr>\n",
              "      <th>2</th>\n",
              "      <td>0</td>\n",
              "      <td>2</td>\n",
              "      <td>1</td>\n",
              "      <td>2</td>\n",
              "      <td>1</td>\n",
              "      <td>5</td>\n",
              "      <td>1</td>\n",
              "      <td>2.17</td>\n",
              "      <td>1</td>\n",
              "      <td>5956</td>\n",
              "    </tr>\n",
              "    <tr>\n",
              "      <th>3</th>\n",
              "      <td>5</td>\n",
              "      <td>2</td>\n",
              "      <td>4</td>\n",
              "      <td>2</td>\n",
              "      <td>0</td>\n",
              "      <td>5</td>\n",
              "      <td>1</td>\n",
              "      <td>2.25</td>\n",
              "      <td>1</td>\n",
              "      <td>5955</td>\n",
              "    </tr>\n",
              "    <tr>\n",
              "      <th>4</th>\n",
              "      <td>5</td>\n",
              "      <td>2</td>\n",
              "      <td>4</td>\n",
              "      <td>2</td>\n",
              "      <td>4</td>\n",
              "      <td>5</td>\n",
              "      <td>1</td>\n",
              "      <td>2.33</td>\n",
              "      <td>1</td>\n",
              "      <td>5955</td>\n",
              "    </tr>\n",
              "    <tr>\n",
              "      <th>...</th>\n",
              "      <td>...</td>\n",
              "      <td>...</td>\n",
              "      <td>...</td>\n",
              "      <td>...</td>\n",
              "      <td>...</td>\n",
              "      <td>...</td>\n",
              "      <td>...</td>\n",
              "      <td>...</td>\n",
              "      <td>...</td>\n",
              "      <td>...</td>\n",
              "    </tr>\n",
              "    <tr>\n",
              "      <th>300148</th>\n",
              "      <td>5</td>\n",
              "      <td>1</td>\n",
              "      <td>4</td>\n",
              "      <td>0</td>\n",
              "      <td>2</td>\n",
              "      <td>3</td>\n",
              "      <td>0</td>\n",
              "      <td>10.08</td>\n",
              "      <td>49</td>\n",
              "      <td>69265</td>\n",
              "    </tr>\n",
              "    <tr>\n",
              "      <th>300149</th>\n",
              "      <td>5</td>\n",
              "      <td>1</td>\n",
              "      <td>0</td>\n",
              "      <td>0</td>\n",
              "      <td>5</td>\n",
              "      <td>3</td>\n",
              "      <td>0</td>\n",
              "      <td>10.42</td>\n",
              "      <td>49</td>\n",
              "      <td>77105</td>\n",
              "    </tr>\n",
              "    <tr>\n",
              "      <th>300150</th>\n",
              "      <td>5</td>\n",
              "      <td>1</td>\n",
              "      <td>1</td>\n",
              "      <td>0</td>\n",
              "      <td>5</td>\n",
              "      <td>3</td>\n",
              "      <td>0</td>\n",
              "      <td>13.83</td>\n",
              "      <td>49</td>\n",
              "      <td>79099</td>\n",
              "    </tr>\n",
              "    <tr>\n",
              "      <th>300151</th>\n",
              "      <td>5</td>\n",
              "      <td>1</td>\n",
              "      <td>1</td>\n",
              "      <td>0</td>\n",
              "      <td>2</td>\n",
              "      <td>3</td>\n",
              "      <td>0</td>\n",
              "      <td>10.00</td>\n",
              "      <td>49</td>\n",
              "      <td>81585</td>\n",
              "    </tr>\n",
              "    <tr>\n",
              "      <th>300152</th>\n",
              "      <td>5</td>\n",
              "      <td>1</td>\n",
              "      <td>4</td>\n",
              "      <td>0</td>\n",
              "      <td>2</td>\n",
              "      <td>3</td>\n",
              "      <td>0</td>\n",
              "      <td>10.08</td>\n",
              "      <td>49</td>\n",
              "      <td>81585</td>\n",
              "    </tr>\n",
              "  </tbody>\n",
              "</table>\n",
              "<p>300153 rows × 10 columns</p>\n",
              "</div>\n",
              "      <button class=\"colab-df-convert\" onclick=\"convertToInteractive('df-f28d90bc-9238-479d-ba55-142a0b0f7f43')\"\n",
              "              title=\"Convert this dataframe to an interactive table.\"\n",
              "              style=\"display:none;\">\n",
              "\n",
              "  <svg xmlns=\"http://www.w3.org/2000/svg\" height=\"24px\"viewBox=\"0 0 24 24\"\n",
              "       width=\"24px\">\n",
              "    <path d=\"M0 0h24v24H0V0z\" fill=\"none\"/>\n",
              "    <path d=\"M18.56 5.44l.94 2.06.94-2.06 2.06-.94-2.06-.94-.94-2.06-.94 2.06-2.06.94zm-11 1L8.5 8.5l.94-2.06 2.06-.94-2.06-.94L8.5 2.5l-.94 2.06-2.06.94zm10 10l.94 2.06.94-2.06 2.06-.94-2.06-.94-.94-2.06-.94 2.06-2.06.94z\"/><path d=\"M17.41 7.96l-1.37-1.37c-.4-.4-.92-.59-1.43-.59-.52 0-1.04.2-1.43.59L10.3 9.45l-7.72 7.72c-.78.78-.78 2.05 0 2.83L4 21.41c.39.39.9.59 1.41.59.51 0 1.02-.2 1.41-.59l7.78-7.78 2.81-2.81c.8-.78.8-2.07 0-2.86zM5.41 20L4 18.59l7.72-7.72 1.47 1.35L5.41 20z\"/>\n",
              "  </svg>\n",
              "      </button>\n",
              "\n",
              "\n",
              "\n",
              "    <div id=\"df-ea1fc4dd-0941-4911-8130-cee93e87a0fb\">\n",
              "      <button class=\"colab-df-quickchart\" onclick=\"quickchart('df-ea1fc4dd-0941-4911-8130-cee93e87a0fb')\"\n",
              "              title=\"Suggest charts.\"\n",
              "              style=\"display:none;\">\n",
              "\n",
              "<svg xmlns=\"http://www.w3.org/2000/svg\" height=\"24px\"viewBox=\"0 0 24 24\"\n",
              "     width=\"24px\">\n",
              "    <g>\n",
              "        <path d=\"M19 3H5c-1.1 0-2 .9-2 2v14c0 1.1.9 2 2 2h14c1.1 0 2-.9 2-2V5c0-1.1-.9-2-2-2zM9 17H7v-7h2v7zm4 0h-2V7h2v10zm4 0h-2v-4h2v4z\"/>\n",
              "    </g>\n",
              "</svg>\n",
              "      </button>\n",
              "    </div>\n",
              "\n",
              "<style>\n",
              "  .colab-df-quickchart {\n",
              "    background-color: #E8F0FE;\n",
              "    border: none;\n",
              "    border-radius: 50%;\n",
              "    cursor: pointer;\n",
              "    display: none;\n",
              "    fill: #1967D2;\n",
              "    height: 32px;\n",
              "    padding: 0 0 0 0;\n",
              "    width: 32px;\n",
              "  }\n",
              "\n",
              "  .colab-df-quickchart:hover {\n",
              "    background-color: #E2EBFA;\n",
              "    box-shadow: 0px 1px 2px rgba(60, 64, 67, 0.3), 0px 1px 3px 1px rgba(60, 64, 67, 0.15);\n",
              "    fill: #174EA6;\n",
              "  }\n",
              "\n",
              "  [theme=dark] .colab-df-quickchart {\n",
              "    background-color: #3B4455;\n",
              "    fill: #D2E3FC;\n",
              "  }\n",
              "\n",
              "  [theme=dark] .colab-df-quickchart:hover {\n",
              "    background-color: #434B5C;\n",
              "    box-shadow: 0px 1px 3px 1px rgba(0, 0, 0, 0.15);\n",
              "    filter: drop-shadow(0px 1px 2px rgba(0, 0, 0, 0.3));\n",
              "    fill: #FFFFFF;\n",
              "  }\n",
              "</style>\n",
              "\n",
              "    <script>\n",
              "      async function quickchart(key) {\n",
              "        const containerElement = document.querySelector('#' + key);\n",
              "        const charts = await google.colab.kernel.invokeFunction(\n",
              "            'suggestCharts', [key], {});\n",
              "      }\n",
              "    </script>\n",
              "\n",
              "      <script>\n",
              "\n",
              "function displayQuickchartButton(domScope) {\n",
              "  let quickchartButtonEl =\n",
              "    domScope.querySelector('#df-ea1fc4dd-0941-4911-8130-cee93e87a0fb button.colab-df-quickchart');\n",
              "  quickchartButtonEl.style.display =\n",
              "    google.colab.kernel.accessAllowed ? 'block' : 'none';\n",
              "}\n",
              "\n",
              "        displayQuickchartButton(document);\n",
              "      </script>\n",
              "      <style>\n",
              "    .colab-df-container {\n",
              "      display:flex;\n",
              "      flex-wrap:wrap;\n",
              "      gap: 12px;\n",
              "    }\n",
              "\n",
              "    .colab-df-convert {\n",
              "      background-color: #E8F0FE;\n",
              "      border: none;\n",
              "      border-radius: 50%;\n",
              "      cursor: pointer;\n",
              "      display: none;\n",
              "      fill: #1967D2;\n",
              "      height: 32px;\n",
              "      padding: 0 0 0 0;\n",
              "      width: 32px;\n",
              "    }\n",
              "\n",
              "    .colab-df-convert:hover {\n",
              "      background-color: #E2EBFA;\n",
              "      box-shadow: 0px 1px 2px rgba(60, 64, 67, 0.3), 0px 1px 3px 1px rgba(60, 64, 67, 0.15);\n",
              "      fill: #174EA6;\n",
              "    }\n",
              "\n",
              "    [theme=dark] .colab-df-convert {\n",
              "      background-color: #3B4455;\n",
              "      fill: #D2E3FC;\n",
              "    }\n",
              "\n",
              "    [theme=dark] .colab-df-convert:hover {\n",
              "      background-color: #434B5C;\n",
              "      box-shadow: 0px 1px 3px 1px rgba(0, 0, 0, 0.15);\n",
              "      filter: drop-shadow(0px 1px 2px rgba(0, 0, 0, 0.3));\n",
              "      fill: #FFFFFF;\n",
              "    }\n",
              "  </style>\n",
              "\n",
              "      <script>\n",
              "        const buttonEl =\n",
              "          document.querySelector('#df-f28d90bc-9238-479d-ba55-142a0b0f7f43 button.colab-df-convert');\n",
              "        buttonEl.style.display =\n",
              "          google.colab.kernel.accessAllowed ? 'block' : 'none';\n",
              "\n",
              "        async function convertToInteractive(key) {\n",
              "          const element = document.querySelector('#df-f28d90bc-9238-479d-ba55-142a0b0f7f43');\n",
              "          const dataTable =\n",
              "            await google.colab.kernel.invokeFunction('convertToInteractive',\n",
              "                                                     [key], {});\n",
              "          if (!dataTable) return;\n",
              "\n",
              "          const docLinkHtml = 'Like what you see? Visit the ' +\n",
              "            '<a target=\"_blank\" href=https://colab.research.google.com/notebooks/data_table.ipynb>data table notebook</a>'\n",
              "            + ' to learn more about interactive tables.';\n",
              "          element.innerHTML = '';\n",
              "          dataTable['output_type'] = 'display_data';\n",
              "          await google.colab.output.renderOutput(dataTable, element);\n",
              "          const docLink = document.createElement('div');\n",
              "          docLink.innerHTML = docLinkHtml;\n",
              "          element.appendChild(docLink);\n",
              "        }\n",
              "      </script>\n",
              "    </div>\n",
              "  </div>\n"
            ]
          },
          "metadata": {},
          "execution_count": 91
        }
      ],
      "source": [
        "final_data"
      ]
    },
    {
      "cell_type": "code",
      "execution_count": 92,
      "id": "36ba31a5",
      "metadata": {
        "execution": {
          "iopub.execute_input": "2022-08-10T12:10:10.947155Z",
          "iopub.status.busy": "2022-08-10T12:10:10.946129Z",
          "iopub.status.idle": "2022-08-10T12:10:11.027346Z",
          "shell.execute_reply": "2022-08-10T12:10:11.026124Z"
        },
        "papermill": {
          "duration": 0.111932,
          "end_time": "2022-08-10T12:10:11.030251",
          "exception": false,
          "start_time": "2022-08-10T12:10:10.918319",
          "status": "completed"
        },
        "tags": [],
        "id": "36ba31a5"
      },
      "outputs": [],
      "source": [
        "#train_test_split\n",
        "X_train, X_test, y_train, y_test = train_test_split(final_data.drop('price',axis=1),final_data['price'], test_size=0.33, random_state=42)"
      ]
    },
    {
      "cell_type": "code",
      "execution_count": 93,
      "id": "6857f861",
      "metadata": {
        "execution": {
          "iopub.execute_input": "2022-08-10T12:10:11.084211Z",
          "iopub.status.busy": "2022-08-10T12:10:11.083806Z",
          "iopub.status.idle": "2022-08-10T12:10:11.485547Z",
          "shell.execute_reply": "2022-08-10T12:10:11.484324Z"
        },
        "papermill": {
          "duration": 0.432342,
          "end_time": "2022-08-10T12:10:11.488682",
          "exception": false,
          "start_time": "2022-08-10T12:10:11.056340",
          "status": "completed"
        },
        "tags": [],
        "id": "6857f861"
      },
      "outputs": [],
      "source": [
        "#importing all the models\n",
        "\n",
        "from sklearn.linear_model import LinearRegression\n",
        "from sklearn.neighbors import KNeighborsRegressor\n",
        "from sklearn.ensemble import RandomForestRegressor\n",
        "from sklearn.ensemble import GradientBoostingRegressor\n",
        "import xgboost as xgb"
      ]
    },
    {
      "cell_type": "markdown",
      "id": "919c496d",
      "metadata": {
        "papermill": {
          "duration": 0.026312,
          "end_time": "2022-08-10T12:10:11.541671",
          "exception": false,
          "start_time": "2022-08-10T12:10:11.515359",
          "status": "completed"
        },
        "tags": [],
        "id": "919c496d"
      },
      "source": [
        "##### Kfold Cross Validation on all the models(Using a kfold of size = 5)"
      ]
    },
    {
      "cell_type": "code",
      "execution_count": 94,
      "id": "2da74a37",
      "metadata": {
        "execution": {
          "iopub.execute_input": "2022-08-10T12:10:11.597476Z",
          "iopub.status.busy": "2022-08-10T12:10:11.596712Z",
          "iopub.status.idle": "2022-08-10T12:10:11.602172Z",
          "shell.execute_reply": "2022-08-10T12:10:11.600959Z"
        },
        "papermill": {
          "duration": 0.036109,
          "end_time": "2022-08-10T12:10:11.604520",
          "exception": false,
          "start_time": "2022-08-10T12:10:11.568411",
          "status": "completed"
        },
        "tags": [],
        "id": "2da74a37"
      },
      "outputs": [],
      "source": [
        "from sklearn.model_selection import KFold\n",
        "from sklearn.model_selection import cross_val_score"
      ]
    },
    {
      "cell_type": "code",
      "execution_count": 95,
      "id": "46be2632",
      "metadata": {
        "execution": {
          "iopub.execute_input": "2022-08-10T12:10:11.660242Z",
          "iopub.status.busy": "2022-08-10T12:10:11.659497Z",
          "iopub.status.idle": "2022-08-10T12:10:11.667983Z",
          "shell.execute_reply": "2022-08-10T12:10:11.666974Z"
        },
        "papermill": {
          "duration": 0.039208,
          "end_time": "2022-08-10T12:10:11.670570",
          "exception": false,
          "start_time": "2022-08-10T12:10:11.631362",
          "status": "completed"
        },
        "tags": [],
        "id": "46be2632"
      },
      "outputs": [],
      "source": [
        "models = {}\n",
        "\n",
        "models[\"KNeighborsRegressor\"]={\"model\":KNeighborsRegressor(n_neighbors=50)}\n",
        "models[\"LinearRegression\"]={\"model\":LinearRegression()}\n",
        "models[\"XGBRegressor\"]={\"model\":xgb.XGBRegressor(n_jobs=5,learning_rate=0.1,max_depth=10,random_state=1)}\n",
        "models[\"RandomForestRegressor\"]={\"model\":RandomForestRegressor(n_estimators=50,max_depth=10)}\n",
        "models['GradientBoostingRegressor'] = {'model':GradientBoostingRegressor(n_estimators=50,max_depth=10)}"
      ]
    },
    {
      "cell_type": "code",
      "execution_count": 96,
      "id": "ad025f00",
      "metadata": {
        "execution": {
          "iopub.execute_input": "2022-08-10T12:10:11.726845Z",
          "iopub.status.busy": "2022-08-10T12:10:11.725675Z",
          "iopub.status.idle": "2022-08-10T12:10:11.737762Z",
          "shell.execute_reply": "2022-08-10T12:10:11.736671Z"
        },
        "papermill": {
          "duration": 0.043418,
          "end_time": "2022-08-10T12:10:11.740782",
          "exception": false,
          "start_time": "2022-08-10T12:10:11.697364",
          "status": "completed"
        },
        "tags": [],
        "id": "ad025f00"
      },
      "outputs": [],
      "source": [
        "X = final_data.drop('price',axis=1)\n",
        "y = final_data['price']"
      ]
    },
    {
      "cell_type": "markdown",
      "id": "6546a1f7",
      "metadata": {
        "papermill": {
          "duration": 0.027642,
          "end_time": "2022-08-10T12:10:11.796250",
          "exception": false,
          "start_time": "2022-08-10T12:10:11.768608",
          "status": "completed"
        },
        "tags": [],
        "id": "6546a1f7"
      },
      "source": [
        "### Manual KFold Cross Validation"
      ]
    },
    {
      "cell_type": "code",
      "execution_count": 97,
      "id": "3594aef0",
      "metadata": {
        "execution": {
          "iopub.execute_input": "2022-08-10T12:10:11.853301Z",
          "iopub.status.busy": "2022-08-10T12:10:11.852513Z",
          "iopub.status.idle": "2022-08-10T12:10:11.857055Z",
          "shell.execute_reply": "2022-08-10T12:10:11.856045Z"
        },
        "papermill": {
          "duration": 0.035715,
          "end_time": "2022-08-10T12:10:11.859768",
          "exception": false,
          "start_time": "2022-08-10T12:10:11.824053",
          "status": "completed"
        },
        "tags": [],
        "id": "3594aef0"
      },
      "outputs": [],
      "source": [
        "# def get_score(model,xtrain,xtest,ytrain,ytest):\n",
        "#     model.fit(xtrain,ytrain)\n",
        "#     score = model.socre(xtest,ytest)\n",
        "#     return score\n",
        "\n",
        "# for train_index,test_index in cv.split(X,y):\n",
        "#     xtrain = X.loc[train_index]\n",
        "#     ytrain = y.loc[train_index]\n",
        "#     xtest = X.loc[test_index]\n",
        "#     ytest = y.loc[test_index]\n",
        "#     print(get_scores(model,xtrain,xtest,ytrain,ytest))"
      ]
    },
    {
      "cell_type": "markdown",
      "id": "63c6565d",
      "metadata": {
        "papermill": {
          "duration": 0.026188,
          "end_time": "2022-08-10T12:10:11.915483",
          "exception": false,
          "start_time": "2022-08-10T12:10:11.889295",
          "status": "completed"
        },
        "tags": [],
        "id": "63c6565d"
      },
      "source": [
        "### Automatic Kfold Cross validation"
      ]
    },
    {
      "cell_type": "code",
      "execution_count": 98,
      "id": "15e126ec",
      "metadata": {
        "execution": {
          "iopub.execute_input": "2022-08-10T12:10:11.971925Z",
          "iopub.status.busy": "2022-08-10T12:10:11.970942Z",
          "iopub.status.idle": "2022-08-10T12:15:49.976304Z",
          "shell.execute_reply": "2022-08-10T12:15:49.974695Z"
        },
        "papermill": {
          "duration": 338.063747,
          "end_time": "2022-08-10T12:15:50.005909",
          "exception": false,
          "start_time": "2022-08-10T12:10:11.942162",
          "status": "completed"
        },
        "tags": [],
        "id": "15e126ec",
        "outputId": "727357e6-8cb6-4a54-bdf5-8f983d5e79fb",
        "colab": {
          "base_uri": "https://localhost:8080/"
        }
      },
      "outputs": [
        {
          "output_type": "stream",
          "name": "stdout",
          "text": [
            "KNeighborsRegressor(n_neighbors=50)\n",
            "[-2.10735025e+01 -3.51099569e+01 -3.31673997e+01 -2.40572904e-02\n",
            " -9.31749582e+00]\n",
            "LinearRegression()\n",
            "[-0.2069986  -0.2036236  -0.15840652  0.83777416  0.07672315]\n",
            "XGBRegressor(base_score=None, booster=None, callbacks=None,\n",
            "             colsample_bylevel=None, colsample_bynode=None,\n",
            "             colsample_bytree=None, early_stopping_rounds=None,\n",
            "             enable_categorical=False, eval_metric=None, feature_types=None,\n",
            "             gamma=None, gpu_id=None, grow_policy=None, importance_type=None,\n",
            "             interaction_constraints=None, learning_rate=0.1, max_bin=None,\n",
            "             max_cat_threshold=None, max_cat_to_onehot=None,\n",
            "             max_delta_step=None, max_depth=10, max_leaves=None,\n",
            "             min_child_weight=None, missing=nan, monotone_constraints=None,\n",
            "             n_estimators=100, n_jobs=5, num_parallel_tree=None, predictor=None,\n",
            "             random_state=1, ...)\n",
            "[0.57915368 0.59646649 0.60685763 0.89270365 0.18023227]\n",
            "RandomForestRegressor(max_depth=10, n_estimators=50)\n",
            "[0.58896419 0.60464573 0.6180637  0.87567722 0.17533491]\n",
            "GradientBoostingRegressor(max_depth=10, n_estimators=50)\n",
            "[0.59108322 0.6036015  0.6261065  0.88996483 0.1932599 ]\n"
          ]
        }
      ],
      "source": [
        "#cross validation to get the best model\n",
        "cv = KFold(n_splits=5)\n",
        "for key,item in models.items():\n",
        "    reg_model = item['model']\n",
        "    print(item['model'])\n",
        "    score = cross_val_score(estimator=reg_model,X = X,y = y,cv=cv,scoring='r2')\n",
        "    print(score)"
      ]
    },
    {
      "cell_type": "code",
      "execution_count": null,
      "id": "d25359d3",
      "metadata": {
        "execution": {
          "iopub.execute_input": "2022-08-10T12:15:50.064125Z",
          "iopub.status.busy": "2022-08-10T12:15:50.063404Z",
          "iopub.status.idle": "2022-08-10T12:15:50.068894Z",
          "shell.execute_reply": "2022-08-10T12:15:50.067658Z"
        },
        "papermill": {
          "duration": 0.037729,
          "end_time": "2022-08-10T12:15:50.071680",
          "exception": false,
          "start_time": "2022-08-10T12:15:50.033951",
          "status": "completed"
        },
        "tags": [],
        "id": "d25359d3"
      },
      "outputs": [],
      "source": [
        "#Clearly the Gradient Boosting algorithm does better in estimating, let us explore"
      ]
    },
    {
      "cell_type": "code",
      "execution_count": 99,
      "id": "7380c7b6",
      "metadata": {
        "execution": {
          "iopub.execute_input": "2022-08-10T12:15:50.128519Z",
          "iopub.status.busy": "2022-08-10T12:15:50.128088Z",
          "iopub.status.idle": "2022-08-10T12:16:15.672703Z",
          "shell.execute_reply": "2022-08-10T12:16:15.671448Z"
        },
        "papermill": {
          "duration": 25.576401,
          "end_time": "2022-08-10T12:16:15.675592",
          "exception": false,
          "start_time": "2022-08-10T12:15:50.099191",
          "status": "completed"
        },
        "tags": [],
        "id": "7380c7b6",
        "outputId": "7503ea3f-2f11-443a-fa81-cfee86bfdb77",
        "colab": {
          "base_uri": "https://localhost:8080/",
          "height": 74
        }
      },
      "outputs": [
        {
          "output_type": "execute_result",
          "data": {
            "text/plain": [
              "GradientBoostingRegressor(max_depth=10, n_estimators=50)"
            ],
            "text/html": [
              "<style>#sk-container-id-2 {color: black;background-color: white;}#sk-container-id-2 pre{padding: 0;}#sk-container-id-2 div.sk-toggleable {background-color: white;}#sk-container-id-2 label.sk-toggleable__label {cursor: pointer;display: block;width: 100%;margin-bottom: 0;padding: 0.3em;box-sizing: border-box;text-align: center;}#sk-container-id-2 label.sk-toggleable__label-arrow:before {content: \"▸\";float: left;margin-right: 0.25em;color: #696969;}#sk-container-id-2 label.sk-toggleable__label-arrow:hover:before {color: black;}#sk-container-id-2 div.sk-estimator:hover label.sk-toggleable__label-arrow:before {color: black;}#sk-container-id-2 div.sk-toggleable__content {max-height: 0;max-width: 0;overflow: hidden;text-align: left;background-color: #f0f8ff;}#sk-container-id-2 div.sk-toggleable__content pre {margin: 0.2em;color: black;border-radius: 0.25em;background-color: #f0f8ff;}#sk-container-id-2 input.sk-toggleable__control:checked~div.sk-toggleable__content {max-height: 200px;max-width: 100%;overflow: auto;}#sk-container-id-2 input.sk-toggleable__control:checked~label.sk-toggleable__label-arrow:before {content: \"▾\";}#sk-container-id-2 div.sk-estimator input.sk-toggleable__control:checked~label.sk-toggleable__label {background-color: #d4ebff;}#sk-container-id-2 div.sk-label input.sk-toggleable__control:checked~label.sk-toggleable__label {background-color: #d4ebff;}#sk-container-id-2 input.sk-hidden--visually {border: 0;clip: rect(1px 1px 1px 1px);clip: rect(1px, 1px, 1px, 1px);height: 1px;margin: -1px;overflow: hidden;padding: 0;position: absolute;width: 1px;}#sk-container-id-2 div.sk-estimator {font-family: monospace;background-color: #f0f8ff;border: 1px dotted black;border-radius: 0.25em;box-sizing: border-box;margin-bottom: 0.5em;}#sk-container-id-2 div.sk-estimator:hover {background-color: #d4ebff;}#sk-container-id-2 div.sk-parallel-item::after {content: \"\";width: 100%;border-bottom: 1px solid gray;flex-grow: 1;}#sk-container-id-2 div.sk-label:hover label.sk-toggleable__label {background-color: #d4ebff;}#sk-container-id-2 div.sk-serial::before {content: \"\";position: absolute;border-left: 1px solid gray;box-sizing: border-box;top: 0;bottom: 0;left: 50%;z-index: 0;}#sk-container-id-2 div.sk-serial {display: flex;flex-direction: column;align-items: center;background-color: white;padding-right: 0.2em;padding-left: 0.2em;position: relative;}#sk-container-id-2 div.sk-item {position: relative;z-index: 1;}#sk-container-id-2 div.sk-parallel {display: flex;align-items: stretch;justify-content: center;background-color: white;position: relative;}#sk-container-id-2 div.sk-item::before, #sk-container-id-2 div.sk-parallel-item::before {content: \"\";position: absolute;border-left: 1px solid gray;box-sizing: border-box;top: 0;bottom: 0;left: 50%;z-index: -1;}#sk-container-id-2 div.sk-parallel-item {display: flex;flex-direction: column;z-index: 1;position: relative;background-color: white;}#sk-container-id-2 div.sk-parallel-item:first-child::after {align-self: flex-end;width: 50%;}#sk-container-id-2 div.sk-parallel-item:last-child::after {align-self: flex-start;width: 50%;}#sk-container-id-2 div.sk-parallel-item:only-child::after {width: 0;}#sk-container-id-2 div.sk-dashed-wrapped {border: 1px dashed gray;margin: 0 0.4em 0.5em 0.4em;box-sizing: border-box;padding-bottom: 0.4em;background-color: white;}#sk-container-id-2 div.sk-label label {font-family: monospace;font-weight: bold;display: inline-block;line-height: 1.2em;}#sk-container-id-2 div.sk-label-container {text-align: center;}#sk-container-id-2 div.sk-container {/* jupyter's `normalize.less` sets `[hidden] { display: none; }` but bootstrap.min.css set `[hidden] { display: none !important; }` so we also need the `!important` here to be able to override the default hidden behavior on the sphinx rendered scikit-learn.org. See: https://github.com/scikit-learn/scikit-learn/issues/21755 */display: inline-block !important;position: relative;}#sk-container-id-2 div.sk-text-repr-fallback {display: none;}</style><div id=\"sk-container-id-2\" class=\"sk-top-container\"><div class=\"sk-text-repr-fallback\"><pre>GradientBoostingRegressor(max_depth=10, n_estimators=50)</pre><b>In a Jupyter environment, please rerun this cell to show the HTML representation or trust the notebook. <br />On GitHub, the HTML representation is unable to render, please try loading this page with nbviewer.org.</b></div><div class=\"sk-container\" hidden><div class=\"sk-item\"><div class=\"sk-estimator sk-toggleable\"><input class=\"sk-toggleable__control sk-hidden--visually\" id=\"sk-estimator-id-2\" type=\"checkbox\" checked><label for=\"sk-estimator-id-2\" class=\"sk-toggleable__label sk-toggleable__label-arrow\">GradientBoostingRegressor</label><div class=\"sk-toggleable__content\"><pre>GradientBoostingRegressor(max_depth=10, n_estimators=50)</pre></div></div></div></div></div>"
            ]
          },
          "metadata": {},
          "execution_count": 99
        }
      ],
      "source": [
        "reg_model.fit(X_train,y_train)"
      ]
    },
    {
      "cell_type": "code",
      "execution_count": 114,
      "id": "8f689882",
      "metadata": {
        "execution": {
          "iopub.execute_input": "2022-08-10T12:16:15.732215Z",
          "iopub.status.busy": "2022-08-10T12:16:15.731570Z",
          "iopub.status.idle": "2022-08-10T12:16:16.136506Z",
          "shell.execute_reply": "2022-08-10T12:16:16.135229Z"
        },
        "papermill": {
          "duration": 0.436727,
          "end_time": "2022-08-10T12:16:16.139442",
          "exception": false,
          "start_time": "2022-08-10T12:16:15.702715",
          "status": "completed"
        },
        "tags": [],
        "id": "8f689882"
      },
      "outputs": [],
      "source": [
        "predicted = reg_model.predict(X_test)"
      ]
    },
    {
      "cell_type": "code",
      "execution_count": 115,
      "id": "69ea188c",
      "metadata": {
        "execution": {
          "iopub.execute_input": "2022-08-10T12:16:16.197710Z",
          "iopub.status.busy": "2022-08-10T12:16:16.197239Z",
          "iopub.status.idle": "2022-08-10T12:16:16.204139Z",
          "shell.execute_reply": "2022-08-10T12:16:16.203165Z"
        },
        "papermill": {
          "duration": 0.03829,
          "end_time": "2022-08-10T12:16:16.206551",
          "exception": false,
          "start_time": "2022-08-10T12:16:16.168261",
          "status": "completed"
        },
        "tags": [],
        "id": "69ea188c",
        "colab": {
          "base_uri": "https://localhost:8080/"
        },
        "outputId": "74fff139-c24d-48b0-e14a-3bb4e2e4eb90"
      },
      "outputs": [
        {
          "output_type": "execute_result",
          "data": {
            "text/plain": [
              "array([ 5325.94448707, 70467.26589711,  7536.18203596, ...,\n",
              "        4246.17415441,  6529.11801318, 11602.35453439])"
            ]
          },
          "metadata": {},
          "execution_count": 115
        }
      ],
      "source": [
        "predicted"
      ]
    },
    {
      "cell_type": "code",
      "execution_count": 116,
      "id": "88841abd",
      "metadata": {
        "execution": {
          "iopub.execute_input": "2022-08-10T12:16:16.263988Z",
          "iopub.status.busy": "2022-08-10T12:16:16.262839Z",
          "iopub.status.idle": "2022-08-10T12:16:16.269006Z",
          "shell.execute_reply": "2022-08-10T12:16:16.267516Z"
        },
        "papermill": {
          "duration": 0.03756,
          "end_time": "2022-08-10T12:16:16.271718",
          "exception": false,
          "start_time": "2022-08-10T12:16:16.234158",
          "status": "completed"
        },
        "tags": [],
        "id": "88841abd"
      },
      "outputs": [],
      "source": [
        "actual_values = y_test.values"
      ]
    },
    {
      "cell_type": "code",
      "execution_count": 117,
      "id": "4f919ca0",
      "metadata": {
        "execution": {
          "iopub.execute_input": "2022-08-10T12:16:16.329776Z",
          "iopub.status.busy": "2022-08-10T12:16:16.329239Z",
          "iopub.status.idle": "2022-08-10T12:16:16.335904Z",
          "shell.execute_reply": "2022-08-10T12:16:16.334677Z"
        },
        "papermill": {
          "duration": 0.038113,
          "end_time": "2022-08-10T12:16:16.338283",
          "exception": false,
          "start_time": "2022-08-10T12:16:16.300170",
          "status": "completed"
        },
        "tags": [],
        "id": "4f919ca0",
        "outputId": "6f014349-3d6b-4ec6-d400-23867ad98aa1",
        "colab": {
          "base_uri": "https://localhost:8080/"
        }
      },
      "outputs": [
        {
          "output_type": "execute_result",
          "data": {
            "text/plain": [
              "array([ 7366, 64831,  6195, ...,  5511,  5760, 11129])"
            ]
          },
          "metadata": {},
          "execution_count": 117
        }
      ],
      "source": [
        "actual_values"
      ]
    },
    {
      "cell_type": "code",
      "execution_count": 118,
      "id": "bccf6110",
      "metadata": {
        "execution": {
          "iopub.execute_input": "2022-08-10T12:16:16.396726Z",
          "iopub.status.busy": "2022-08-10T12:16:16.395843Z",
          "iopub.status.idle": "2022-08-10T12:16:16.400941Z",
          "shell.execute_reply": "2022-08-10T12:16:16.399999Z"
        },
        "papermill": {
          "duration": 0.036892,
          "end_time": "2022-08-10T12:16:16.403395",
          "exception": false,
          "start_time": "2022-08-10T12:16:16.366503",
          "status": "completed"
        },
        "tags": [],
        "id": "bccf6110"
      },
      "outputs": [],
      "source": [
        "from sklearn.metrics import mean_absolute_error"
      ]
    },
    {
      "cell_type": "code",
      "execution_count": 119,
      "id": "d1838bc1",
      "metadata": {
        "execution": {
          "iopub.execute_input": "2022-08-10T12:16:16.461879Z",
          "iopub.status.busy": "2022-08-10T12:16:16.460869Z",
          "iopub.status.idle": "2022-08-10T12:16:16.469596Z",
          "shell.execute_reply": "2022-08-10T12:16:16.468765Z"
        },
        "papermill": {
          "duration": 0.040236,
          "end_time": "2022-08-10T12:16:16.471822",
          "exception": false,
          "start_time": "2022-08-10T12:16:16.431586",
          "status": "completed"
        },
        "tags": [],
        "id": "d1838bc1",
        "outputId": "165fc999-74fb-452e-bd41-88a47999fe09",
        "colab": {
          "base_uri": "https://localhost:8080/"
        }
      },
      "outputs": [
        {
          "output_type": "execute_result",
          "data": {
            "text/plain": [
              "1922.6616992188258"
            ]
          },
          "metadata": {},
          "execution_count": 119
        }
      ],
      "source": [
        "mean_absolute_error(actual_values,predicted)"
      ]
    },
    {
      "cell_type": "code",
      "execution_count": 120,
      "id": "fa78e2c1",
      "metadata": {
        "execution": {
          "iopub.execute_input": "2022-08-10T12:16:16.530429Z",
          "iopub.status.busy": "2022-08-10T12:16:16.529713Z",
          "iopub.status.idle": "2022-08-10T12:16:16.938421Z",
          "shell.execute_reply": "2022-08-10T12:16:16.937253Z"
        },
        "papermill": {
          "duration": 0.441365,
          "end_time": "2022-08-10T12:16:16.941393",
          "exception": false,
          "start_time": "2022-08-10T12:16:16.500028",
          "status": "completed"
        },
        "tags": [],
        "id": "fa78e2c1",
        "outputId": "7c74f68d-f135-4ca4-e806-c5420bd2f09c",
        "colab": {
          "base_uri": "https://localhost:8080/"
        }
      },
      "outputs": [
        {
          "output_type": "execute_result",
          "data": {
            "text/plain": [
              "0.9760961278641936"
            ]
          },
          "metadata": {},
          "execution_count": 120
        }
      ],
      "source": [
        "reg_model.score(X_test,y_test)"
      ]
    },
    {
      "cell_type": "markdown",
      "id": "ad5bb382",
      "metadata": {
        "papermill": {
          "duration": 0.027993,
          "end_time": "2022-08-10T12:16:16.998269",
          "exception": false,
          "start_time": "2022-08-10T12:16:16.970276",
          "status": "completed"
        },
        "tags": [],
        "id": "ad5bb382"
      },
      "source": [
        "#### Hyper parameter tuning using gridsearch cv"
      ]
    },
    {
      "cell_type": "code",
      "execution_count": 107,
      "id": "0c9825d7",
      "metadata": {
        "execution": {
          "iopub.execute_input": "2022-08-10T12:16:17.057277Z",
          "iopub.status.busy": "2022-08-10T12:16:17.056849Z",
          "iopub.status.idle": "2022-08-10T12:16:17.061222Z",
          "shell.execute_reply": "2022-08-10T12:16:17.059988Z"
        },
        "papermill": {
          "duration": 0.036329,
          "end_time": "2022-08-10T12:16:17.063492",
          "exception": false,
          "start_time": "2022-08-10T12:16:17.027163",
          "status": "completed"
        },
        "tags": [],
        "id": "0c9825d7"
      },
      "outputs": [],
      "source": [
        "#The below code has already been implemented so we directly use the best parameters"
      ]
    },
    {
      "cell_type": "code",
      "execution_count": 108,
      "id": "a07aeb59",
      "metadata": {
        "execution": {
          "iopub.execute_input": "2022-08-10T12:16:17.122848Z",
          "iopub.status.busy": "2022-08-10T12:16:17.121909Z",
          "iopub.status.idle": "2022-08-10T12:16:17.127112Z",
          "shell.execute_reply": "2022-08-10T12:16:17.126057Z"
        },
        "papermill": {
          "duration": 0.037761,
          "end_time": "2022-08-10T12:16:17.129497",
          "exception": false,
          "start_time": "2022-08-10T12:16:17.091736",
          "status": "completed"
        },
        "tags": [],
        "id": "a07aeb59"
      },
      "outputs": [],
      "source": [
        "# grid_params = {'min_samples_split':[1,2,3,4],'min_samples_leaf':[1,2,3],'max_depth':[4,6,8,10],'n_estimators':[40,50,100]}\n",
        "\n",
        "# from sklearn.model_selection import GridSearchCV\n",
        "# grid = GridSearchCV(estimator=GradientBoostingRegressor(),param_grid=grid_params,n_jobs=-1,verbose=3)\n",
        "\n",
        "# grid.fit(X_train,y_train)"
      ]
    },
    {
      "cell_type": "code",
      "execution_count": 109,
      "id": "5b6d5602",
      "metadata": {
        "execution": {
          "iopub.execute_input": "2022-08-10T12:16:17.188126Z",
          "iopub.status.busy": "2022-08-10T12:16:17.187381Z",
          "iopub.status.idle": "2022-08-10T12:16:17.191535Z",
          "shell.execute_reply": "2022-08-10T12:16:17.190739Z"
        },
        "papermill": {
          "duration": 0.0363,
          "end_time": "2022-08-10T12:16:17.193877",
          "exception": false,
          "start_time": "2022-08-10T12:16:17.157577",
          "status": "completed"
        },
        "tags": [],
        "id": "5b6d5602"
      },
      "outputs": [],
      "source": [
        "# best parameters are\n",
        "# {'max_depth': 10,\n",
        "#  'min_samples_leaf': 1,\n",
        "#  'min_samples_split': 2,\n",
        "#  'n_estimators': 100}"
      ]
    },
    {
      "cell_type": "code",
      "execution_count": 121,
      "id": "33071afc",
      "metadata": {
        "execution": {
          "iopub.execute_input": "2022-08-10T12:16:17.254810Z",
          "iopub.status.busy": "2022-08-10T12:16:17.254051Z",
          "iopub.status.idle": "2022-08-10T12:16:17.258613Z",
          "shell.execute_reply": "2022-08-10T12:16:17.257830Z"
        },
        "papermill": {
          "duration": 0.036517,
          "end_time": "2022-08-10T12:16:17.261002",
          "exception": false,
          "start_time": "2022-08-10T12:16:17.224485",
          "status": "completed"
        },
        "tags": [],
        "id": "33071afc"
      },
      "outputs": [],
      "source": [
        "final_model = GradientBoostingRegressor(max_depth=100,min_samples_leaf=1,min_samples_split=2,n_estimators=100)"
      ]
    },
    {
      "cell_type": "code",
      "execution_count": 122,
      "id": "18a6a6a5",
      "metadata": {
        "execution": {
          "iopub.execute_input": "2022-08-10T12:16:17.319670Z",
          "iopub.status.busy": "2022-08-10T12:16:17.318924Z",
          "iopub.status.idle": "2022-08-10T12:17:53.289367Z",
          "shell.execute_reply": "2022-08-10T12:17:53.288427Z"
        },
        "papermill": {
          "duration": 96.029352,
          "end_time": "2022-08-10T12:17:53.318708",
          "exception": false,
          "start_time": "2022-08-10T12:16:17.289356",
          "status": "completed"
        },
        "tags": [],
        "id": "18a6a6a5",
        "outputId": "460cbf1f-7599-4d30-bc85-1aebd6804fb4",
        "colab": {
          "base_uri": "https://localhost:8080/",
          "height": 74
        }
      },
      "outputs": [
        {
          "output_type": "execute_result",
          "data": {
            "text/plain": [
              "GradientBoostingRegressor(max_depth=100)"
            ],
            "text/html": [
              "<style>#sk-container-id-4 {color: black;background-color: white;}#sk-container-id-4 pre{padding: 0;}#sk-container-id-4 div.sk-toggleable {background-color: white;}#sk-container-id-4 label.sk-toggleable__label {cursor: pointer;display: block;width: 100%;margin-bottom: 0;padding: 0.3em;box-sizing: border-box;text-align: center;}#sk-container-id-4 label.sk-toggleable__label-arrow:before {content: \"▸\";float: left;margin-right: 0.25em;color: #696969;}#sk-container-id-4 label.sk-toggleable__label-arrow:hover:before {color: black;}#sk-container-id-4 div.sk-estimator:hover label.sk-toggleable__label-arrow:before {color: black;}#sk-container-id-4 div.sk-toggleable__content {max-height: 0;max-width: 0;overflow: hidden;text-align: left;background-color: #f0f8ff;}#sk-container-id-4 div.sk-toggleable__content pre {margin: 0.2em;color: black;border-radius: 0.25em;background-color: #f0f8ff;}#sk-container-id-4 input.sk-toggleable__control:checked~div.sk-toggleable__content {max-height: 200px;max-width: 100%;overflow: auto;}#sk-container-id-4 input.sk-toggleable__control:checked~label.sk-toggleable__label-arrow:before {content: \"▾\";}#sk-container-id-4 div.sk-estimator input.sk-toggleable__control:checked~label.sk-toggleable__label {background-color: #d4ebff;}#sk-container-id-4 div.sk-label input.sk-toggleable__control:checked~label.sk-toggleable__label {background-color: #d4ebff;}#sk-container-id-4 input.sk-hidden--visually {border: 0;clip: rect(1px 1px 1px 1px);clip: rect(1px, 1px, 1px, 1px);height: 1px;margin: -1px;overflow: hidden;padding: 0;position: absolute;width: 1px;}#sk-container-id-4 div.sk-estimator {font-family: monospace;background-color: #f0f8ff;border: 1px dotted black;border-radius: 0.25em;box-sizing: border-box;margin-bottom: 0.5em;}#sk-container-id-4 div.sk-estimator:hover {background-color: #d4ebff;}#sk-container-id-4 div.sk-parallel-item::after {content: \"\";width: 100%;border-bottom: 1px solid gray;flex-grow: 1;}#sk-container-id-4 div.sk-label:hover label.sk-toggleable__label {background-color: #d4ebff;}#sk-container-id-4 div.sk-serial::before {content: \"\";position: absolute;border-left: 1px solid gray;box-sizing: border-box;top: 0;bottom: 0;left: 50%;z-index: 0;}#sk-container-id-4 div.sk-serial {display: flex;flex-direction: column;align-items: center;background-color: white;padding-right: 0.2em;padding-left: 0.2em;position: relative;}#sk-container-id-4 div.sk-item {position: relative;z-index: 1;}#sk-container-id-4 div.sk-parallel {display: flex;align-items: stretch;justify-content: center;background-color: white;position: relative;}#sk-container-id-4 div.sk-item::before, #sk-container-id-4 div.sk-parallel-item::before {content: \"\";position: absolute;border-left: 1px solid gray;box-sizing: border-box;top: 0;bottom: 0;left: 50%;z-index: -1;}#sk-container-id-4 div.sk-parallel-item {display: flex;flex-direction: column;z-index: 1;position: relative;background-color: white;}#sk-container-id-4 div.sk-parallel-item:first-child::after {align-self: flex-end;width: 50%;}#sk-container-id-4 div.sk-parallel-item:last-child::after {align-self: flex-start;width: 50%;}#sk-container-id-4 div.sk-parallel-item:only-child::after {width: 0;}#sk-container-id-4 div.sk-dashed-wrapped {border: 1px dashed gray;margin: 0 0.4em 0.5em 0.4em;box-sizing: border-box;padding-bottom: 0.4em;background-color: white;}#sk-container-id-4 div.sk-label label {font-family: monospace;font-weight: bold;display: inline-block;line-height: 1.2em;}#sk-container-id-4 div.sk-label-container {text-align: center;}#sk-container-id-4 div.sk-container {/* jupyter's `normalize.less` sets `[hidden] { display: none; }` but bootstrap.min.css set `[hidden] { display: none !important; }` so we also need the `!important` here to be able to override the default hidden behavior on the sphinx rendered scikit-learn.org. See: https://github.com/scikit-learn/scikit-learn/issues/21755 */display: inline-block !important;position: relative;}#sk-container-id-4 div.sk-text-repr-fallback {display: none;}</style><div id=\"sk-container-id-4\" class=\"sk-top-container\"><div class=\"sk-text-repr-fallback\"><pre>GradientBoostingRegressor(max_depth=100)</pre><b>In a Jupyter environment, please rerun this cell to show the HTML representation or trust the notebook. <br />On GitHub, the HTML representation is unable to render, please try loading this page with nbviewer.org.</b></div><div class=\"sk-container\" hidden><div class=\"sk-item\"><div class=\"sk-estimator sk-toggleable\"><input class=\"sk-toggleable__control sk-hidden--visually\" id=\"sk-estimator-id-4\" type=\"checkbox\" checked><label for=\"sk-estimator-id-4\" class=\"sk-toggleable__label sk-toggleable__label-arrow\">GradientBoostingRegressor</label><div class=\"sk-toggleable__content\"><pre>GradientBoostingRegressor(max_depth=100)</pre></div></div></div></div></div>"
            ]
          },
          "metadata": {},
          "execution_count": 122
        }
      ],
      "source": [
        "final_model.fit(X_train,y_train)"
      ]
    },
    {
      "cell_type": "code",
      "execution_count": 123,
      "id": "deedeae8",
      "metadata": {
        "execution": {
          "iopub.execute_input": "2022-08-10T12:17:53.377064Z",
          "iopub.status.busy": "2022-08-10T12:17:53.376259Z",
          "iopub.status.idle": "2022-08-10T12:17:58.006781Z",
          "shell.execute_reply": "2022-08-10T12:17:58.005806Z"
        },
        "papermill": {
          "duration": 4.662423,
          "end_time": "2022-08-10T12:17:58.008966",
          "exception": false,
          "start_time": "2022-08-10T12:17:53.346543",
          "status": "completed"
        },
        "tags": [],
        "id": "deedeae8",
        "outputId": "5ecd8590-d837-44d9-8163-4f954390fdf9",
        "colab": {
          "base_uri": "https://localhost:8080/"
        }
      },
      "outputs": [
        {
          "output_type": "execute_result",
          "data": {
            "text/plain": [
              "0.9761089137353467"
            ]
          },
          "metadata": {},
          "execution_count": 123
        }
      ],
      "source": [
        "final_model.score(X_test,y_test)"
      ]
    },
    {
      "cell_type": "code",
      "execution_count": 124,
      "id": "fa49417d",
      "metadata": {
        "execution": {
          "iopub.execute_input": "2022-08-10T12:17:58.068546Z",
          "iopub.status.busy": "2022-08-10T12:17:58.067941Z",
          "iopub.status.idle": "2022-08-10T12:18:02.712684Z",
          "shell.execute_reply": "2022-08-10T12:18:02.711839Z"
        },
        "papermill": {
          "duration": 4.677583,
          "end_time": "2022-08-10T12:18:02.715078",
          "exception": false,
          "start_time": "2022-08-10T12:17:58.037495",
          "status": "completed"
        },
        "tags": [],
        "id": "fa49417d"
      },
      "outputs": [],
      "source": [
        "#Final predictions\n",
        "Predictions = final_model.predict(X_test)\n",
        "Actual = y_test.values"
      ]
    },
    {
      "cell_type": "code",
      "execution_count": 125,
      "id": "44bba15b",
      "metadata": {
        "execution": {
          "iopub.execute_input": "2022-08-10T12:18:02.774782Z",
          "iopub.status.busy": "2022-08-10T12:18:02.774349Z",
          "iopub.status.idle": "2022-08-10T12:18:18.128626Z",
          "shell.execute_reply": "2022-08-10T12:18:18.127706Z"
        },
        "papermill": {
          "duration": 15.387566,
          "end_time": "2022-08-10T12:18:18.131031",
          "exception": false,
          "start_time": "2022-08-10T12:18:02.743465",
          "status": "completed"
        },
        "tags": [],
        "id": "44bba15b",
        "outputId": "6a76b103-8665-4a5e-af10-75f71fdc017f",
        "colab": {
          "base_uri": "https://localhost:8080/",
          "height": 616
        }
      },
      "outputs": [
        {
          "output_type": "execute_result",
          "data": {
            "text/plain": [
              "<Axes: >"
            ]
          },
          "metadata": {},
          "execution_count": 125
        },
        {
          "output_type": "display_data",
          "data": {
            "text/plain": [
              "<Figure size 1000x700 with 1 Axes>"
            ],
            "image/png": "[encoded data removed]"
          },
          "metadata": {}
        }
      ],
      "source": [
        "plt.figure(figsize=(10,7))\n",
        "sns.scatterplot(x = Actual,y = Predictions)\n",
        "sns.regplot(x = Actual,y = Predictions)"
      ]
    },
    {
      "cell_type": "code",
      "execution_count": 126,
      "id": "3e962887",
      "metadata": {
        "execution": {
          "iopub.execute_input": "2022-08-10T12:18:18.193660Z",
          "iopub.status.busy": "2022-08-10T12:18:18.193030Z",
          "iopub.status.idle": "2022-08-10T12:18:18.196670Z",
          "shell.execute_reply": "2022-08-10T12:18:18.195946Z"
        },
        "papermill": {
          "duration": 0.036669,
          "end_time": "2022-08-10T12:18:18.198862",
          "exception": false,
          "start_time": "2022-08-10T12:18:18.162193",
          "status": "completed"
        },
        "tags": [],
        "id": "3e962887"
      },
      "outputs": [],
      "source": [
        "#Most of the data is along the reg fit but may be due to cause of some outliers some predictions are off"
      ]
    },
    {
      "cell_type": "code",
      "source": [
        "from google.colab import drive\n",
        "drive.mount('/content/drive')"
      ],
      "metadata": {
        "colab": {
          "base_uri": "https://localhost:8080/"
        },
        "id": "xC3XmkCrzrKt",
        "outputId": "47ee49a5-723b-4875-d5e2-c04c3e7a8089"
      },
      "id": "xC3XmkCrzrKt",
      "execution_count": 128,
      "outputs": [
        {
          "output_type": "stream",
          "name": "stdout",
          "text": [
            "Drive already mounted at /content/drive; to attempt to forcibly remount, call drive.mount(\"/content/drive\", force_remount=True).\n"
          ]
        }
      ]
    }
  ],
  "metadata": {
    "kernelspec": {
      "display_name": "Python 3 (ipykernel)",
      "language": "python",
      "name": "python3"
    },
    "language_info": {
      "codemirror_mode": {
        "name": "ipython",
        "version": 3
      },
      "file_extension": ".py",
      "mimetype": "text/x-python",
      "name": "python",
      "nbconvert_exporter": "python",
      "pygments_lexer": "ipython3",
      "version": "3.9.12"
    },
    "papermill": {
      "default_parameters": {},
      "duration": 516.576114,
      "end_time": "2022-08-10T12:18:19.260180",
      "environment_variables": {},
      "exception": null,
      "input_path": "__notebook__.ipynb",
      "output_path": "__notebook__.ipynb",
      "parameters": {},
      "start_time": "2022-08-10T12:09:42.684066",
      "version": "2.3.4"
    },
    "colab": {
      "provenance": []
    }
  },
  "nbformat": 4,
  "nbformat_minor": 5
}